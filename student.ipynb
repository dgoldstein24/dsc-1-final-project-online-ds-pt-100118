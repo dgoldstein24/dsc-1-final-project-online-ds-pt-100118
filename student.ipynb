{
 "cells": [
  {
   "cell_type": "markdown",
   "metadata": {},
   "source": [
    "## Final Project Submission\n",
    "\n",
    "Please fill out:\n",
    "* Student name: \n",
    "* Student pace: self paced / part time / full time\n",
    "* Scheduled project review date/time: \n",
    "* Instructor name: \n",
    "* Blog post URL:\n"
   ]
  },
  {
   "cell_type": "markdown",
   "metadata": {},
   "source": [
    "David Goldstein. Part Time. December 6 at 10 am. Jeff Herman\n"
   ]
  },
  {
   "cell_type": "code",
   "execution_count": 1,
   "metadata": {},
   "outputs": [],
   "source": [
    "# Your code here - remember to use markdown cells for comments as well!"
   ]
  },
  {
   "cell_type": "code",
   "execution_count": 153,
   "metadata": {},
   "outputs": [],
   "source": [
    "#import\n",
    "import pandas as pd\n",
    "import numpy as np\n",
    "import matplotlib.pyplot as plt\n",
    "import seaborn as sns\n",
    "plt.style.use('seaborn')\n",
    "import statsmodels.formula.api as sm\n",
    "\n",
    "\n",
    "from sklearn.feature_selection import RFE\n",
    "\n",
    "from sklearn.linear_model import LinearRegression\n",
    "\n",
    "from sklearn.model_selection import cross_val_score as cv_method\n",
    "from sklearn.model_selection import train_test_split\n",
    "\n",
    "from sklearn.preprocessing import LabelEncoder\n",
    "from sklearn.preprocessing import LabelBinarizer\n",
    "\n",
    "from sklearn.metrics import mean_squared_error\n",
    "\n",
    "\n",
    "\n",
    "\n",
    "\n",
    "from scipy.stats import kurtosis, skew"
   ]
  },
  {
   "cell_type": "markdown",
   "metadata": {},
   "source": [
    "### Obtain Data"
   ]
  },
  {
   "cell_type": "code",
   "execution_count": 3,
   "metadata": {},
   "outputs": [],
   "source": [
    "#read in data\n",
    "kc = pd.read_csv('kc_house_data.csv')"
   ]
  },
  {
   "cell_type": "code",
   "execution_count": 4,
   "metadata": {},
   "outputs": [
    {
     "data": {
      "text/html": [
       "<div>\n",
       "<style scoped>\n",
       "    .dataframe tbody tr th:only-of-type {\n",
       "        vertical-align: middle;\n",
       "    }\n",
       "\n",
       "    .dataframe tbody tr th {\n",
       "        vertical-align: top;\n",
       "    }\n",
       "\n",
       "    .dataframe thead th {\n",
       "        text-align: right;\n",
       "    }\n",
       "</style>\n",
       "<table border=\"1\" class=\"dataframe\">\n",
       "  <thead>\n",
       "    <tr style=\"text-align: right;\">\n",
       "      <th></th>\n",
       "      <th>id</th>\n",
       "      <th>date</th>\n",
       "      <th>price</th>\n",
       "      <th>bedrooms</th>\n",
       "      <th>bathrooms</th>\n",
       "      <th>sqft_living</th>\n",
       "      <th>sqft_lot</th>\n",
       "      <th>floors</th>\n",
       "      <th>waterfront</th>\n",
       "      <th>view</th>\n",
       "      <th>...</th>\n",
       "      <th>grade</th>\n",
       "      <th>sqft_above</th>\n",
       "      <th>sqft_basement</th>\n",
       "      <th>yr_built</th>\n",
       "      <th>yr_renovated</th>\n",
       "      <th>zipcode</th>\n",
       "      <th>lat</th>\n",
       "      <th>long</th>\n",
       "      <th>sqft_living15</th>\n",
       "      <th>sqft_lot15</th>\n",
       "    </tr>\n",
       "  </thead>\n",
       "  <tbody>\n",
       "    <tr>\n",
       "      <th>0</th>\n",
       "      <td>7129300520</td>\n",
       "      <td>10/13/2014</td>\n",
       "      <td>221900.0</td>\n",
       "      <td>3</td>\n",
       "      <td>1.00</td>\n",
       "      <td>1180</td>\n",
       "      <td>5650</td>\n",
       "      <td>1.0</td>\n",
       "      <td>NaN</td>\n",
       "      <td>0.0</td>\n",
       "      <td>...</td>\n",
       "      <td>7</td>\n",
       "      <td>1180</td>\n",
       "      <td>0.0</td>\n",
       "      <td>1955</td>\n",
       "      <td>0.0</td>\n",
       "      <td>98178</td>\n",
       "      <td>47.5112</td>\n",
       "      <td>-122.257</td>\n",
       "      <td>1340</td>\n",
       "      <td>5650</td>\n",
       "    </tr>\n",
       "    <tr>\n",
       "      <th>1</th>\n",
       "      <td>6414100192</td>\n",
       "      <td>12/9/2014</td>\n",
       "      <td>538000.0</td>\n",
       "      <td>3</td>\n",
       "      <td>2.25</td>\n",
       "      <td>2570</td>\n",
       "      <td>7242</td>\n",
       "      <td>2.0</td>\n",
       "      <td>0.0</td>\n",
       "      <td>0.0</td>\n",
       "      <td>...</td>\n",
       "      <td>7</td>\n",
       "      <td>2170</td>\n",
       "      <td>400.0</td>\n",
       "      <td>1951</td>\n",
       "      <td>1991.0</td>\n",
       "      <td>98125</td>\n",
       "      <td>47.7210</td>\n",
       "      <td>-122.319</td>\n",
       "      <td>1690</td>\n",
       "      <td>7639</td>\n",
       "    </tr>\n",
       "    <tr>\n",
       "      <th>2</th>\n",
       "      <td>5631500400</td>\n",
       "      <td>2/25/2015</td>\n",
       "      <td>180000.0</td>\n",
       "      <td>2</td>\n",
       "      <td>1.00</td>\n",
       "      <td>770</td>\n",
       "      <td>10000</td>\n",
       "      <td>1.0</td>\n",
       "      <td>0.0</td>\n",
       "      <td>0.0</td>\n",
       "      <td>...</td>\n",
       "      <td>6</td>\n",
       "      <td>770</td>\n",
       "      <td>0.0</td>\n",
       "      <td>1933</td>\n",
       "      <td>NaN</td>\n",
       "      <td>98028</td>\n",
       "      <td>47.7379</td>\n",
       "      <td>-122.233</td>\n",
       "      <td>2720</td>\n",
       "      <td>8062</td>\n",
       "    </tr>\n",
       "    <tr>\n",
       "      <th>3</th>\n",
       "      <td>2487200875</td>\n",
       "      <td>12/9/2014</td>\n",
       "      <td>604000.0</td>\n",
       "      <td>4</td>\n",
       "      <td>3.00</td>\n",
       "      <td>1960</td>\n",
       "      <td>5000</td>\n",
       "      <td>1.0</td>\n",
       "      <td>0.0</td>\n",
       "      <td>0.0</td>\n",
       "      <td>...</td>\n",
       "      <td>7</td>\n",
       "      <td>1050</td>\n",
       "      <td>910.0</td>\n",
       "      <td>1965</td>\n",
       "      <td>0.0</td>\n",
       "      <td>98136</td>\n",
       "      <td>47.5208</td>\n",
       "      <td>-122.393</td>\n",
       "      <td>1360</td>\n",
       "      <td>5000</td>\n",
       "    </tr>\n",
       "    <tr>\n",
       "      <th>4</th>\n",
       "      <td>1954400510</td>\n",
       "      <td>2/18/2015</td>\n",
       "      <td>510000.0</td>\n",
       "      <td>3</td>\n",
       "      <td>2.00</td>\n",
       "      <td>1680</td>\n",
       "      <td>8080</td>\n",
       "      <td>1.0</td>\n",
       "      <td>0.0</td>\n",
       "      <td>0.0</td>\n",
       "      <td>...</td>\n",
       "      <td>8</td>\n",
       "      <td>1680</td>\n",
       "      <td>0.0</td>\n",
       "      <td>1987</td>\n",
       "      <td>0.0</td>\n",
       "      <td>98074</td>\n",
       "      <td>47.6168</td>\n",
       "      <td>-122.045</td>\n",
       "      <td>1800</td>\n",
       "      <td>7503</td>\n",
       "    </tr>\n",
       "  </tbody>\n",
       "</table>\n",
       "<p>5 rows × 21 columns</p>\n",
       "</div>"
      ],
      "text/plain": [
       "           id        date     price  bedrooms  bathrooms  sqft_living  \\\n",
       "0  7129300520  10/13/2014  221900.0         3       1.00         1180   \n",
       "1  6414100192   12/9/2014  538000.0         3       2.25         2570   \n",
       "2  5631500400   2/25/2015  180000.0         2       1.00          770   \n",
       "3  2487200875   12/9/2014  604000.0         4       3.00         1960   \n",
       "4  1954400510   2/18/2015  510000.0         3       2.00         1680   \n",
       "\n",
       "   sqft_lot  floors  waterfront  view     ...      grade  sqft_above  \\\n",
       "0      5650     1.0         NaN   0.0     ...          7        1180   \n",
       "1      7242     2.0         0.0   0.0     ...          7        2170   \n",
       "2     10000     1.0         0.0   0.0     ...          6         770   \n",
       "3      5000     1.0         0.0   0.0     ...          7        1050   \n",
       "4      8080     1.0         0.0   0.0     ...          8        1680   \n",
       "\n",
       "   sqft_basement yr_built  yr_renovated  zipcode      lat     long  \\\n",
       "0            0.0     1955           0.0    98178  47.5112 -122.257   \n",
       "1          400.0     1951        1991.0    98125  47.7210 -122.319   \n",
       "2            0.0     1933           NaN    98028  47.7379 -122.233   \n",
       "3          910.0     1965           0.0    98136  47.5208 -122.393   \n",
       "4            0.0     1987           0.0    98074  47.6168 -122.045   \n",
       "\n",
       "   sqft_living15  sqft_lot15  \n",
       "0           1340        5650  \n",
       "1           1690        7639  \n",
       "2           2720        8062  \n",
       "3           1360        5000  \n",
       "4           1800        7503  \n",
       "\n",
       "[5 rows x 21 columns]"
      ]
     },
     "execution_count": 4,
     "metadata": {},
     "output_type": "execute_result"
    }
   ],
   "source": [
    "kc.head()\n",
    "#target = price"
   ]
  },
  {
   "cell_type": "markdown",
   "metadata": {},
   "source": [
    "### Scrub Data"
   ]
  },
  {
   "cell_type": "code",
   "execution_count": 5,
   "metadata": {},
   "outputs": [
    {
     "name": "stdout",
     "output_type": "stream",
     "text": [
      "<class 'pandas.core.frame.DataFrame'>\n",
      "RangeIndex: 21597 entries, 0 to 21596\n",
      "Data columns (total 21 columns):\n",
      "id               21597 non-null int64\n",
      "date             21597 non-null object\n",
      "price            21597 non-null float64\n",
      "bedrooms         21597 non-null int64\n",
      "bathrooms        21597 non-null float64\n",
      "sqft_living      21597 non-null int64\n",
      "sqft_lot         21597 non-null int64\n",
      "floors           21597 non-null float64\n",
      "waterfront       19221 non-null float64\n",
      "view             21534 non-null float64\n",
      "condition        21597 non-null int64\n",
      "grade            21597 non-null int64\n",
      "sqft_above       21597 non-null int64\n",
      "sqft_basement    21597 non-null object\n",
      "yr_built         21597 non-null int64\n",
      "yr_renovated     17755 non-null float64\n",
      "zipcode          21597 non-null int64\n",
      "lat              21597 non-null float64\n",
      "long             21597 non-null float64\n",
      "sqft_living15    21597 non-null int64\n",
      "sqft_lot15       21597 non-null int64\n",
      "dtypes: float64(8), int64(11), object(2)\n",
      "memory usage: 3.5+ MB\n"
     ]
    }
   ],
   "source": [
    "kc.info()"
   ]
  },
  {
   "cell_type": "code",
   "execution_count": 6,
   "metadata": {},
   "outputs": [],
   "source": [
    "#Need to convert ? to float before changing column\n",
    "#Convert to median\n",
    "#Need to find median without ?"
   ]
  },
  {
   "cell_type": "code",
   "execution_count": 7,
   "metadata": {},
   "outputs": [],
   "source": [
    "kc['sqft_basement'].value_counts()\n",
    "#454 values are ?\n",
    "\n",
    "basement = kc[kc.sqft_basement != '?']"
   ]
  },
  {
   "cell_type": "code",
   "execution_count": 8,
   "metadata": {},
   "outputs": [
    {
     "data": {
      "text/plain": [
       "0"
      ]
     },
     "execution_count": 8,
     "metadata": {},
     "output_type": "execute_result"
    }
   ],
   "source": [
    "sum(basement.sqft_basement == '?')\n",
    "#? removed confirmed"
   ]
  },
  {
   "cell_type": "code",
   "execution_count": 9,
   "metadata": {},
   "outputs": [
    {
     "name": "stderr",
     "output_type": "stream",
     "text": [
      "/Users/dgoldstein24/anaconda3/lib/python3.6/site-packages/pandas/core/generic.py:4401: SettingWithCopyWarning: \n",
      "A value is trying to be set on a copy of a slice from a DataFrame.\n",
      "Try using .loc[row_indexer,col_indexer] = value instead\n",
      "\n",
      "See the caveats in the documentation: http://pandas.pydata.org/pandas-docs/stable/indexing.html#indexing-view-versus-copy\n",
      "  self[name] = value\n"
     ]
    }
   ],
   "source": [
    "basement.sqft_basement = basement.sqft_basement.astype(float)"
   ]
  },
  {
   "cell_type": "code",
   "execution_count": 10,
   "metadata": {},
   "outputs": [
    {
     "name": "stdout",
     "output_type": "stream",
     "text": [
      "<class 'pandas.core.frame.DataFrame'>\n",
      "Int64Index: 21143 entries, 0 to 21596\n",
      "Data columns (total 21 columns):\n",
      "id               21143 non-null int64\n",
      "date             21143 non-null object\n",
      "price            21143 non-null float64\n",
      "bedrooms         21143 non-null int64\n",
      "bathrooms        21143 non-null float64\n",
      "sqft_living      21143 non-null int64\n",
      "sqft_lot         21143 non-null int64\n",
      "floors           21143 non-null float64\n",
      "waterfront       18804 non-null float64\n",
      "view             21082 non-null float64\n",
      "condition        21143 non-null int64\n",
      "grade            21143 non-null int64\n",
      "sqft_above       21143 non-null int64\n",
      "sqft_basement    21143 non-null float64\n",
      "yr_built         21143 non-null int64\n",
      "yr_renovated     17389 non-null float64\n",
      "zipcode          21143 non-null int64\n",
      "lat              21143 non-null float64\n",
      "long             21143 non-null float64\n",
      "sqft_living15    21143 non-null int64\n",
      "sqft_lot15       21143 non-null int64\n",
      "dtypes: float64(9), int64(11), object(1)\n",
      "memory usage: 3.5+ MB\n"
     ]
    }
   ],
   "source": [
    "basement.info()"
   ]
  },
  {
   "cell_type": "code",
   "execution_count": 11,
   "metadata": {},
   "outputs": [
    {
     "data": {
      "text/plain": [
       "291.851723974838"
      ]
     },
     "execution_count": 11,
     "metadata": {},
     "output_type": "execute_result"
    }
   ],
   "source": [
    "basement.sqft_basement.median()\n",
    "basement.sqft_basement.mean()\n",
    "\n",
    "#median is 0\n",
    "#mean is 291.8"
   ]
  },
  {
   "cell_type": "code",
   "execution_count": 12,
   "metadata": {},
   "outputs": [],
   "source": [
    "basement_median = basement.sqft_basement.median()"
   ]
  },
  {
   "cell_type": "code",
   "execution_count": 13,
   "metadata": {},
   "outputs": [],
   "source": [
    "kc.sqft_basement = kc['sqft_basement'].map(lambda x: basement_median if x == '?' else float(x))\n",
    "#basement is now a float column with no ?"
   ]
  },
  {
   "cell_type": "code",
   "execution_count": 14,
   "metadata": {},
   "outputs": [],
   "source": [
    "#Get rid of last object category - date\n",
    "kc = kc.drop(['date'], axis = 1)"
   ]
  },
  {
   "cell_type": "code",
   "execution_count": 15,
   "metadata": {},
   "outputs": [
    {
     "data": {
      "text/html": [
       "<div>\n",
       "<style scoped>\n",
       "    .dataframe tbody tr th:only-of-type {\n",
       "        vertical-align: middle;\n",
       "    }\n",
       "\n",
       "    .dataframe tbody tr th {\n",
       "        vertical-align: top;\n",
       "    }\n",
       "\n",
       "    .dataframe thead th {\n",
       "        text-align: right;\n",
       "    }\n",
       "</style>\n",
       "<table border=\"1\" class=\"dataframe\">\n",
       "  <thead>\n",
       "    <tr style=\"text-align: right;\">\n",
       "      <th></th>\n",
       "      <th>id</th>\n",
       "      <th>price</th>\n",
       "      <th>bedrooms</th>\n",
       "      <th>bathrooms</th>\n",
       "      <th>sqft_living</th>\n",
       "      <th>sqft_lot</th>\n",
       "      <th>floors</th>\n",
       "      <th>waterfront</th>\n",
       "      <th>view</th>\n",
       "      <th>condition</th>\n",
       "      <th>grade</th>\n",
       "      <th>sqft_above</th>\n",
       "      <th>sqft_basement</th>\n",
       "      <th>yr_built</th>\n",
       "      <th>yr_renovated</th>\n",
       "      <th>zipcode</th>\n",
       "      <th>lat</th>\n",
       "      <th>long</th>\n",
       "      <th>sqft_living15</th>\n",
       "      <th>sqft_lot15</th>\n",
       "    </tr>\n",
       "  </thead>\n",
       "  <tbody>\n",
       "    <tr>\n",
       "      <th>0</th>\n",
       "      <td>7129300520</td>\n",
       "      <td>221900.0</td>\n",
       "      <td>3</td>\n",
       "      <td>1.00</td>\n",
       "      <td>1180</td>\n",
       "      <td>5650</td>\n",
       "      <td>1.0</td>\n",
       "      <td>NaN</td>\n",
       "      <td>0.0</td>\n",
       "      <td>3</td>\n",
       "      <td>7</td>\n",
       "      <td>1180</td>\n",
       "      <td>0.0</td>\n",
       "      <td>1955</td>\n",
       "      <td>0.0</td>\n",
       "      <td>98178</td>\n",
       "      <td>47.5112</td>\n",
       "      <td>-122.257</td>\n",
       "      <td>1340</td>\n",
       "      <td>5650</td>\n",
       "    </tr>\n",
       "    <tr>\n",
       "      <th>1</th>\n",
       "      <td>6414100192</td>\n",
       "      <td>538000.0</td>\n",
       "      <td>3</td>\n",
       "      <td>2.25</td>\n",
       "      <td>2570</td>\n",
       "      <td>7242</td>\n",
       "      <td>2.0</td>\n",
       "      <td>0.0</td>\n",
       "      <td>0.0</td>\n",
       "      <td>3</td>\n",
       "      <td>7</td>\n",
       "      <td>2170</td>\n",
       "      <td>400.0</td>\n",
       "      <td>1951</td>\n",
       "      <td>1991.0</td>\n",
       "      <td>98125</td>\n",
       "      <td>47.7210</td>\n",
       "      <td>-122.319</td>\n",
       "      <td>1690</td>\n",
       "      <td>7639</td>\n",
       "    </tr>\n",
       "    <tr>\n",
       "      <th>2</th>\n",
       "      <td>5631500400</td>\n",
       "      <td>180000.0</td>\n",
       "      <td>2</td>\n",
       "      <td>1.00</td>\n",
       "      <td>770</td>\n",
       "      <td>10000</td>\n",
       "      <td>1.0</td>\n",
       "      <td>0.0</td>\n",
       "      <td>0.0</td>\n",
       "      <td>3</td>\n",
       "      <td>6</td>\n",
       "      <td>770</td>\n",
       "      <td>0.0</td>\n",
       "      <td>1933</td>\n",
       "      <td>NaN</td>\n",
       "      <td>98028</td>\n",
       "      <td>47.7379</td>\n",
       "      <td>-122.233</td>\n",
       "      <td>2720</td>\n",
       "      <td>8062</td>\n",
       "    </tr>\n",
       "    <tr>\n",
       "      <th>3</th>\n",
       "      <td>2487200875</td>\n",
       "      <td>604000.0</td>\n",
       "      <td>4</td>\n",
       "      <td>3.00</td>\n",
       "      <td>1960</td>\n",
       "      <td>5000</td>\n",
       "      <td>1.0</td>\n",
       "      <td>0.0</td>\n",
       "      <td>0.0</td>\n",
       "      <td>5</td>\n",
       "      <td>7</td>\n",
       "      <td>1050</td>\n",
       "      <td>910.0</td>\n",
       "      <td>1965</td>\n",
       "      <td>0.0</td>\n",
       "      <td>98136</td>\n",
       "      <td>47.5208</td>\n",
       "      <td>-122.393</td>\n",
       "      <td>1360</td>\n",
       "      <td>5000</td>\n",
       "    </tr>\n",
       "    <tr>\n",
       "      <th>4</th>\n",
       "      <td>1954400510</td>\n",
       "      <td>510000.0</td>\n",
       "      <td>3</td>\n",
       "      <td>2.00</td>\n",
       "      <td>1680</td>\n",
       "      <td>8080</td>\n",
       "      <td>1.0</td>\n",
       "      <td>0.0</td>\n",
       "      <td>0.0</td>\n",
       "      <td>3</td>\n",
       "      <td>8</td>\n",
       "      <td>1680</td>\n",
       "      <td>0.0</td>\n",
       "      <td>1987</td>\n",
       "      <td>0.0</td>\n",
       "      <td>98074</td>\n",
       "      <td>47.6168</td>\n",
       "      <td>-122.045</td>\n",
       "      <td>1800</td>\n",
       "      <td>7503</td>\n",
       "    </tr>\n",
       "  </tbody>\n",
       "</table>\n",
       "</div>"
      ],
      "text/plain": [
       "           id     price  bedrooms  bathrooms  sqft_living  sqft_lot  floors  \\\n",
       "0  7129300520  221900.0         3       1.00         1180      5650     1.0   \n",
       "1  6414100192  538000.0         3       2.25         2570      7242     2.0   \n",
       "2  5631500400  180000.0         2       1.00          770     10000     1.0   \n",
       "3  2487200875  604000.0         4       3.00         1960      5000     1.0   \n",
       "4  1954400510  510000.0         3       2.00         1680      8080     1.0   \n",
       "\n",
       "   waterfront  view  condition  grade  sqft_above  sqft_basement  yr_built  \\\n",
       "0         NaN   0.0          3      7        1180            0.0      1955   \n",
       "1         0.0   0.0          3      7        2170          400.0      1951   \n",
       "2         0.0   0.0          3      6         770            0.0      1933   \n",
       "3         0.0   0.0          5      7        1050          910.0      1965   \n",
       "4         0.0   0.0          3      8        1680            0.0      1987   \n",
       "\n",
       "   yr_renovated  zipcode      lat     long  sqft_living15  sqft_lot15  \n",
       "0           0.0    98178  47.5112 -122.257           1340        5650  \n",
       "1        1991.0    98125  47.7210 -122.319           1690        7639  \n",
       "2           NaN    98028  47.7379 -122.233           2720        8062  \n",
       "3           0.0    98136  47.5208 -122.393           1360        5000  \n",
       "4           0.0    98074  47.6168 -122.045           1800        7503  "
      ]
     },
     "execution_count": 15,
     "metadata": {},
     "output_type": "execute_result"
    }
   ],
   "source": [
    "kc.head()"
   ]
  },
  {
   "cell_type": "code",
   "execution_count": 16,
   "metadata": {},
   "outputs": [
    {
     "data": {
      "text/plain": [
       "waterfront       2376\n",
       "view               63\n",
       "condition           0\n",
       "grade               0\n",
       "sqft_above          0\n",
       "sqft_basement       0\n",
       "yr_built            0\n",
       "yr_renovated     3842\n",
       "dtype: int64"
      ]
     },
     "execution_count": 16,
     "metadata": {},
     "output_type": "execute_result"
    }
   ],
   "source": [
    "#Check for null values\n",
    "kc.isna().sum()[7:15]\n",
    "\n",
    "#waterfront - 2376\n",
    "#view - 63\n",
    "#yr_renovated - 3842"
   ]
  },
  {
   "cell_type": "code",
   "execution_count": 17,
   "metadata": {},
   "outputs": [
    {
     "data": {
      "text/plain": [
       "0.0    19075\n",
       "1.0      146\n",
       "Name: waterfront, dtype: int64"
      ]
     },
     "execution_count": 17,
     "metadata": {},
     "output_type": "execute_result"
    }
   ],
   "source": [
    "kc.waterfront.value_counts()\n",
    "#waterfront is categorical\n",
    "#bin categories\n",
    "#can make null it's own category bin"
   ]
  },
  {
   "cell_type": "code",
   "execution_count": 18,
   "metadata": {},
   "outputs": [],
   "source": [
    "kc.waterfront = kc.waterfront.map(lambda x: x if x >= 0 else 2.0)"
   ]
  },
  {
   "cell_type": "code",
   "execution_count": 19,
   "metadata": {},
   "outputs": [],
   "source": [
    "kc.waterfront = kc.waterfront.astype('category')\n",
    "lb = LabelBinarizer()\n",
    "waterfront_dummies = lb.fit_transform(kc.waterfront)\n",
    "# convert bins back to dataframe\n",
    "waterfront_dum_df = pd.DataFrame(waterfront_dummies,columns=['waterfront_no','waterfront_yes', 'waterfront_unknown'])\n",
    "#add bins to kc\n",
    "kc = pd.concat([kc, waterfront_dum_df], axis = 1)\n",
    "#remove unbinned waterfront column\n",
    "kc = kc.drop(['waterfront'], axis = 1)"
   ]
  },
  {
   "cell_type": "code",
   "execution_count": 20,
   "metadata": {},
   "outputs": [
    {
     "data": {
      "text/plain": [
       "0.0    19422\n",
       "2.0      957\n",
       "3.0      508\n",
       "1.0      330\n",
       "4.0      317\n",
       "Name: view, dtype: int64"
      ]
     },
     "execution_count": 20,
     "metadata": {},
     "output_type": "execute_result"
    }
   ],
   "source": [
    "kc.view.value_counts()\n",
    "#view is categorical - each number is view of a different thing rather than a quality rating from 1 to 4 \n",
    "#only a very small percentage is not one of the categories\n",
    "#add to most frequent column\n",
    "#bin"
   ]
  },
  {
   "cell_type": "code",
   "execution_count": 21,
   "metadata": {},
   "outputs": [
    {
     "data": {
      "text/plain": [
       "0.0"
      ]
     },
     "execution_count": 21,
     "metadata": {},
     "output_type": "execute_result"
    }
   ],
   "source": [
    "view_median = kc.view.median()\n",
    "view_median"
   ]
  },
  {
   "cell_type": "code",
   "execution_count": 22,
   "metadata": {},
   "outputs": [],
   "source": [
    "#replace NaN with median\n",
    "kc.view = kc.view.map(lambda x: x if x >= 0 else view_median)"
   ]
  },
  {
   "cell_type": "code",
   "execution_count": 23,
   "metadata": {},
   "outputs": [
    {
     "data": {
      "text/plain": [
       "0.0    19485\n",
       "2.0      957\n",
       "3.0      508\n",
       "1.0      330\n",
       "4.0      317\n",
       "Name: view, dtype: int64"
      ]
     },
     "execution_count": 23,
     "metadata": {},
     "output_type": "execute_result"
    }
   ],
   "source": [
    "#Confirm\n",
    "kc.view.value_counts()"
   ]
  },
  {
   "cell_type": "code",
   "execution_count": 24,
   "metadata": {},
   "outputs": [
    {
     "data": {
      "text/plain": [
       "0"
      ]
     },
     "execution_count": 24,
     "metadata": {},
     "output_type": "execute_result"
    }
   ],
   "source": [
    "#Confirm again\n",
    "sum(kc.view.isna())"
   ]
  },
  {
   "cell_type": "code",
   "execution_count": 25,
   "metadata": {},
   "outputs": [],
   "source": [
    "kc.view = kc.view.astype('category')\n",
    "lb = LabelBinarizer()\n",
    "view_dummies = lb.fit_transform(kc.view)\n",
    "# convert bins back to dataframe\n",
    "view_dum_df = pd.DataFrame(view_dummies, columns=['view_0','view_1', 'view_2', 'view_3', 'view_4'])\n",
    "#add bins to kc\n",
    "kc = pd.concat([kc, view_dum_df], axis = 1)\n",
    "#remove unbinned waterfront column\n",
    "kc = kc.drop(['view'], axis = 1)"
   ]
  },
  {
   "cell_type": "code",
   "execution_count": 26,
   "metadata": {},
   "outputs": [
    {
     "data": {
      "text/plain": [
       "0.0       17011\n",
       "2014.0       73\n",
       "2003.0       31\n",
       "2013.0       31\n",
       "2007.0       30\n",
       "Name: yr_renovated, dtype: int64"
      ]
     },
     "execution_count": 26,
     "metadata": {},
     "output_type": "execute_result"
    }
   ],
   "source": [
    "kc.yr_renovated.value_counts().head()\n",
    "#view is numeric and discrete\n",
    "#0.0 is actually an unknown\n",
    "#22143 very high percentage is wrong\n",
    "#remove column\n",
    "#Otherwise would bin\n",
    "#year_renovated likely affects value but too many null or 0"
   ]
  },
  {
   "cell_type": "code",
   "execution_count": 27,
   "metadata": {},
   "outputs": [],
   "source": [
    "kc = kc.drop(['yr_renovated'], axis = 1)"
   ]
  },
  {
   "cell_type": "code",
   "execution_count": 28,
   "metadata": {},
   "outputs": [
    {
     "data": {
      "text/html": [
       "<div>\n",
       "<style scoped>\n",
       "    .dataframe tbody tr th:only-of-type {\n",
       "        vertical-align: middle;\n",
       "    }\n",
       "\n",
       "    .dataframe tbody tr th {\n",
       "        vertical-align: top;\n",
       "    }\n",
       "\n",
       "    .dataframe thead th {\n",
       "        text-align: right;\n",
       "    }\n",
       "</style>\n",
       "<table border=\"1\" class=\"dataframe\">\n",
       "  <thead>\n",
       "    <tr style=\"text-align: right;\">\n",
       "      <th></th>\n",
       "      <th>id</th>\n",
       "      <th>price</th>\n",
       "      <th>bedrooms</th>\n",
       "      <th>bathrooms</th>\n",
       "      <th>sqft_living</th>\n",
       "      <th>sqft_lot</th>\n",
       "      <th>floors</th>\n",
       "      <th>condition</th>\n",
       "      <th>grade</th>\n",
       "      <th>sqft_above</th>\n",
       "      <th>...</th>\n",
       "      <th>sqft_living15</th>\n",
       "      <th>sqft_lot15</th>\n",
       "      <th>waterfront_no</th>\n",
       "      <th>waterfront_yes</th>\n",
       "      <th>waterfront_unknown</th>\n",
       "      <th>view_0</th>\n",
       "      <th>view_1</th>\n",
       "      <th>view_2</th>\n",
       "      <th>view_3</th>\n",
       "      <th>view_4</th>\n",
       "    </tr>\n",
       "  </thead>\n",
       "  <tbody>\n",
       "    <tr>\n",
       "      <th>0</th>\n",
       "      <td>7129300520</td>\n",
       "      <td>221900.0</td>\n",
       "      <td>3</td>\n",
       "      <td>1.00</td>\n",
       "      <td>1180</td>\n",
       "      <td>5650</td>\n",
       "      <td>1.0</td>\n",
       "      <td>3</td>\n",
       "      <td>7</td>\n",
       "      <td>1180</td>\n",
       "      <td>...</td>\n",
       "      <td>1340</td>\n",
       "      <td>5650</td>\n",
       "      <td>0</td>\n",
       "      <td>0</td>\n",
       "      <td>1</td>\n",
       "      <td>1</td>\n",
       "      <td>0</td>\n",
       "      <td>0</td>\n",
       "      <td>0</td>\n",
       "      <td>0</td>\n",
       "    </tr>\n",
       "    <tr>\n",
       "      <th>1</th>\n",
       "      <td>6414100192</td>\n",
       "      <td>538000.0</td>\n",
       "      <td>3</td>\n",
       "      <td>2.25</td>\n",
       "      <td>2570</td>\n",
       "      <td>7242</td>\n",
       "      <td>2.0</td>\n",
       "      <td>3</td>\n",
       "      <td>7</td>\n",
       "      <td>2170</td>\n",
       "      <td>...</td>\n",
       "      <td>1690</td>\n",
       "      <td>7639</td>\n",
       "      <td>1</td>\n",
       "      <td>0</td>\n",
       "      <td>0</td>\n",
       "      <td>1</td>\n",
       "      <td>0</td>\n",
       "      <td>0</td>\n",
       "      <td>0</td>\n",
       "      <td>0</td>\n",
       "    </tr>\n",
       "    <tr>\n",
       "      <th>2</th>\n",
       "      <td>5631500400</td>\n",
       "      <td>180000.0</td>\n",
       "      <td>2</td>\n",
       "      <td>1.00</td>\n",
       "      <td>770</td>\n",
       "      <td>10000</td>\n",
       "      <td>1.0</td>\n",
       "      <td>3</td>\n",
       "      <td>6</td>\n",
       "      <td>770</td>\n",
       "      <td>...</td>\n",
       "      <td>2720</td>\n",
       "      <td>8062</td>\n",
       "      <td>1</td>\n",
       "      <td>0</td>\n",
       "      <td>0</td>\n",
       "      <td>1</td>\n",
       "      <td>0</td>\n",
       "      <td>0</td>\n",
       "      <td>0</td>\n",
       "      <td>0</td>\n",
       "    </tr>\n",
       "    <tr>\n",
       "      <th>3</th>\n",
       "      <td>2487200875</td>\n",
       "      <td>604000.0</td>\n",
       "      <td>4</td>\n",
       "      <td>3.00</td>\n",
       "      <td>1960</td>\n",
       "      <td>5000</td>\n",
       "      <td>1.0</td>\n",
       "      <td>5</td>\n",
       "      <td>7</td>\n",
       "      <td>1050</td>\n",
       "      <td>...</td>\n",
       "      <td>1360</td>\n",
       "      <td>5000</td>\n",
       "      <td>1</td>\n",
       "      <td>0</td>\n",
       "      <td>0</td>\n",
       "      <td>1</td>\n",
       "      <td>0</td>\n",
       "      <td>0</td>\n",
       "      <td>0</td>\n",
       "      <td>0</td>\n",
       "    </tr>\n",
       "    <tr>\n",
       "      <th>4</th>\n",
       "      <td>1954400510</td>\n",
       "      <td>510000.0</td>\n",
       "      <td>3</td>\n",
       "      <td>2.00</td>\n",
       "      <td>1680</td>\n",
       "      <td>8080</td>\n",
       "      <td>1.0</td>\n",
       "      <td>3</td>\n",
       "      <td>8</td>\n",
       "      <td>1680</td>\n",
       "      <td>...</td>\n",
       "      <td>1800</td>\n",
       "      <td>7503</td>\n",
       "      <td>1</td>\n",
       "      <td>0</td>\n",
       "      <td>0</td>\n",
       "      <td>1</td>\n",
       "      <td>0</td>\n",
       "      <td>0</td>\n",
       "      <td>0</td>\n",
       "      <td>0</td>\n",
       "    </tr>\n",
       "  </tbody>\n",
       "</table>\n",
       "<p>5 rows × 25 columns</p>\n",
       "</div>"
      ],
      "text/plain": [
       "           id     price  bedrooms  bathrooms  sqft_living  sqft_lot  floors  \\\n",
       "0  7129300520  221900.0         3       1.00         1180      5650     1.0   \n",
       "1  6414100192  538000.0         3       2.25         2570      7242     2.0   \n",
       "2  5631500400  180000.0         2       1.00          770     10000     1.0   \n",
       "3  2487200875  604000.0         4       3.00         1960      5000     1.0   \n",
       "4  1954400510  510000.0         3       2.00         1680      8080     1.0   \n",
       "\n",
       "   condition  grade  sqft_above   ...    sqft_living15  sqft_lot15  \\\n",
       "0          3      7        1180   ...             1340        5650   \n",
       "1          3      7        2170   ...             1690        7639   \n",
       "2          3      6         770   ...             2720        8062   \n",
       "3          5      7        1050   ...             1360        5000   \n",
       "4          3      8        1680   ...             1800        7503   \n",
       "\n",
       "   waterfront_no  waterfront_yes  waterfront_unknown  view_0  view_1  view_2  \\\n",
       "0              0               0                   1       1       0       0   \n",
       "1              1               0                   0       1       0       0   \n",
       "2              1               0                   0       1       0       0   \n",
       "3              1               0                   0       1       0       0   \n",
       "4              1               0                   0       1       0       0   \n",
       "\n",
       "   view_3  view_4  \n",
       "0       0       0  \n",
       "1       0       0  \n",
       "2       0       0  \n",
       "3       0       0  \n",
       "4       0       0  \n",
       "\n",
       "[5 rows x 25 columns]"
      ]
     },
     "execution_count": 28,
     "metadata": {},
     "output_type": "execute_result"
    }
   ],
   "source": [
    "kc.head()"
   ]
  },
  {
   "cell_type": "code",
   "execution_count": 29,
   "metadata": {},
   "outputs": [
    {
     "data": {
      "text/plain": [
       "Index(['id', 'price', 'bedrooms', 'bathrooms', 'sqft_living', 'sqft_lot',\n",
       "       'floors', 'condition', 'grade', 'sqft_above', 'sqft_basement',\n",
       "       'yr_built', 'zipcode', 'lat', 'long', 'sqft_living15', 'sqft_lot15',\n",
       "       'waterfront_no', 'waterfront_yes', 'waterfront_unknown', 'view_0',\n",
       "       'view_1', 'view_2', 'view_3', 'view_4'],\n",
       "      dtype='object')"
      ]
     },
     "execution_count": 29,
     "metadata": {},
     "output_type": "execute_result"
    }
   ],
   "source": [
    "kc.columns"
   ]
  },
  {
   "cell_type": "code",
   "execution_count": 30,
   "metadata": {},
   "outputs": [
    {
     "data": {
      "text/plain": [
       "count    21597.000000\n",
       "mean       285.716581\n",
       "std        439.819830\n",
       "min          0.000000\n",
       "25%          0.000000\n",
       "50%          0.000000\n",
       "75%        550.000000\n",
       "max       4820.000000\n",
       "Name: sqft_basement, dtype: float64"
      ]
     },
     "execution_count": 30,
     "metadata": {},
     "output_type": "execute_result"
    }
   ],
   "source": [
    "kc.sqft_basement.describe()"
   ]
  },
  {
   "cell_type": "code",
   "execution_count": 31,
   "metadata": {},
   "outputs": [],
   "source": [
    "#not relevant - id\n",
    "#std > mean -  sqft_lot, sqft_lot15, sqft_basement\n",
    "#^ does this matter for bins?\n",
    "#^don't think so"
   ]
  },
  {
   "cell_type": "code",
   "execution_count": 32,
   "metadata": {},
   "outputs": [],
   "source": [
    "kc = kc.drop(['id'], axis = 1)"
   ]
  },
  {
   "cell_type": "code",
   "execution_count": 33,
   "metadata": {},
   "outputs": [],
   "source": [
    "kc = kc.drop(['sqft_lot', 'sqft_lot15', 'sqft_basement'],axis = 1)"
   ]
  },
  {
   "cell_type": "code",
   "execution_count": 34,
   "metadata": {},
   "outputs": [
    {
     "data": {
      "text/html": [
       "<div>\n",
       "<style scoped>\n",
       "    .dataframe tbody tr th:only-of-type {\n",
       "        vertical-align: middle;\n",
       "    }\n",
       "\n",
       "    .dataframe tbody tr th {\n",
       "        vertical-align: top;\n",
       "    }\n",
       "\n",
       "    .dataframe thead th {\n",
       "        text-align: right;\n",
       "    }\n",
       "</style>\n",
       "<table border=\"1\" class=\"dataframe\">\n",
       "  <thead>\n",
       "    <tr style=\"text-align: right;\">\n",
       "      <th></th>\n",
       "      <th>price</th>\n",
       "      <th>bedrooms</th>\n",
       "      <th>bathrooms</th>\n",
       "      <th>sqft_living</th>\n",
       "      <th>floors</th>\n",
       "      <th>condition</th>\n",
       "      <th>grade</th>\n",
       "      <th>sqft_above</th>\n",
       "      <th>yr_built</th>\n",
       "      <th>zipcode</th>\n",
       "      <th>...</th>\n",
       "      <th>long</th>\n",
       "      <th>sqft_living15</th>\n",
       "      <th>waterfront_no</th>\n",
       "      <th>waterfront_yes</th>\n",
       "      <th>waterfront_unknown</th>\n",
       "      <th>view_0</th>\n",
       "      <th>view_1</th>\n",
       "      <th>view_2</th>\n",
       "      <th>view_3</th>\n",
       "      <th>view_4</th>\n",
       "    </tr>\n",
       "  </thead>\n",
       "  <tbody>\n",
       "    <tr>\n",
       "      <th>0</th>\n",
       "      <td>221900.0</td>\n",
       "      <td>3</td>\n",
       "      <td>1.00</td>\n",
       "      <td>1180</td>\n",
       "      <td>1.0</td>\n",
       "      <td>3</td>\n",
       "      <td>7</td>\n",
       "      <td>1180</td>\n",
       "      <td>1955</td>\n",
       "      <td>98178</td>\n",
       "      <td>...</td>\n",
       "      <td>-122.257</td>\n",
       "      <td>1340</td>\n",
       "      <td>0</td>\n",
       "      <td>0</td>\n",
       "      <td>1</td>\n",
       "      <td>1</td>\n",
       "      <td>0</td>\n",
       "      <td>0</td>\n",
       "      <td>0</td>\n",
       "      <td>0</td>\n",
       "    </tr>\n",
       "    <tr>\n",
       "      <th>1</th>\n",
       "      <td>538000.0</td>\n",
       "      <td>3</td>\n",
       "      <td>2.25</td>\n",
       "      <td>2570</td>\n",
       "      <td>2.0</td>\n",
       "      <td>3</td>\n",
       "      <td>7</td>\n",
       "      <td>2170</td>\n",
       "      <td>1951</td>\n",
       "      <td>98125</td>\n",
       "      <td>...</td>\n",
       "      <td>-122.319</td>\n",
       "      <td>1690</td>\n",
       "      <td>1</td>\n",
       "      <td>0</td>\n",
       "      <td>0</td>\n",
       "      <td>1</td>\n",
       "      <td>0</td>\n",
       "      <td>0</td>\n",
       "      <td>0</td>\n",
       "      <td>0</td>\n",
       "    </tr>\n",
       "    <tr>\n",
       "      <th>2</th>\n",
       "      <td>180000.0</td>\n",
       "      <td>2</td>\n",
       "      <td>1.00</td>\n",
       "      <td>770</td>\n",
       "      <td>1.0</td>\n",
       "      <td>3</td>\n",
       "      <td>6</td>\n",
       "      <td>770</td>\n",
       "      <td>1933</td>\n",
       "      <td>98028</td>\n",
       "      <td>...</td>\n",
       "      <td>-122.233</td>\n",
       "      <td>2720</td>\n",
       "      <td>1</td>\n",
       "      <td>0</td>\n",
       "      <td>0</td>\n",
       "      <td>1</td>\n",
       "      <td>0</td>\n",
       "      <td>0</td>\n",
       "      <td>0</td>\n",
       "      <td>0</td>\n",
       "    </tr>\n",
       "    <tr>\n",
       "      <th>3</th>\n",
       "      <td>604000.0</td>\n",
       "      <td>4</td>\n",
       "      <td>3.00</td>\n",
       "      <td>1960</td>\n",
       "      <td>1.0</td>\n",
       "      <td>5</td>\n",
       "      <td>7</td>\n",
       "      <td>1050</td>\n",
       "      <td>1965</td>\n",
       "      <td>98136</td>\n",
       "      <td>...</td>\n",
       "      <td>-122.393</td>\n",
       "      <td>1360</td>\n",
       "      <td>1</td>\n",
       "      <td>0</td>\n",
       "      <td>0</td>\n",
       "      <td>1</td>\n",
       "      <td>0</td>\n",
       "      <td>0</td>\n",
       "      <td>0</td>\n",
       "      <td>0</td>\n",
       "    </tr>\n",
       "    <tr>\n",
       "      <th>4</th>\n",
       "      <td>510000.0</td>\n",
       "      <td>3</td>\n",
       "      <td>2.00</td>\n",
       "      <td>1680</td>\n",
       "      <td>1.0</td>\n",
       "      <td>3</td>\n",
       "      <td>8</td>\n",
       "      <td>1680</td>\n",
       "      <td>1987</td>\n",
       "      <td>98074</td>\n",
       "      <td>...</td>\n",
       "      <td>-122.045</td>\n",
       "      <td>1800</td>\n",
       "      <td>1</td>\n",
       "      <td>0</td>\n",
       "      <td>0</td>\n",
       "      <td>1</td>\n",
       "      <td>0</td>\n",
       "      <td>0</td>\n",
       "      <td>0</td>\n",
       "      <td>0</td>\n",
       "    </tr>\n",
       "  </tbody>\n",
       "</table>\n",
       "<p>5 rows × 21 columns</p>\n",
       "</div>"
      ],
      "text/plain": [
       "      price  bedrooms  bathrooms  sqft_living  floors  condition  grade  \\\n",
       "0  221900.0         3       1.00         1180     1.0          3      7   \n",
       "1  538000.0         3       2.25         2570     2.0          3      7   \n",
       "2  180000.0         2       1.00          770     1.0          3      6   \n",
       "3  604000.0         4       3.00         1960     1.0          5      7   \n",
       "4  510000.0         3       2.00         1680     1.0          3      8   \n",
       "\n",
       "   sqft_above  yr_built  zipcode   ...       long  sqft_living15  \\\n",
       "0        1180      1955    98178   ...   -122.257           1340   \n",
       "1        2170      1951    98125   ...   -122.319           1690   \n",
       "2         770      1933    98028   ...   -122.233           2720   \n",
       "3        1050      1965    98136   ...   -122.393           1360   \n",
       "4        1680      1987    98074   ...   -122.045           1800   \n",
       "\n",
       "   waterfront_no  waterfront_yes  waterfront_unknown  view_0  view_1  view_2  \\\n",
       "0              0               0                   1       1       0       0   \n",
       "1              1               0                   0       1       0       0   \n",
       "2              1               0                   0       1       0       0   \n",
       "3              1               0                   0       1       0       0   \n",
       "4              1               0                   0       1       0       0   \n",
       "\n",
       "   view_3  view_4  \n",
       "0       0       0  \n",
       "1       0       0  \n",
       "2       0       0  \n",
       "3       0       0  \n",
       "4       0       0  \n",
       "\n",
       "[5 rows x 21 columns]"
      ]
     },
     "execution_count": 34,
     "metadata": {},
     "output_type": "execute_result"
    }
   ],
   "source": [
    "kc.head()"
   ]
  },
  {
   "cell_type": "code",
   "execution_count": 35,
   "metadata": {},
   "outputs": [
    {
     "name": "stderr",
     "output_type": "stream",
     "text": [
      "No handles with labels found to put in legend.\n"
     ]
    },
    {
     "data": {
      "image/png": "[encoded data removed]",
      "text/plain": [
       "<Figure size 432x288 with 25 Axes>"
      ]
     },
     "metadata": {},
     "output_type": "display_data"
    }
   ],
   "source": [
    "kc.hist()\n",
    "plt.legend()\n",
    "plt.show()"
   ]
  },
  {
   "cell_type": "code",
   "execution_count": 36,
   "metadata": {},
   "outputs": [],
   "source": [
    "#numerical to bin as categories - zipcode, yr_built, lat, long, condition\n",
    "#zipcode captures geography - don't need latitutde or longitude\n",
    "#assuming that condition is categorical, 5 different non-numerical"
   ]
  },
  {
   "cell_type": "code",
   "execution_count": 37,
   "metadata": {},
   "outputs": [],
   "source": [
    "#bins for zipcode\n",
    "bins = [0,98015, 98033, 98065, 98118, 98199]\n",
    "bin_names = []\n",
    "for index in list(range(0,len(bins)-1)):\n",
    "    a = 'zip_' + str(bins[index]) + '_' + str(bins[index+1])\n",
    "    bin_names.append(a)\n",
    "zip_bins = pd.DataFrame()\n",
    "for name in bin_names:\n",
    "    zip_bins[name] = None\n",
    "for index in list(range(0,len(bins)-1)):\n",
    "    zip_bins[bin_names[index]] = kc.zipcode.map(lambda x: 1 if x > bins[index] and x <= bins[index + 1] else 0)"
   ]
  },
  {
   "cell_type": "code",
   "execution_count": 38,
   "metadata": {},
   "outputs": [],
   "source": [
    "kc = pd.concat([kc,zip_bins], axis =1)"
   ]
  },
  {
   "cell_type": "code",
   "execution_count": 39,
   "metadata": {},
   "outputs": [],
   "source": [
    "kc = kc.drop(['zipcode', 'lat', 'long'], axis = 1)"
   ]
  },
  {
   "cell_type": "code",
   "execution_count": 40,
   "metadata": {},
   "outputs": [
    {
     "data": {
      "text/plain": [
       "count    21597.000000\n",
       "mean      1970.999676\n",
       "std         29.375234\n",
       "min       1900.000000\n",
       "25%       1951.000000\n",
       "50%       1975.000000\n",
       "75%       1997.000000\n",
       "max       2015.000000\n",
       "Name: yr_built, dtype: float64"
      ]
     },
     "execution_count": 40,
     "metadata": {},
     "output_type": "execute_result"
    }
   ],
   "source": [
    "kc.yr_built.describe()"
   ]
  },
  {
   "cell_type": "code",
   "execution_count": 41,
   "metadata": {},
   "outputs": [],
   "source": [
    "#bins for yr_built\n",
    "bins = [0,1925, 1951, 1975, 1997, 2015]\n",
    "bin_names = []\n",
    "for index in list(range(0,len(bins)-1)):\n",
    "    a = 'yr_built_' + str(bins[index]) + '_' +str(bins[index+1])\n",
    "    bin_names.append(a)\n",
    "yr_built_bins = pd.DataFrame()\n",
    "for name in bin_names:\n",
    "    yr_built_bins[name] = None\n",
    "for index in list(range(0,len(bins)-1)):\n",
    "    yr_built_bins[bin_names[index]] = kc.yr_built.map(lambda x: 1 if x > bins[index] and x <= bins[index + 1] else 0)"
   ]
  },
  {
   "cell_type": "code",
   "execution_count": 42,
   "metadata": {},
   "outputs": [],
   "source": [
    "kc = pd.concat([kc,yr_built_bins], axis =1)"
   ]
  },
  {
   "cell_type": "code",
   "execution_count": 43,
   "metadata": {},
   "outputs": [],
   "source": [
    "kc = kc.drop(['yr_built'], axis = 1)"
   ]
  },
  {
   "cell_type": "code",
   "execution_count": 44,
   "metadata": {},
   "outputs": [],
   "source": [
    "#numerical to bin as categories - zipcode, yr_built, lat, long, condition\n",
    "#assuming that condition is categorical, 5 different non-numerical"
   ]
  },
  {
   "cell_type": "code",
   "execution_count": 45,
   "metadata": {},
   "outputs": [
    {
     "data": {
      "text/plain": [
       "count    21597.000000\n",
       "mean         3.409825\n",
       "std          0.650546\n",
       "min          1.000000\n",
       "25%          3.000000\n",
       "50%          3.000000\n",
       "75%          4.000000\n",
       "max          5.000000\n",
       "Name: condition, dtype: float64"
      ]
     },
     "execution_count": 45,
     "metadata": {},
     "output_type": "execute_result"
    }
   ],
   "source": [
    "kc.condition.describe()"
   ]
  },
  {
   "cell_type": "code",
   "execution_count": 46,
   "metadata": {},
   "outputs": [
    {
     "data": {
      "text/plain": [
       "3    14020\n",
       "4     5677\n",
       "5     1701\n",
       "2      170\n",
       "1       29\n",
       "Name: condition, dtype: int64"
      ]
     },
     "execution_count": 46,
     "metadata": {},
     "output_type": "execute_result"
    }
   ],
   "source": [
    "kc.condition.value_counts()"
   ]
  },
  {
   "cell_type": "code",
   "execution_count": 47,
   "metadata": {},
   "outputs": [],
   "source": [
    "#bins for condition\n",
    "\n",
    "kc.condition = kc.condition.astype('category')\n",
    "lb = LabelBinarizer()\n",
    "condition_dummies = lb.fit_transform(kc.condition)\n",
    "# convert bins back to dataframe\n",
    "condition_dum_df = pd.DataFrame(condition_dummies, columns=['condition_1', 'condition_2', 'condition_3', 'condition_4', 'condition_5'])\n",
    "#add bins to kc\n",
    "kc = pd.concat([kc, condition_dum_df], axis = 1)\n",
    "#remove unbinned waterfront column\n",
    "kc = kc.drop(['condition'], axis = 1)"
   ]
  },
  {
   "cell_type": "code",
   "execution_count": 48,
   "metadata": {},
   "outputs": [
    {
     "data": {
      "text/html": [
       "<div>\n",
       "<style scoped>\n",
       "    .dataframe tbody tr th:only-of-type {\n",
       "        vertical-align: middle;\n",
       "    }\n",
       "\n",
       "    .dataframe tbody tr th {\n",
       "        vertical-align: top;\n",
       "    }\n",
       "\n",
       "    .dataframe thead th {\n",
       "        text-align: right;\n",
       "    }\n",
       "</style>\n",
       "<table border=\"1\" class=\"dataframe\">\n",
       "  <thead>\n",
       "    <tr style=\"text-align: right;\">\n",
       "      <th></th>\n",
       "      <th>price</th>\n",
       "      <th>bedrooms</th>\n",
       "      <th>bathrooms</th>\n",
       "      <th>sqft_living</th>\n",
       "      <th>floors</th>\n",
       "      <th>grade</th>\n",
       "      <th>sqft_above</th>\n",
       "      <th>sqft_living15</th>\n",
       "      <th>waterfront_no</th>\n",
       "      <th>waterfront_yes</th>\n",
       "      <th>...</th>\n",
       "      <th>yr_built_0_1925</th>\n",
       "      <th>yr_built_1925_1951</th>\n",
       "      <th>yr_built_1951_1975</th>\n",
       "      <th>yr_built_1975_1997</th>\n",
       "      <th>yr_built_1997_2015</th>\n",
       "      <th>condition_1</th>\n",
       "      <th>condition_2</th>\n",
       "      <th>condition_3</th>\n",
       "      <th>condition_4</th>\n",
       "      <th>condition_5</th>\n",
       "    </tr>\n",
       "  </thead>\n",
       "  <tbody>\n",
       "    <tr>\n",
       "      <th>0</th>\n",
       "      <td>221900.0</td>\n",
       "      <td>3</td>\n",
       "      <td>1.00</td>\n",
       "      <td>1180</td>\n",
       "      <td>1.0</td>\n",
       "      <td>7</td>\n",
       "      <td>1180</td>\n",
       "      <td>1340</td>\n",
       "      <td>0</td>\n",
       "      <td>0</td>\n",
       "      <td>...</td>\n",
       "      <td>0</td>\n",
       "      <td>0</td>\n",
       "      <td>1</td>\n",
       "      <td>0</td>\n",
       "      <td>0</td>\n",
       "      <td>0</td>\n",
       "      <td>0</td>\n",
       "      <td>1</td>\n",
       "      <td>0</td>\n",
       "      <td>0</td>\n",
       "    </tr>\n",
       "    <tr>\n",
       "      <th>1</th>\n",
       "      <td>538000.0</td>\n",
       "      <td>3</td>\n",
       "      <td>2.25</td>\n",
       "      <td>2570</td>\n",
       "      <td>2.0</td>\n",
       "      <td>7</td>\n",
       "      <td>2170</td>\n",
       "      <td>1690</td>\n",
       "      <td>1</td>\n",
       "      <td>0</td>\n",
       "      <td>...</td>\n",
       "      <td>0</td>\n",
       "      <td>1</td>\n",
       "      <td>0</td>\n",
       "      <td>0</td>\n",
       "      <td>0</td>\n",
       "      <td>0</td>\n",
       "      <td>0</td>\n",
       "      <td>1</td>\n",
       "      <td>0</td>\n",
       "      <td>0</td>\n",
       "    </tr>\n",
       "    <tr>\n",
       "      <th>2</th>\n",
       "      <td>180000.0</td>\n",
       "      <td>2</td>\n",
       "      <td>1.00</td>\n",
       "      <td>770</td>\n",
       "      <td>1.0</td>\n",
       "      <td>6</td>\n",
       "      <td>770</td>\n",
       "      <td>2720</td>\n",
       "      <td>1</td>\n",
       "      <td>0</td>\n",
       "      <td>...</td>\n",
       "      <td>0</td>\n",
       "      <td>1</td>\n",
       "      <td>0</td>\n",
       "      <td>0</td>\n",
       "      <td>0</td>\n",
       "      <td>0</td>\n",
       "      <td>0</td>\n",
       "      <td>1</td>\n",
       "      <td>0</td>\n",
       "      <td>0</td>\n",
       "    </tr>\n",
       "    <tr>\n",
       "      <th>3</th>\n",
       "      <td>604000.0</td>\n",
       "      <td>4</td>\n",
       "      <td>3.00</td>\n",
       "      <td>1960</td>\n",
       "      <td>1.0</td>\n",
       "      <td>7</td>\n",
       "      <td>1050</td>\n",
       "      <td>1360</td>\n",
       "      <td>1</td>\n",
       "      <td>0</td>\n",
       "      <td>...</td>\n",
       "      <td>0</td>\n",
       "      <td>0</td>\n",
       "      <td>1</td>\n",
       "      <td>0</td>\n",
       "      <td>0</td>\n",
       "      <td>0</td>\n",
       "      <td>0</td>\n",
       "      <td>0</td>\n",
       "      <td>0</td>\n",
       "      <td>1</td>\n",
       "    </tr>\n",
       "    <tr>\n",
       "      <th>4</th>\n",
       "      <td>510000.0</td>\n",
       "      <td>3</td>\n",
       "      <td>2.00</td>\n",
       "      <td>1680</td>\n",
       "      <td>1.0</td>\n",
       "      <td>8</td>\n",
       "      <td>1680</td>\n",
       "      <td>1800</td>\n",
       "      <td>1</td>\n",
       "      <td>0</td>\n",
       "      <td>...</td>\n",
       "      <td>0</td>\n",
       "      <td>0</td>\n",
       "      <td>0</td>\n",
       "      <td>1</td>\n",
       "      <td>0</td>\n",
       "      <td>0</td>\n",
       "      <td>0</td>\n",
       "      <td>1</td>\n",
       "      <td>0</td>\n",
       "      <td>0</td>\n",
       "    </tr>\n",
       "  </tbody>\n",
       "</table>\n",
       "<p>5 rows × 31 columns</p>\n",
       "</div>"
      ],
      "text/plain": [
       "      price  bedrooms  bathrooms  sqft_living  floors  grade  sqft_above  \\\n",
       "0  221900.0         3       1.00         1180     1.0      7        1180   \n",
       "1  538000.0         3       2.25         2570     2.0      7        2170   \n",
       "2  180000.0         2       1.00          770     1.0      6         770   \n",
       "3  604000.0         4       3.00         1960     1.0      7        1050   \n",
       "4  510000.0         3       2.00         1680     1.0      8        1680   \n",
       "\n",
       "   sqft_living15  waterfront_no  waterfront_yes     ...       yr_built_0_1925  \\\n",
       "0           1340              0               0     ...                     0   \n",
       "1           1690              1               0     ...                     0   \n",
       "2           2720              1               0     ...                     0   \n",
       "3           1360              1               0     ...                     0   \n",
       "4           1800              1               0     ...                     0   \n",
       "\n",
       "   yr_built_1925_1951  yr_built_1951_1975  yr_built_1975_1997  \\\n",
       "0                   0                   1                   0   \n",
       "1                   1                   0                   0   \n",
       "2                   1                   0                   0   \n",
       "3                   0                   1                   0   \n",
       "4                   0                   0                   1   \n",
       "\n",
       "   yr_built_1997_2015  condition_1  condition_2  condition_3  condition_4  \\\n",
       "0                   0            0            0            1            0   \n",
       "1                   0            0            0            1            0   \n",
       "2                   0            0            0            1            0   \n",
       "3                   0            0            0            0            0   \n",
       "4                   0            0            0            1            0   \n",
       "\n",
       "   condition_5  \n",
       "0            0  \n",
       "1            0  \n",
       "2            0  \n",
       "3            1  \n",
       "4            0  \n",
       "\n",
       "[5 rows x 31 columns]"
      ]
     },
     "execution_count": 48,
     "metadata": {},
     "output_type": "execute_result"
    }
   ],
   "source": [
    "kc.head()"
   ]
  },
  {
   "cell_type": "code",
   "execution_count": 49,
   "metadata": {},
   "outputs": [
    {
     "data": {
      "text/html": [
       "<div>\n",
       "<style scoped>\n",
       "    .dataframe tbody tr th:only-of-type {\n",
       "        vertical-align: middle;\n",
       "    }\n",
       "\n",
       "    .dataframe tbody tr th {\n",
       "        vertical-align: top;\n",
       "    }\n",
       "\n",
       "    .dataframe thead th {\n",
       "        text-align: right;\n",
       "    }\n",
       "</style>\n",
       "<table border=\"1\" class=\"dataframe\">\n",
       "  <thead>\n",
       "    <tr style=\"text-align: right;\">\n",
       "      <th></th>\n",
       "      <th>price</th>\n",
       "      <th>bedrooms</th>\n",
       "      <th>bathrooms</th>\n",
       "      <th>sqft_living</th>\n",
       "      <th>floors</th>\n",
       "      <th>grade</th>\n",
       "      <th>sqft_above</th>\n",
       "      <th>sqft_living15</th>\n",
       "      <th>waterfront_no</th>\n",
       "      <th>waterfront_yes</th>\n",
       "      <th>...</th>\n",
       "      <th>yr_built_0_1925</th>\n",
       "      <th>yr_built_1925_1951</th>\n",
       "      <th>yr_built_1951_1975</th>\n",
       "      <th>yr_built_1975_1997</th>\n",
       "      <th>yr_built_1997_2015</th>\n",
       "      <th>condition_1</th>\n",
       "      <th>condition_2</th>\n",
       "      <th>condition_3</th>\n",
       "      <th>condition_4</th>\n",
       "      <th>condition_5</th>\n",
       "    </tr>\n",
       "  </thead>\n",
       "  <tbody>\n",
       "    <tr>\n",
       "      <th>count</th>\n",
       "      <td>2.159700e+04</td>\n",
       "      <td>21597.000000</td>\n",
       "      <td>21597.000000</td>\n",
       "      <td>21597.000000</td>\n",
       "      <td>21597.000000</td>\n",
       "      <td>21597.000000</td>\n",
       "      <td>21597.000000</td>\n",
       "      <td>21597.000000</td>\n",
       "      <td>21597.000000</td>\n",
       "      <td>21597.000000</td>\n",
       "      <td>...</td>\n",
       "      <td>21597.000000</td>\n",
       "      <td>21597.000000</td>\n",
       "      <td>21597.000000</td>\n",
       "      <td>21597.000000</td>\n",
       "      <td>21597.00000</td>\n",
       "      <td>21597.000000</td>\n",
       "      <td>21597.000000</td>\n",
       "      <td>21597.000000</td>\n",
       "      <td>21597.000000</td>\n",
       "      <td>21597.000000</td>\n",
       "    </tr>\n",
       "    <tr>\n",
       "      <th>mean</th>\n",
       "      <td>5.402966e+05</td>\n",
       "      <td>3.373200</td>\n",
       "      <td>2.115826</td>\n",
       "      <td>2080.321850</td>\n",
       "      <td>1.494096</td>\n",
       "      <td>7.657915</td>\n",
       "      <td>1788.596842</td>\n",
       "      <td>1986.620318</td>\n",
       "      <td>0.883225</td>\n",
       "      <td>0.006760</td>\n",
       "      <td>...</td>\n",
       "      <td>0.097560</td>\n",
       "      <td>0.153077</td>\n",
       "      <td>0.255360</td>\n",
       "      <td>0.250544</td>\n",
       "      <td>0.24346</td>\n",
       "      <td>0.001343</td>\n",
       "      <td>0.007871</td>\n",
       "      <td>0.649164</td>\n",
       "      <td>0.262861</td>\n",
       "      <td>0.078761</td>\n",
       "    </tr>\n",
       "    <tr>\n",
       "      <th>std</th>\n",
       "      <td>3.673681e+05</td>\n",
       "      <td>0.926299</td>\n",
       "      <td>0.768984</td>\n",
       "      <td>918.106125</td>\n",
       "      <td>0.539683</td>\n",
       "      <td>1.173200</td>\n",
       "      <td>827.759761</td>\n",
       "      <td>685.230472</td>\n",
       "      <td>0.321160</td>\n",
       "      <td>0.081944</td>\n",
       "      <td>...</td>\n",
       "      <td>0.296725</td>\n",
       "      <td>0.360070</td>\n",
       "      <td>0.436073</td>\n",
       "      <td>0.433336</td>\n",
       "      <td>0.42918</td>\n",
       "      <td>0.036620</td>\n",
       "      <td>0.088373</td>\n",
       "      <td>0.477243</td>\n",
       "      <td>0.440198</td>\n",
       "      <td>0.269372</td>\n",
       "    </tr>\n",
       "    <tr>\n",
       "      <th>min</th>\n",
       "      <td>7.800000e+04</td>\n",
       "      <td>1.000000</td>\n",
       "      <td>0.500000</td>\n",
       "      <td>370.000000</td>\n",
       "      <td>1.000000</td>\n",
       "      <td>3.000000</td>\n",
       "      <td>370.000000</td>\n",
       "      <td>399.000000</td>\n",
       "      <td>0.000000</td>\n",
       "      <td>0.000000</td>\n",
       "      <td>...</td>\n",
       "      <td>0.000000</td>\n",
       "      <td>0.000000</td>\n",
       "      <td>0.000000</td>\n",
       "      <td>0.000000</td>\n",
       "      <td>0.00000</td>\n",
       "      <td>0.000000</td>\n",
       "      <td>0.000000</td>\n",
       "      <td>0.000000</td>\n",
       "      <td>0.000000</td>\n",
       "      <td>0.000000</td>\n",
       "    </tr>\n",
       "    <tr>\n",
       "      <th>25%</th>\n",
       "      <td>3.220000e+05</td>\n",
       "      <td>3.000000</td>\n",
       "      <td>1.750000</td>\n",
       "      <td>1430.000000</td>\n",
       "      <td>1.000000</td>\n",
       "      <td>7.000000</td>\n",
       "      <td>1190.000000</td>\n",
       "      <td>1490.000000</td>\n",
       "      <td>1.000000</td>\n",
       "      <td>0.000000</td>\n",
       "      <td>...</td>\n",
       "      <td>0.000000</td>\n",
       "      <td>0.000000</td>\n",
       "      <td>0.000000</td>\n",
       "      <td>0.000000</td>\n",
       "      <td>0.00000</td>\n",
       "      <td>0.000000</td>\n",
       "      <td>0.000000</td>\n",
       "      <td>0.000000</td>\n",
       "      <td>0.000000</td>\n",
       "      <td>0.000000</td>\n",
       "    </tr>\n",
       "    <tr>\n",
       "      <th>50%</th>\n",
       "      <td>4.500000e+05</td>\n",
       "      <td>3.000000</td>\n",
       "      <td>2.250000</td>\n",
       "      <td>1910.000000</td>\n",
       "      <td>1.500000</td>\n",
       "      <td>7.000000</td>\n",
       "      <td>1560.000000</td>\n",
       "      <td>1840.000000</td>\n",
       "      <td>1.000000</td>\n",
       "      <td>0.000000</td>\n",
       "      <td>...</td>\n",
       "      <td>0.000000</td>\n",
       "      <td>0.000000</td>\n",
       "      <td>0.000000</td>\n",
       "      <td>0.000000</td>\n",
       "      <td>0.00000</td>\n",
       "      <td>0.000000</td>\n",
       "      <td>0.000000</td>\n",
       "      <td>1.000000</td>\n",
       "      <td>0.000000</td>\n",
       "      <td>0.000000</td>\n",
       "    </tr>\n",
       "    <tr>\n",
       "      <th>75%</th>\n",
       "      <td>6.450000e+05</td>\n",
       "      <td>4.000000</td>\n",
       "      <td>2.500000</td>\n",
       "      <td>2550.000000</td>\n",
       "      <td>2.000000</td>\n",
       "      <td>8.000000</td>\n",
       "      <td>2210.000000</td>\n",
       "      <td>2360.000000</td>\n",
       "      <td>1.000000</td>\n",
       "      <td>0.000000</td>\n",
       "      <td>...</td>\n",
       "      <td>0.000000</td>\n",
       "      <td>0.000000</td>\n",
       "      <td>1.000000</td>\n",
       "      <td>1.000000</td>\n",
       "      <td>0.00000</td>\n",
       "      <td>0.000000</td>\n",
       "      <td>0.000000</td>\n",
       "      <td>1.000000</td>\n",
       "      <td>1.000000</td>\n",
       "      <td>0.000000</td>\n",
       "    </tr>\n",
       "    <tr>\n",
       "      <th>max</th>\n",
       "      <td>7.700000e+06</td>\n",
       "      <td>33.000000</td>\n",
       "      <td>8.000000</td>\n",
       "      <td>13540.000000</td>\n",
       "      <td>3.500000</td>\n",
       "      <td>13.000000</td>\n",
       "      <td>9410.000000</td>\n",
       "      <td>6210.000000</td>\n",
       "      <td>1.000000</td>\n",
       "      <td>1.000000</td>\n",
       "      <td>...</td>\n",
       "      <td>1.000000</td>\n",
       "      <td>1.000000</td>\n",
       "      <td>1.000000</td>\n",
       "      <td>1.000000</td>\n",
       "      <td>1.00000</td>\n",
       "      <td>1.000000</td>\n",
       "      <td>1.000000</td>\n",
       "      <td>1.000000</td>\n",
       "      <td>1.000000</td>\n",
       "      <td>1.000000</td>\n",
       "    </tr>\n",
       "  </tbody>\n",
       "</table>\n",
       "<p>8 rows × 31 columns</p>\n",
       "</div>"
      ],
      "text/plain": [
       "              price      bedrooms     bathrooms   sqft_living        floors  \\\n",
       "count  2.159700e+04  21597.000000  21597.000000  21597.000000  21597.000000   \n",
       "mean   5.402966e+05      3.373200      2.115826   2080.321850      1.494096   \n",
       "std    3.673681e+05      0.926299      0.768984    918.106125      0.539683   \n",
       "min    7.800000e+04      1.000000      0.500000    370.000000      1.000000   \n",
       "25%    3.220000e+05      3.000000      1.750000   1430.000000      1.000000   \n",
       "50%    4.500000e+05      3.000000      2.250000   1910.000000      1.500000   \n",
       "75%    6.450000e+05      4.000000      2.500000   2550.000000      2.000000   \n",
       "max    7.700000e+06     33.000000      8.000000  13540.000000      3.500000   \n",
       "\n",
       "              grade    sqft_above  sqft_living15  waterfront_no  \\\n",
       "count  21597.000000  21597.000000   21597.000000   21597.000000   \n",
       "mean       7.657915   1788.596842    1986.620318       0.883225   \n",
       "std        1.173200    827.759761     685.230472       0.321160   \n",
       "min        3.000000    370.000000     399.000000       0.000000   \n",
       "25%        7.000000   1190.000000    1490.000000       1.000000   \n",
       "50%        7.000000   1560.000000    1840.000000       1.000000   \n",
       "75%        8.000000   2210.000000    2360.000000       1.000000   \n",
       "max       13.000000   9410.000000    6210.000000       1.000000   \n",
       "\n",
       "       waterfront_yes      ...       yr_built_0_1925  yr_built_1925_1951  \\\n",
       "count    21597.000000      ...          21597.000000        21597.000000   \n",
       "mean         0.006760      ...              0.097560            0.153077   \n",
       "std          0.081944      ...              0.296725            0.360070   \n",
       "min          0.000000      ...              0.000000            0.000000   \n",
       "25%          0.000000      ...              0.000000            0.000000   \n",
       "50%          0.000000      ...              0.000000            0.000000   \n",
       "75%          0.000000      ...              0.000000            0.000000   \n",
       "max          1.000000      ...              1.000000            1.000000   \n",
       "\n",
       "       yr_built_1951_1975  yr_built_1975_1997  yr_built_1997_2015  \\\n",
       "count        21597.000000        21597.000000         21597.00000   \n",
       "mean             0.255360            0.250544             0.24346   \n",
       "std              0.436073            0.433336             0.42918   \n",
       "min              0.000000            0.000000             0.00000   \n",
       "25%              0.000000            0.000000             0.00000   \n",
       "50%              0.000000            0.000000             0.00000   \n",
       "75%              1.000000            1.000000             0.00000   \n",
       "max              1.000000            1.000000             1.00000   \n",
       "\n",
       "        condition_1   condition_2   condition_3   condition_4   condition_5  \n",
       "count  21597.000000  21597.000000  21597.000000  21597.000000  21597.000000  \n",
       "mean       0.001343      0.007871      0.649164      0.262861      0.078761  \n",
       "std        0.036620      0.088373      0.477243      0.440198      0.269372  \n",
       "min        0.000000      0.000000      0.000000      0.000000      0.000000  \n",
       "25%        0.000000      0.000000      0.000000      0.000000      0.000000  \n",
       "50%        0.000000      0.000000      1.000000      0.000000      0.000000  \n",
       "75%        0.000000      0.000000      1.000000      1.000000      0.000000  \n",
       "max        1.000000      1.000000      1.000000      1.000000      1.000000  \n",
       "\n",
       "[8 rows x 31 columns]"
      ]
     },
     "execution_count": 49,
     "metadata": {},
     "output_type": "execute_result"
    }
   ],
   "source": [
    "kc.describe()"
   ]
  },
  {
   "cell_type": "code",
   "execution_count": 50,
   "metadata": {},
   "outputs": [
    {
     "data": {
      "text/plain": [
       "Index(['price', 'bedrooms', 'bathrooms', 'sqft_living', 'floors', 'grade',\n",
       "       'sqft_above', 'sqft_living15', 'waterfront_no', 'waterfront_yes',\n",
       "       'waterfront_unknown', 'view_0', 'view_1', 'view_2', 'view_3', 'view_4',\n",
       "       'zip_0_98015', 'zip_98015_98033', 'zip_98033_98065', 'zip_98065_98118',\n",
       "       'zip_98118_98199', 'yr_built_0_1925', 'yr_built_1925_1951',\n",
       "       'yr_built_1951_1975', 'yr_built_1975_1997', 'yr_built_1997_2015',\n",
       "       'condition_1', 'condition_2', 'condition_3', 'condition_4',\n",
       "       'condition_5'],\n",
       "      dtype='object')"
      ]
     },
     "execution_count": 50,
     "metadata": {},
     "output_type": "execute_result"
    }
   ],
   "source": [
    "kc.columns"
   ]
  },
  {
   "cell_type": "code",
   "execution_count": 51,
   "metadata": {},
   "outputs": [],
   "source": [
    "#Separate numerical and categorical variables\n",
    "kc_numeric = kc[list(kc.columns)[0:8]]\n",
    "kc_categorical = kc[list(kc.columns)[8:]]"
   ]
  },
  {
   "cell_type": "code",
   "execution_count": 52,
   "metadata": {},
   "outputs": [
    {
     "data": {
      "image/png": "[encoded data removed]",
      "text/plain": [
       "<Figure size 432x288 with 9 Axes>"
      ]
     },
     "metadata": {},
     "output_type": "display_data"
    }
   ],
   "source": [
    "kc_numeric.hist()\n",
    "plt.show()"
   ]
  },
  {
   "cell_type": "code",
   "execution_count": 53,
   "metadata": {},
   "outputs": [
    {
     "name": "stderr",
     "output_type": "stream",
     "text": [
      "/Users/dgoldstein24/anaconda3/lib/python3.6/site-packages/ipykernel_launcher.py:3: SettingWithCopyWarning: \n",
      "A value is trying to be set on a copy of a slice from a DataFrame.\n",
      "Try using .loc[row_indexer,col_indexer] = value instead\n",
      "\n",
      "See the caveats in the documentation: http://pandas.pydata.org/pandas-docs/stable/indexing.html#indexing-view-versus-copy\n",
      "  This is separate from the ipykernel package so we can avoid doing imports until\n"
     ]
    }
   ],
   "source": [
    "kc_numeric_log = kc_numeric\n",
    "for column in list(kc_numeric_log.columns):\n",
    "    kc_numeric_log[column] = np.log(kc_numeric_log[column])"
   ]
  },
  {
   "cell_type": "code",
   "execution_count": 54,
   "metadata": {},
   "outputs": [
    {
     "data": {
      "image/png": "[encoded data removed]",
      "text/plain": [
       "<Figure size 432x288 with 9 Axes>"
      ]
     },
     "metadata": {},
     "output_type": "display_data"
    }
   ],
   "source": [
    "kc_numeric_log.hist()\n",
    "plt.show()"
   ]
  },
  {
   "cell_type": "code",
   "execution_count": 55,
   "metadata": {},
   "outputs": [
    {
     "name": "stderr",
     "output_type": "stream",
     "text": [
      "/Users/dgoldstein24/anaconda3/lib/python3.6/site-packages/ipykernel_launcher.py:5: SettingWithCopyWarning: \n",
      "A value is trying to be set on a copy of a slice from a DataFrame.\n",
      "Try using .loc[row_indexer,col_indexer] = value instead\n",
      "\n",
      "See the caveats in the documentation: http://pandas.pydata.org/pandas-docs/stable/indexing.html#indexing-view-versus-copy\n",
      "  \"\"\"\n"
     ]
    }
   ],
   "source": [
    "kc_numeric_log_std = kc_numeric_log\n",
    "for column in list(kc_numeric_log_std.columns):\n",
    "    mean = np.mean(kc_numeric_log_std[column])\n",
    "    std = np.std(kc_numeric_log_std[column])\n",
    "    kc_numeric_log_std[column] = (kc_numeric_log_std[column] - mean) / std"
   ]
  },
  {
   "cell_type": "code",
   "execution_count": 56,
   "metadata": {},
   "outputs": [
    {
     "data": {
      "image/png": "[encoded data removed]",
      "text/plain": [
       "<Figure size 432x288 with 9 Axes>"
      ]
     },
     "metadata": {},
     "output_type": "display_data"
    }
   ],
   "source": [
    "kc_numeric_log_std.hist()\n",
    "plt.show()"
   ]
  },
  {
   "cell_type": "code",
   "execution_count": 57,
   "metadata": {},
   "outputs": [
    {
     "data": {
      "text/html": [
       "<div>\n",
       "<style scoped>\n",
       "    .dataframe tbody tr th:only-of-type {\n",
       "        vertical-align: middle;\n",
       "    }\n",
       "\n",
       "    .dataframe tbody tr th {\n",
       "        vertical-align: top;\n",
       "    }\n",
       "\n",
       "    .dataframe thead th {\n",
       "        text-align: right;\n",
       "    }\n",
       "</style>\n",
       "<table border=\"1\" class=\"dataframe\">\n",
       "  <thead>\n",
       "    <tr style=\"text-align: right;\">\n",
       "      <th></th>\n",
       "      <th>ind_variable</th>\n",
       "      <th>r_squared</th>\n",
       "      <th>intercept</th>\n",
       "      <th>slope</th>\n",
       "      <th>p-value</th>\n",
       "    </tr>\n",
       "  </thead>\n",
       "  <tbody>\n",
       "    <tr>\n",
       "      <th>0</th>\n",
       "      <td>bedrooms</td>\n",
       "      <td>0.0953497028373066</td>\n",
       "      <td>127199.51268533265</td>\n",
       "      <td>122464.44417420312</td>\n",
       "      <td>0.0</td>\n",
       "    </tr>\n",
       "    <tr>\n",
       "      <th>1</th>\n",
       "      <td>bathrooms</td>\n",
       "      <td>0.27657672267607736</td>\n",
       "      <td>8712.651752670936</td>\n",
       "      <td>251241.7624951595</td>\n",
       "      <td>0.0</td>\n",
       "    </tr>\n",
       "    <tr>\n",
       "      <th>2</th>\n",
       "      <td>sqft_living</td>\n",
       "      <td>0.4926878990403508</td>\n",
       "      <td>-43988.89219422744</td>\n",
       "      <td>280.8630143588747</td>\n",
       "      <td>0.0</td>\n",
       "    </tr>\n",
       "    <tr>\n",
       "      <th>3</th>\n",
       "      <td>floors</td>\n",
       "      <td>0.06594805661983039</td>\n",
       "      <td>279114.9959148354</td>\n",
       "      <td>174809.05327963608</td>\n",
       "      <td>0.0</td>\n",
       "    </tr>\n",
       "    <tr>\n",
       "      <th>4</th>\n",
       "      <td>grade</td>\n",
       "      <td>0.44615823299735013</td>\n",
       "      <td>-1061415.9916200484</td>\n",
       "      <td>209157.77607213444</td>\n",
       "      <td>0.0</td>\n",
       "    </tr>\n",
       "    <tr>\n",
       "      <th>5</th>\n",
       "      <td>sqft_above</td>\n",
       "      <td>0.36647034726583827</td>\n",
       "      <td>59757.11100593556</td>\n",
       "      <td>268.66840596728946</td>\n",
       "      <td>0.0</td>\n",
       "    </tr>\n",
       "    <tr>\n",
       "      <th>6</th>\n",
       "      <td>sqft_living15</td>\n",
       "      <td>0.34250726417201927</td>\n",
       "      <td>-83028.48736945572</td>\n",
       "      <td>313.7615453447818</td>\n",
       "      <td>0.0</td>\n",
       "    </tr>\n",
       "  </tbody>\n",
       "</table>\n",
       "</div>"
      ],
      "text/plain": [
       "    ind_variable            r_squared            intercept  \\\n",
       "0       bedrooms   0.0953497028373066   127199.51268533265   \n",
       "1      bathrooms  0.27657672267607736    8712.651752670936   \n",
       "2    sqft_living   0.4926878990403508   -43988.89219422744   \n",
       "3         floors  0.06594805661983039    279114.9959148354   \n",
       "4          grade  0.44615823299735013  -1061415.9916200484   \n",
       "5     sqft_above  0.36647034726583827    59757.11100593556   \n",
       "6  sqft_living15  0.34250726417201927   -83028.48736945572   \n",
       "\n",
       "                slope p-value  \n",
       "0  122464.44417420312     0.0  \n",
       "1   251241.7624951595     0.0  \n",
       "2   280.8630143588747     0.0  \n",
       "3  174809.05327963608     0.0  \n",
       "4  209157.77607213444     0.0  \n",
       "5  268.66840596728946     0.0  \n",
       "6   313.7615453447818     0.0  "
      ]
     },
     "execution_count": 57,
     "metadata": {},
     "output_type": "execute_result"
    }
   ],
   "source": [
    "values = []\n",
    "num_columns = list(kc_numeric_log_std.columns[1:])\n",
    "for column in num_columns:\n",
    "    values_for_category = []\n",
    "    f = 'price ~ ' + column\n",
    "    model = smf.ols(formula = f, data = kc).fit()\n",
    "    values_for_category.append(column)\n",
    "    values_for_category.append(model.rsquared)\n",
    "    values_for_category.append(model.params[0])\n",
    "    values_for_category.append(model.params[1])\n",
    "    values_for_category.append(model.pvalues[1])\n",
    "    values.append(values_for_category)\n",
    "categories = ['ind_variable', 'r_squared', 'intercept', 'slope', 'p-value']\n",
    "regression_array = np.array(values)\n",
    "regression_df = pd.DataFrame(regression_array, columns = categories)\n",
    "regression_df"
   ]
  },
  {
   "cell_type": "code",
   "execution_count": 58,
   "metadata": {},
   "outputs": [],
   "source": [
    "#All r-squared values are over .01"
   ]
  },
  {
   "cell_type": "code",
   "execution_count": 59,
   "metadata": {},
   "outputs": [],
   "source": [
    "#Add log_standardized values back to kc\n",
    "for column in list(kc_numeric_log_std.columns[1:]):\n",
    "    kc[column] = kc_numeric_log_std[column]"
   ]
  },
  {
   "cell_type": "code",
   "execution_count": 60,
   "metadata": {},
   "outputs": [],
   "source": [
    "#Start work on categorical variables"
   ]
  },
  {
   "cell_type": "code",
   "execution_count": 61,
   "metadata": {},
   "outputs": [
    {
     "data": {
      "text/plain": [
       "['price',\n",
       " 'bedrooms',\n",
       " 'bathrooms',\n",
       " 'sqft_living',\n",
       " 'floors',\n",
       " 'grade',\n",
       " 'sqft_above',\n",
       " 'sqft_living15',\n",
       " 'waterfront_no',\n",
       " 'waterfront_yes',\n",
       " 'waterfront_unknown',\n",
       " 'view_0',\n",
       " 'view_1',\n",
       " 'view_2',\n",
       " 'view_3',\n",
       " 'view_4',\n",
       " 'zip_0_98015',\n",
       " 'zip_98015_98033',\n",
       " 'zip_98033_98065',\n",
       " 'zip_98065_98118',\n",
       " 'zip_98118_98199',\n",
       " 'yr_built_0_1925',\n",
       " 'yr_built_1925_1951',\n",
       " 'yr_built_1951_1975',\n",
       " 'yr_built_1975_1997',\n",
       " 'yr_built_1997_2015',\n",
       " 'condition_1',\n",
       " 'condition_2',\n",
       " 'condition_3',\n",
       " 'condition_4',\n",
       " 'condition_5']"
      ]
     },
     "execution_count": 61,
     "metadata": {},
     "output_type": "execute_result"
    }
   ],
   "source": [
    "columns = list(kc.columns)\n",
    "columns"
   ]
  },
  {
   "cell_type": "code",
   "execution_count": 62,
   "metadata": {},
   "outputs": [],
   "source": [
    "waterfront_cols = []\n",
    "view_cols = []\n",
    "zip_cols = []\n",
    "yr_built_cols = []\n",
    "condition_cols = []\n",
    "\n",
    "for column in columns:\n",
    "    if 'waterfront' in column:\n",
    "        waterfront_cols.append(column)\n",
    "\n",
    "for column in columns:\n",
    "    if 'view' in column:\n",
    "        view_cols.append(column)\n",
    "        \n",
    "for column in columns:\n",
    "    if 'zip' in column:\n",
    "        zip_cols.append(column)\n",
    "        \n",
    "for column in columns:\n",
    "    if 'yr_built' in column:\n",
    "        yr_built_cols.append(column)\n",
    "        \n",
    "for column in columns:\n",
    "    if 'condition' in column:\n",
    "        condition_cols.append(column)"
   ]
  },
  {
   "cell_type": "code",
   "execution_count": 63,
   "metadata": {},
   "outputs": [],
   "source": [
    "#drop and save last item from each categorical column's list for singularity\n",
    "waterfront_to_drop = waterfront_cols.pop()\n",
    "view_to_drop = view_cols.pop()\n",
    "zip_to_drop = zip_cols.pop()\n",
    "yr_built_to_drop = yr_built_cols.pop()\n",
    "condition_to_drop = condition_cols.pop()"
   ]
  },
  {
   "cell_type": "code",
   "execution_count": 64,
   "metadata": {},
   "outputs": [],
   "source": [
    "#drop from kc as well\n",
    "to_drop_from_categories = [waterfront_to_drop, waterfront_to_drop, zip_to_drop, yr_built_to_drop, condition_to_drop]\n",
    "kc = kc.drop(to_drop_from_categories, axis = 1)"
   ]
  },
  {
   "cell_type": "code",
   "execution_count": 65,
   "metadata": {},
   "outputs": [
    {
     "name": "stdout",
     "output_type": "stream",
     "text": [
      "['waterfront_no', 'waterfront_yes']\n",
      "['view_0', 'view_1', 'view_2', 'view_3']\n",
      "['zip_0_98015', 'zip_98015_98033', 'zip_98033_98065', 'zip_98065_98118']\n",
      "['yr_built_0_1925', 'yr_built_1925_1951', 'yr_built_1951_1975', 'yr_built_1975_1997']\n",
      "['condition_1', 'condition_2', 'condition_3', 'condition_4']\n"
     ]
    }
   ],
   "source": [
    "print(waterfront_cols)\n",
    "print(view_cols)\n",
    "print(zip_cols)\n",
    "print(yr_built_cols)\n",
    "print(condition_cols)"
   ]
  },
  {
   "cell_type": "code",
   "execution_count": 66,
   "metadata": {},
   "outputs": [],
   "source": [
    "cols = [waterfront_cols, view_cols, zip_cols, yr_built_cols, condition_cols]"
   ]
  },
  {
   "cell_type": "code",
   "execution_count": 67,
   "metadata": {},
   "outputs": [
    {
     "data": {
      "text/plain": [
       "[['waterfront_no', 'waterfront_yes'],\n",
       " ['view_0', 'view_1', 'view_2', 'view_3'],\n",
       " ['zip_0_98015', 'zip_98015_98033', 'zip_98033_98065', 'zip_98065_98118'],\n",
       " ['yr_built_0_1925',\n",
       "  'yr_built_1925_1951',\n",
       "  'yr_built_1951_1975',\n",
       "  'yr_built_1975_1997'],\n",
       " ['condition_1', 'condition_2', 'condition_3', 'condition_4']]"
      ]
     },
     "execution_count": 67,
     "metadata": {},
     "output_type": "execute_result"
    }
   ],
   "source": [
    "cols"
   ]
  },
  {
   "cell_type": "code",
   "execution_count": 68,
   "metadata": {},
   "outputs": [
    {
     "data": {
      "text/html": [
       "<div>\n",
       "<style scoped>\n",
       "    .dataframe tbody tr th:only-of-type {\n",
       "        vertical-align: middle;\n",
       "    }\n",
       "\n",
       "    .dataframe tbody tr th {\n",
       "        vertical-align: top;\n",
       "    }\n",
       "\n",
       "    .dataframe thead th {\n",
       "        text-align: right;\n",
       "    }\n",
       "</style>\n",
       "<table border=\"1\" class=\"dataframe\">\n",
       "  <thead>\n",
       "    <tr style=\"text-align: right;\">\n",
       "      <th></th>\n",
       "      <th>ind_variable</th>\n",
       "      <th>r_squared</th>\n",
       "      <th>intercept</th>\n",
       "      <th>slope</th>\n",
       "      <th>p-value</th>\n",
       "    </tr>\n",
       "  </thead>\n",
       "  <tbody>\n",
       "    <tr>\n",
       "      <th>0</th>\n",
       "      <td>waterfront_no</td>\n",
       "      <td>0.0032838257309405483</td>\n",
       "      <td>598191.5947660612</td>\n",
       "      <td>-65549.60808191885</td>\n",
       "      <td>3.519655900920011e-17</td>\n",
       "    </tr>\n",
       "    <tr>\n",
       "      <th>1</th>\n",
       "      <td>waterfront_yes</td>\n",
       "      <td>0.06985780990281953</td>\n",
       "      <td>532286.2219943125</td>\n",
       "      <td>1184928.5040330947</td>\n",
       "      <td>0.0</td>\n",
       "    </tr>\n",
       "    <tr>\n",
       "      <th>2</th>\n",
       "      <td>view_0</td>\n",
       "      <td>0.12690920998946864</td>\n",
       "      <td>937800.3446969793</td>\n",
       "      <td>-440589.6303012865</td>\n",
       "      <td>0.0</td>\n",
       "    </tr>\n",
       "    <tr>\n",
       "      <th>3</th>\n",
       "      <td>view_1</td>\n",
       "      <td>0.008574209868555838</td>\n",
       "      <td>536059.2429585743</td>\n",
       "      <td>277314.0237080913</td>\n",
       "      <td>2.4294423840384033e-42</td>\n",
       "    </tr>\n",
       "    <tr>\n",
       "      <th>4</th>\n",
       "      <td>view_2</td>\n",
       "      <td>0.02166164054879549</td>\n",
       "      <td>528654.2884205427</td>\n",
       "      <td>262736.0825303471</td>\n",
       "      <td>7.445130269790443e-105</td>\n",
       "    </tr>\n",
       "    <tr>\n",
       "      <th>5</th>\n",
       "      <td>view_3</td>\n",
       "      <td>0.033463998103144044</td>\n",
       "      <td>529866.5758452271</td>\n",
       "      <td>443418.6210051637</td>\n",
       "      <td>7.305134169157506e-162</td>\n",
       "    </tr>\n",
       "    <tr>\n",
       "      <th>6</th>\n",
       "      <td>zip_0_98015</td>\n",
       "      <td>0.009079771664372016</td>\n",
       "      <td>527160.2996672124</td>\n",
       "      <td>106415.64369362695</td>\n",
       "      <td>9.579712257959327e-45</td>\n",
       "    </tr>\n",
       "    <tr>\n",
       "      <th>7</th>\n",
       "      <td>zip_98015_98033</td>\n",
       "      <td>0.005926580511261714</td>\n",
       "      <td>551883.0317417397</td>\n",
       "      <td>-80616.21730874912</td>\n",
       "      <td>9.351538456237958e-30</td>\n",
       "    </tr>\n",
       "    <tr>\n",
       "      <th>8</th>\n",
       "      <td>zip_98033_98065</td>\n",
       "      <td>0.0008788377538426762</td>\n",
       "      <td>546363.4290134693</td>\n",
       "      <td>-25616.007508092724</td>\n",
       "      <td>1.3165307064809603e-05</td>\n",
       "    </tr>\n",
       "    <tr>\n",
       "      <th>9</th>\n",
       "      <td>zip_98065_98118</td>\n",
       "      <td>0.011042146927206065</td>\n",
       "      <td>516872.70047513465</td>\n",
       "      <td>87041.53231908428</td>\n",
       "      <td>4.401144721400178e-54</td>\n",
       "    </tr>\n",
       "    <tr>\n",
       "      <th>10</th>\n",
       "      <td>yr_built_0_1925</td>\n",
       "      <td>0.002708273087287272</td>\n",
       "      <td>534010.7235505386</td>\n",
       "      <td>64430.70786854092</td>\n",
       "      <td>1.968702549084537e-14</td>\n",
       "    </tr>\n",
       "    <tr>\n",
       "      <th>11</th>\n",
       "      <td>yr_built_1925_1951</td>\n",
       "      <td>0.0012631319126529261</td>\n",
       "      <td>545847.2828713575</td>\n",
       "      <td>-36260.940766095046</td>\n",
       "      <td>1.7475791945049562e-07</td>\n",
       "    </tr>\n",
       "    <tr>\n",
       "      <th>12</th>\n",
       "      <td>yr_built_1951_1975</td>\n",
       "      <td>0.01292405983381073</td>\n",
       "      <td>564753.0363138914</td>\n",
       "      <td>-95772.66133655724</td>\n",
       "      <td>4.761838975113907e-63</td>\n",
       "    </tr>\n",
       "    <tr>\n",
       "      <th>13</th>\n",
       "      <td>yr_built_1975_1997</td>\n",
       "      <td>0.00013831702127731216</td>\n",
       "      <td>542794.6069442722</td>\n",
       "      <td>-9970.435811394207</td>\n",
       "      <td>0.08393068876816698</td>\n",
       "    </tr>\n",
       "    <tr>\n",
       "      <th>14</th>\n",
       "      <td>condition_1</td>\n",
       "      <td>0.00039546842258897374</td>\n",
       "      <td>540564.4541913946</td>\n",
       "      <td>-199497.21281208584</td>\n",
       "      <td>0.0034711428109597134</td>\n",
       "    </tr>\n",
       "    <tr>\n",
       "      <th>15</th>\n",
       "      <td>condition_2</td>\n",
       "      <td>0.002645202780780398</td>\n",
       "      <td>541979.4982498718</td>\n",
       "      <td>-213800.73942634094</td>\n",
       "      <td>3.941689723520671e-14</td>\n",
       "    </tr>\n",
       "    <tr>\n",
       "      <th>16</th>\n",
       "      <td>condition_3</td>\n",
       "      <td>4.827891647563032e-05</td>\n",
       "      <td>536824.4468787111</td>\n",
       "      <td>5348.610467936225</td>\n",
       "      <td>0.30722120918590334</td>\n",
       "    </tr>\n",
       "    <tr>\n",
       "      <th>17</th>\n",
       "      <td>condition_4</td>\n",
       "      <td>0.0009460905136229325</td>\n",
       "      <td>547044.1170226131</td>\n",
       "      <td>-25669.66660866361</td>\n",
       "      <td>6.1529499406084935e-06</td>\n",
       "    </tr>\n",
       "  </tbody>\n",
       "</table>\n",
       "</div>"
      ],
      "text/plain": [
       "          ind_variable               r_squared           intercept  \\\n",
       "0        waterfront_no   0.0032838257309405483   598191.5947660612   \n",
       "1       waterfront_yes     0.06985780990281953   532286.2219943125   \n",
       "2               view_0     0.12690920998946864   937800.3446969793   \n",
       "3               view_1    0.008574209868555838   536059.2429585743   \n",
       "4               view_2     0.02166164054879549   528654.2884205427   \n",
       "5               view_3    0.033463998103144044   529866.5758452271   \n",
       "6          zip_0_98015    0.009079771664372016   527160.2996672124   \n",
       "7      zip_98015_98033    0.005926580511261714   551883.0317417397   \n",
       "8      zip_98033_98065   0.0008788377538426762   546363.4290134693   \n",
       "9      zip_98065_98118    0.011042146927206065  516872.70047513465   \n",
       "10     yr_built_0_1925    0.002708273087287272   534010.7235505386   \n",
       "11  yr_built_1925_1951   0.0012631319126529261   545847.2828713575   \n",
       "12  yr_built_1951_1975     0.01292405983381073   564753.0363138914   \n",
       "13  yr_built_1975_1997  0.00013831702127731216   542794.6069442722   \n",
       "14         condition_1  0.00039546842258897374   540564.4541913946   \n",
       "15         condition_2    0.002645202780780398   541979.4982498718   \n",
       "16         condition_3   4.827891647563032e-05   536824.4468787111   \n",
       "17         condition_4   0.0009460905136229325   547044.1170226131   \n",
       "\n",
       "                  slope                 p-value  \n",
       "0    -65549.60808191885   3.519655900920011e-17  \n",
       "1    1184928.5040330947                     0.0  \n",
       "2    -440589.6303012865                     0.0  \n",
       "3     277314.0237080913  2.4294423840384033e-42  \n",
       "4     262736.0825303471  7.445130269790443e-105  \n",
       "5     443418.6210051637  7.305134169157506e-162  \n",
       "6    106415.64369362695   9.579712257959327e-45  \n",
       "7    -80616.21730874912   9.351538456237958e-30  \n",
       "8   -25616.007508092724  1.3165307064809603e-05  \n",
       "9     87041.53231908428   4.401144721400178e-54  \n",
       "10    64430.70786854092   1.968702549084537e-14  \n",
       "11  -36260.940766095046  1.7475791945049562e-07  \n",
       "12   -95772.66133655724   4.761838975113907e-63  \n",
       "13   -9970.435811394207     0.08393068876816698  \n",
       "14  -199497.21281208584   0.0034711428109597134  \n",
       "15  -213800.73942634094   3.941689723520671e-14  \n",
       "16    5348.610467936225     0.30722120918590334  \n",
       "17   -25669.66660866361  6.1529499406084935e-06  "
      ]
     },
     "execution_count": 68,
     "metadata": {},
     "output_type": "execute_result"
    }
   ],
   "source": [
    "categorical_values = []\n",
    "for col in cols:\n",
    "    for subcat in col:\n",
    "        values_for_subcat = []\n",
    "        f = 'price ~' + subcat\n",
    "        model = smf.ols(formula = f, data = kc).fit()\n",
    "        values_for_subcat.append(subcat)\n",
    "        values_for_subcat.append(model.rsquared)\n",
    "        values_for_subcat.append(model.params[0])\n",
    "        values_for_subcat.append(model.params[1])\n",
    "        values_for_subcat.append(model.pvalues[1])\n",
    "        categorical_values.append(values_for_subcat)\n",
    "categories = ['ind_variable', 'r_squared', 'intercept', 'slope', 'p-value']\n",
    "categorical_array = np.array(categorical_values)\n",
    "categorical_df = pd.DataFrame(categorical_array, columns = categories)\n",
    "categorical_df"
   ]
  },
  {
   "cell_type": "code",
   "execution_count": 69,
   "metadata": {},
   "outputs": [],
   "source": [
    "#p-value > .05: yr_built_1975_1997, condition_3\n",
    "#^included in r-squared\n",
    "#r-squared  < .01: waterfront_no, view_1, zip_0_98015, zip_98015_98033, zip_98033_98065, yr_built_0_1925, yr_built_1925_1951, yr_built_1975_1997, condition_1, condition_2, condition_3,condition_4"
   ]
  },
  {
   "cell_type": "code",
   "execution_count": 70,
   "metadata": {},
   "outputs": [],
   "source": [
    "to_drop_from_categorical_regression = ['waterfront_no', 'view_1', 'zip_0_98015', 'zip_98015_98033', 'zip_98033_98065', 'yr_built_0_1925', 'yr_built_1925_1951', 'yr_built_1975_1997', 'condition_1', 'condition_2', 'condition_3', 'condition_4']"
   ]
  },
  {
   "cell_type": "code",
   "execution_count": 71,
   "metadata": {},
   "outputs": [],
   "source": [
    "kc = kc.drop(to_drop_from_categorical_regression, axis = 1)"
   ]
  },
  {
   "cell_type": "markdown",
   "metadata": {},
   "source": [
    "### Explore Data "
   ]
  },
  {
   "cell_type": "markdown",
   "metadata": {},
   "source": [
    "### Question: Is there Colinearity amongst the predictor variables?"
   ]
  },
  {
   "cell_type": "code",
   "execution_count": 72,
   "metadata": {},
   "outputs": [
    {
     "data": {
      "text/html": [
       "<div>\n",
       "<style scoped>\n",
       "    .dataframe tbody tr th:only-of-type {\n",
       "        vertical-align: middle;\n",
       "    }\n",
       "\n",
       "    .dataframe tbody tr th {\n",
       "        vertical-align: top;\n",
       "    }\n",
       "\n",
       "    .dataframe thead th {\n",
       "        text-align: right;\n",
       "    }\n",
       "</style>\n",
       "<table border=\"1\" class=\"dataframe\">\n",
       "  <thead>\n",
       "    <tr style=\"text-align: right;\">\n",
       "      <th></th>\n",
       "      <th>price</th>\n",
       "      <th>bedrooms</th>\n",
       "      <th>bathrooms</th>\n",
       "      <th>sqft_living</th>\n",
       "      <th>floors</th>\n",
       "      <th>grade</th>\n",
       "      <th>sqft_above</th>\n",
       "      <th>sqft_living15</th>\n",
       "      <th>waterfront_yes</th>\n",
       "      <th>view_0</th>\n",
       "      <th>view_2</th>\n",
       "      <th>view_3</th>\n",
       "      <th>view_4</th>\n",
       "      <th>zip_98065_98118</th>\n",
       "      <th>yr_built_1951_1975</th>\n",
       "    </tr>\n",
       "  </thead>\n",
       "  <tbody>\n",
       "    <tr>\n",
       "      <th>0</th>\n",
       "      <td>221900.0</td>\n",
       "      <td>-0.279725</td>\n",
       "      <td>-1.726549</td>\n",
       "      <td>-1.125582</td>\n",
       "      <td>-0.960874</td>\n",
       "      <td>-0.525943</td>\n",
       "      <td>-0.753583</td>\n",
       "      <td>-1.035453</td>\n",
       "      <td>0</td>\n",
       "      <td>1</td>\n",
       "      <td>0</td>\n",
       "      <td>0</td>\n",
       "      <td>0</td>\n",
       "      <td>0</td>\n",
       "      <td>1</td>\n",
       "    </tr>\n",
       "    <tr>\n",
       "      <th>1</th>\n",
       "      <td>538000.0</td>\n",
       "      <td>-0.279725</td>\n",
       "      <td>0.339661</td>\n",
       "      <td>0.709463</td>\n",
       "      <td>1.006854</td>\n",
       "      <td>-0.525943</td>\n",
       "      <td>0.672709</td>\n",
       "      <td>-0.326789</td>\n",
       "      <td>0</td>\n",
       "      <td>1</td>\n",
       "      <td>0</td>\n",
       "      <td>0</td>\n",
       "      <td>0</td>\n",
       "      <td>0</td>\n",
       "      <td>0</td>\n",
       "    </tr>\n",
       "    <tr>\n",
       "      <th>2</th>\n",
       "      <td>180000.0</td>\n",
       "      <td>-1.711651</td>\n",
       "      <td>-1.726549</td>\n",
       "      <td>-2.131943</td>\n",
       "      <td>-0.960874</td>\n",
       "      <td>-1.558145</td>\n",
       "      <td>-1.752995</td>\n",
       "      <td>1.126531</td>\n",
       "      <td>0</td>\n",
       "      <td>1</td>\n",
       "      <td>0</td>\n",
       "      <td>0</td>\n",
       "      <td>0</td>\n",
       "      <td>0</td>\n",
       "      <td>0</td>\n",
       "    </tr>\n",
       "    <tr>\n",
       "      <th>3</th>\n",
       "      <td>604000.0</td>\n",
       "      <td>0.736243</td>\n",
       "      <td>1.072660</td>\n",
       "      <td>0.070676</td>\n",
       "      <td>-0.960874</td>\n",
       "      <td>-0.525943</td>\n",
       "      <td>-1.026858</td>\n",
       "      <td>-0.990210</td>\n",
       "      <td>0</td>\n",
       "      <td>1</td>\n",
       "      <td>0</td>\n",
       "      <td>0</td>\n",
       "      <td>0</td>\n",
       "      <td>0</td>\n",
       "      <td>1</td>\n",
       "    </tr>\n",
       "    <tr>\n",
       "      <th>4</th>\n",
       "      <td>510000.0</td>\n",
       "      <td>-0.279725</td>\n",
       "      <td>0.039555</td>\n",
       "      <td>-0.292732</td>\n",
       "      <td>-0.960874</td>\n",
       "      <td>0.368190</td>\n",
       "      <td>0.073516</td>\n",
       "      <td>-0.134221</td>\n",
       "      <td>0</td>\n",
       "      <td>1</td>\n",
       "      <td>0</td>\n",
       "      <td>0</td>\n",
       "      <td>0</td>\n",
       "      <td>1</td>\n",
       "      <td>0</td>\n",
       "    </tr>\n",
       "  </tbody>\n",
       "</table>\n",
       "</div>"
      ],
      "text/plain": [
       "      price  bedrooms  bathrooms  sqft_living    floors     grade  sqft_above  \\\n",
       "0  221900.0 -0.279725  -1.726549    -1.125582 -0.960874 -0.525943   -0.753583   \n",
       "1  538000.0 -0.279725   0.339661     0.709463  1.006854 -0.525943    0.672709   \n",
       "2  180000.0 -1.711651  -1.726549    -2.131943 -0.960874 -1.558145   -1.752995   \n",
       "3  604000.0  0.736243   1.072660     0.070676 -0.960874 -0.525943   -1.026858   \n",
       "4  510000.0 -0.279725   0.039555    -0.292732 -0.960874  0.368190    0.073516   \n",
       "\n",
       "   sqft_living15  waterfront_yes  view_0  view_2  view_3  view_4  \\\n",
       "0      -1.035453               0       1       0       0       0   \n",
       "1      -0.326789               0       1       0       0       0   \n",
       "2       1.126531               0       1       0       0       0   \n",
       "3      -0.990210               0       1       0       0       0   \n",
       "4      -0.134221               0       1       0       0       0   \n",
       "\n",
       "   zip_98065_98118  yr_built_1951_1975  \n",
       "0                0                   1  \n",
       "1                0                   0  \n",
       "2                0                   0  \n",
       "3                0                   1  \n",
       "4                1                   0  "
      ]
     },
     "execution_count": 72,
     "metadata": {},
     "output_type": "execute_result"
    }
   ],
   "source": [
    "kc.head()"
   ]
  },
  {
   "cell_type": "code",
   "execution_count": 73,
   "metadata": {},
   "outputs": [
    {
     "data": {
      "text/html": [
       "<div>\n",
       "<style scoped>\n",
       "    .dataframe tbody tr th:only-of-type {\n",
       "        vertical-align: middle;\n",
       "    }\n",
       "\n",
       "    .dataframe tbody tr th {\n",
       "        vertical-align: top;\n",
       "    }\n",
       "\n",
       "    .dataframe thead th {\n",
       "        text-align: right;\n",
       "    }\n",
       "</style>\n",
       "<table border=\"1\" class=\"dataframe\">\n",
       "  <thead>\n",
       "    <tr style=\"text-align: right;\">\n",
       "      <th></th>\n",
       "      <th>bedrooms</th>\n",
       "      <th>bathrooms</th>\n",
       "      <th>sqft_living</th>\n",
       "      <th>floors</th>\n",
       "      <th>grade</th>\n",
       "      <th>sqft_above</th>\n",
       "      <th>sqft_living15</th>\n",
       "      <th>waterfront_yes</th>\n",
       "      <th>view_0</th>\n",
       "      <th>view_2</th>\n",
       "      <th>view_3</th>\n",
       "      <th>view_4</th>\n",
       "      <th>zip_98065_98118</th>\n",
       "      <th>yr_built_1951_1975</th>\n",
       "    </tr>\n",
       "  </thead>\n",
       "  <tbody>\n",
       "    <tr>\n",
       "      <th>0</th>\n",
       "      <td>-0.279725</td>\n",
       "      <td>-1.726549</td>\n",
       "      <td>-1.125582</td>\n",
       "      <td>-0.960874</td>\n",
       "      <td>-0.525943</td>\n",
       "      <td>-0.753583</td>\n",
       "      <td>-1.035453</td>\n",
       "      <td>0</td>\n",
       "      <td>1</td>\n",
       "      <td>0</td>\n",
       "      <td>0</td>\n",
       "      <td>0</td>\n",
       "      <td>0</td>\n",
       "      <td>1</td>\n",
       "    </tr>\n",
       "    <tr>\n",
       "      <th>1</th>\n",
       "      <td>-0.279725</td>\n",
       "      <td>0.339661</td>\n",
       "      <td>0.709463</td>\n",
       "      <td>1.006854</td>\n",
       "      <td>-0.525943</td>\n",
       "      <td>0.672709</td>\n",
       "      <td>-0.326789</td>\n",
       "      <td>0</td>\n",
       "      <td>1</td>\n",
       "      <td>0</td>\n",
       "      <td>0</td>\n",
       "      <td>0</td>\n",
       "      <td>0</td>\n",
       "      <td>0</td>\n",
       "    </tr>\n",
       "    <tr>\n",
       "      <th>2</th>\n",
       "      <td>-1.711651</td>\n",
       "      <td>-1.726549</td>\n",
       "      <td>-2.131943</td>\n",
       "      <td>-0.960874</td>\n",
       "      <td>-1.558145</td>\n",
       "      <td>-1.752995</td>\n",
       "      <td>1.126531</td>\n",
       "      <td>0</td>\n",
       "      <td>1</td>\n",
       "      <td>0</td>\n",
       "      <td>0</td>\n",
       "      <td>0</td>\n",
       "      <td>0</td>\n",
       "      <td>0</td>\n",
       "    </tr>\n",
       "    <tr>\n",
       "      <th>3</th>\n",
       "      <td>0.736243</td>\n",
       "      <td>1.072660</td>\n",
       "      <td>0.070676</td>\n",
       "      <td>-0.960874</td>\n",
       "      <td>-0.525943</td>\n",
       "      <td>-1.026858</td>\n",
       "      <td>-0.990210</td>\n",
       "      <td>0</td>\n",
       "      <td>1</td>\n",
       "      <td>0</td>\n",
       "      <td>0</td>\n",
       "      <td>0</td>\n",
       "      <td>0</td>\n",
       "      <td>1</td>\n",
       "    </tr>\n",
       "    <tr>\n",
       "      <th>4</th>\n",
       "      <td>-0.279725</td>\n",
       "      <td>0.039555</td>\n",
       "      <td>-0.292732</td>\n",
       "      <td>-0.960874</td>\n",
       "      <td>0.368190</td>\n",
       "      <td>0.073516</td>\n",
       "      <td>-0.134221</td>\n",
       "      <td>0</td>\n",
       "      <td>1</td>\n",
       "      <td>0</td>\n",
       "      <td>0</td>\n",
       "      <td>0</td>\n",
       "      <td>1</td>\n",
       "      <td>0</td>\n",
       "    </tr>\n",
       "  </tbody>\n",
       "</table>\n",
       "</div>"
      ],
      "text/plain": [
       "   bedrooms  bathrooms  sqft_living    floors     grade  sqft_above  \\\n",
       "0 -0.279725  -1.726549    -1.125582 -0.960874 -0.525943   -0.753583   \n",
       "1 -0.279725   0.339661     0.709463  1.006854 -0.525943    0.672709   \n",
       "2 -1.711651  -1.726549    -2.131943 -0.960874 -1.558145   -1.752995   \n",
       "3  0.736243   1.072660     0.070676 -0.960874 -0.525943   -1.026858   \n",
       "4 -0.279725   0.039555    -0.292732 -0.960874  0.368190    0.073516   \n",
       "\n",
       "   sqft_living15  waterfront_yes  view_0  view_2  view_3  view_4  \\\n",
       "0      -1.035453               0       1       0       0       0   \n",
       "1      -0.326789               0       1       0       0       0   \n",
       "2       1.126531               0       1       0       0       0   \n",
       "3      -0.990210               0       1       0       0       0   \n",
       "4      -0.134221               0       1       0       0       0   \n",
       "\n",
       "   zip_98065_98118  yr_built_1951_1975  \n",
       "0                0                   1  \n",
       "1                0                   0  \n",
       "2                0                   0  \n",
       "3                0                   1  \n",
       "4                1                   0  "
      ]
     },
     "execution_count": 73,
     "metadata": {},
     "output_type": "execute_result"
    }
   ],
   "source": [
    "kc_pred= kc.iloc[:,1:]\n",
    "kc_pred.head()"
   ]
  },
  {
   "cell_type": "code",
   "execution_count": 74,
   "metadata": {},
   "outputs": [],
   "source": [
    "#pd.plotting.scatter_matrix(kc_pred,figsize  = [9, 9]);"
   ]
  },
  {
   "cell_type": "code",
   "execution_count": 75,
   "metadata": {},
   "outputs": [],
   "source": [
    "kc_values = []\n",
    "for col in list(kc.columns[1:]):\n",
    "    values_for_col = []\n",
    "    f = 'price ~' + col\n",
    "    model = smf.ols(formula = f, data = kc).fit()\n",
    "    values_for_col.append(col)\n",
    "    values_for_col.append(model.rsquared)\n",
    "    values_for_col.append(model.params[0])\n",
    "    values_for_col.append(model.params[1])\n",
    "    values_for_col.append(model.pvalues[1])\n",
    "    kc_values.append(values_for_col)\n",
    "categories = ['ind_variable', 'r_squared', 'intercept', 'slope', 'p-value']\n",
    "kc_array = np.array(kc_values)\n",
    "kc_df = pd.DataFrame(kc_array, columns = categories)"
   ]
  },
  {
   "cell_type": "code",
   "execution_count": 76,
   "metadata": {},
   "outputs": [
    {
     "data": {
      "image/png": "[encoded data removed]",
      "text/plain": [
       "<Figure size 432x288 with 2 Axes>"
      ]
     },
     "metadata": {},
     "output_type": "display_data"
    }
   ],
   "source": [
    "kc_pred= kc.iloc[:,1:]\n",
    "sns.heatmap(kc_pred.corr(), center=0);\n",
    "#less colinearity"
   ]
  },
  {
   "cell_type": "code",
   "execution_count": 77,
   "metadata": {},
   "outputs": [
    {
     "data": {
      "text/html": [
       "<div>\n",
       "<style scoped>\n",
       "    .dataframe tbody tr th:only-of-type {\n",
       "        vertical-align: middle;\n",
       "    }\n",
       "\n",
       "    .dataframe tbody tr th {\n",
       "        vertical-align: top;\n",
       "    }\n",
       "\n",
       "    .dataframe thead th {\n",
       "        text-align: right;\n",
       "    }\n",
       "</style>\n",
       "<table border=\"1\" class=\"dataframe\">\n",
       "  <thead>\n",
       "    <tr style=\"text-align: right;\">\n",
       "      <th></th>\n",
       "      <th>ind_variable</th>\n",
       "      <th>r_squared</th>\n",
       "      <th>intercept</th>\n",
       "      <th>slope</th>\n",
       "      <th>p-value</th>\n",
       "    </tr>\n",
       "  </thead>\n",
       "  <tbody>\n",
       "    <tr>\n",
       "      <th>0</th>\n",
       "      <td>bedrooms</td>\n",
       "      <td>0.08930778187151367</td>\n",
       "      <td>540296.57350555</td>\n",
       "      <td>109783.25072856745</td>\n",
       "      <td>0.0</td>\n",
       "    </tr>\n",
       "    <tr>\n",
       "      <th>1</th>\n",
       "      <td>bathrooms</td>\n",
       "      <td>0.20804705711136307</td>\n",
       "      <td>540296.5735056186</td>\n",
       "      <td>167560.72209570906</td>\n",
       "      <td>0.0</td>\n",
       "    </tr>\n",
       "    <tr>\n",
       "      <th>2</th>\n",
       "      <td>sqft_living</td>\n",
       "      <td>0.37434638211628024</td>\n",
       "      <td>540296.5735055346</td>\n",
       "      <td>224764.77761276957</td>\n",
       "      <td>0.0</td>\n",
       "    </tr>\n",
       "    <tr>\n",
       "      <th>3</th>\n",
       "      <td>floors</td>\n",
       "      <td>0.07107554943811967</td>\n",
       "      <td>540296.5735055888</td>\n",
       "      <td>97938.0713953911</td>\n",
       "      <td>0.0</td>\n",
       "    </tr>\n",
       "    <tr>\n",
       "      <th>4</th>\n",
       "      <td>grade</td>\n",
       "      <td>0.4034187855248441</td>\n",
       "      <td>540296.5735056235</td>\n",
       "      <td>233329.4157617904</td>\n",
       "      <td>0.0</td>\n",
       "    </tr>\n",
       "    <tr>\n",
       "      <th>5</th>\n",
       "      <td>sqft_above</td>\n",
       "      <td>0.2944966711903163</td>\n",
       "      <td>540296.5735055308</td>\n",
       "      <td>199357.06438928295</td>\n",
       "      <td>0.0</td>\n",
       "    </tr>\n",
       "    <tr>\n",
       "      <th>6</th>\n",
       "      <td>sqft_living15</td>\n",
       "      <td>0.2957494403114088</td>\n",
       "      <td>540296.573505502</td>\n",
       "      <td>199780.64020348393</td>\n",
       "      <td>0.0</td>\n",
       "    </tr>\n",
       "    <tr>\n",
       "      <th>7</th>\n",
       "      <td>waterfront_yes</td>\n",
       "      <td>0.06985780990281953</td>\n",
       "      <td>532286.2219943125</td>\n",
       "      <td>1184928.5040330947</td>\n",
       "      <td>0.0</td>\n",
       "    </tr>\n",
       "    <tr>\n",
       "      <th>8</th>\n",
       "      <td>view_0</td>\n",
       "      <td>0.12690920998946864</td>\n",
       "      <td>937800.3446969793</td>\n",
       "      <td>-440589.6303012865</td>\n",
       "      <td>0.0</td>\n",
       "    </tr>\n",
       "    <tr>\n",
       "      <th>9</th>\n",
       "      <td>view_2</td>\n",
       "      <td>0.02166164054879549</td>\n",
       "      <td>528654.2884205427</td>\n",
       "      <td>262736.0825303471</td>\n",
       "      <td>7.445130269790443e-105</td>\n",
       "    </tr>\n",
       "    <tr>\n",
       "      <th>10</th>\n",
       "      <td>view_3</td>\n",
       "      <td>0.033463998103144044</td>\n",
       "      <td>529866.5758452271</td>\n",
       "      <td>443418.6210051637</td>\n",
       "      <td>7.305134169157506e-162</td>\n",
       "    </tr>\n",
       "    <tr>\n",
       "      <th>11</th>\n",
       "      <td>view_4</td>\n",
       "      <td>0.09184503444321168</td>\n",
       "      <td>526708.3370770675</td>\n",
       "      <td>925757.5462037026</td>\n",
       "      <td>0.0</td>\n",
       "    </tr>\n",
       "    <tr>\n",
       "      <th>12</th>\n",
       "      <td>zip_98065_98118</td>\n",
       "      <td>0.011042146927206065</td>\n",
       "      <td>516872.70047513465</td>\n",
       "      <td>87041.53231908428</td>\n",
       "      <td>4.401144721400178e-54</td>\n",
       "    </tr>\n",
       "    <tr>\n",
       "      <th>13</th>\n",
       "      <td>yr_built_1951_1975</td>\n",
       "      <td>0.01292405983381073</td>\n",
       "      <td>564753.0363138914</td>\n",
       "      <td>-95772.66133655724</td>\n",
       "      <td>4.761838975113907e-63</td>\n",
       "    </tr>\n",
       "  </tbody>\n",
       "</table>\n",
       "</div>"
      ],
      "text/plain": [
       "          ind_variable             r_squared           intercept  \\\n",
       "0             bedrooms   0.08930778187151367     540296.57350555   \n",
       "1            bathrooms   0.20804705711136307   540296.5735056186   \n",
       "2          sqft_living   0.37434638211628024   540296.5735055346   \n",
       "3               floors   0.07107554943811967   540296.5735055888   \n",
       "4                grade    0.4034187855248441   540296.5735056235   \n",
       "5           sqft_above    0.2944966711903163   540296.5735055308   \n",
       "6        sqft_living15    0.2957494403114088    540296.573505502   \n",
       "7       waterfront_yes   0.06985780990281953   532286.2219943125   \n",
       "8               view_0   0.12690920998946864   937800.3446969793   \n",
       "9               view_2   0.02166164054879549   528654.2884205427   \n",
       "10              view_3  0.033463998103144044   529866.5758452271   \n",
       "11              view_4   0.09184503444321168   526708.3370770675   \n",
       "12     zip_98065_98118  0.011042146927206065  516872.70047513465   \n",
       "13  yr_built_1951_1975   0.01292405983381073   564753.0363138914   \n",
       "\n",
       "                 slope                 p-value  \n",
       "0   109783.25072856745                     0.0  \n",
       "1   167560.72209570906                     0.0  \n",
       "2   224764.77761276957                     0.0  \n",
       "3     97938.0713953911                     0.0  \n",
       "4    233329.4157617904                     0.0  \n",
       "5   199357.06438928295                     0.0  \n",
       "6   199780.64020348393                     0.0  \n",
       "7   1184928.5040330947                     0.0  \n",
       "8   -440589.6303012865                     0.0  \n",
       "9    262736.0825303471  7.445130269790443e-105  \n",
       "10   443418.6210051637  7.305134169157506e-162  \n",
       "11   925757.5462037026                     0.0  \n",
       "12   87041.53231908428   4.401144721400178e-54  \n",
       "13  -95772.66133655724   4.761838975113907e-63  "
      ]
     },
     "execution_count": 77,
     "metadata": {},
     "output_type": "execute_result"
    }
   ],
   "source": [
    "kc_df"
   ]
  },
  {
   "cell_type": "code",
   "execution_count": 78,
   "metadata": {},
   "outputs": [
    {
     "data": {
      "image/png": "[encoded data removed]",
      "text/plain": [
       "<Figure size 432x288 with 2 Axes>"
      ]
     },
     "metadata": {},
     "output_type": "display_data"
    }
   ],
   "source": [
    "kc_pred= kc.iloc[:,1:]\n",
    "sns.heatmap(kc_pred.corr(), center=0);"
   ]
  },
  {
   "cell_type": "code",
   "execution_count": 79,
   "metadata": {},
   "outputs": [],
   "source": [
    "#pairs of collinearity from visual:\n",
    "#sqft_living : sqft_above\n",
    "#waterfront_yes : view_4\n",
    "\n",
    "#sqft_living_rsquared > sqft_above_rsquared\n",
    "#view_4 > waterfront_yes"
   ]
  },
  {
   "cell_type": "code",
   "execution_count": 80,
   "metadata": {},
   "outputs": [],
   "source": [
    "kc = kc.drop(['sqft_above', 'waterfront_yes'], axis = 1)"
   ]
  },
  {
   "cell_type": "code",
   "execution_count": 81,
   "metadata": {},
   "outputs": [
    {
     "data": {
      "image/png": "[encoded data removed]",
      "text/plain": [
       "<Figure size 432x288 with 2 Axes>"
      ]
     },
     "metadata": {},
     "output_type": "display_data"
    }
   ],
   "source": [
    "kc_pred= kc.iloc[:,1:]\n",
    "sns.heatmap(kc_pred.corr(), center=0);\n",
    "#less colinearity"
   ]
  },
  {
   "cell_type": "code",
   "execution_count": 82,
   "metadata": {},
   "outputs": [
    {
     "data": {
      "text/html": [
       "<div>\n",
       "<style scoped>\n",
       "    .dataframe tbody tr th:only-of-type {\n",
       "        vertical-align: middle;\n",
       "    }\n",
       "\n",
       "    .dataframe tbody tr th {\n",
       "        vertical-align: top;\n",
       "    }\n",
       "\n",
       "    .dataframe thead th {\n",
       "        text-align: right;\n",
       "    }\n",
       "</style>\n",
       "<table border=\"1\" class=\"dataframe\">\n",
       "  <thead>\n",
       "    <tr style=\"text-align: right;\">\n",
       "      <th></th>\n",
       "      <th>bedrooms</th>\n",
       "      <th>bathrooms</th>\n",
       "      <th>sqft_living</th>\n",
       "      <th>floors</th>\n",
       "      <th>grade</th>\n",
       "      <th>sqft_living15</th>\n",
       "      <th>view_0</th>\n",
       "      <th>view_2</th>\n",
       "      <th>view_3</th>\n",
       "      <th>view_4</th>\n",
       "      <th>zip_98065_98118</th>\n",
       "      <th>yr_built_1951_1975</th>\n",
       "    </tr>\n",
       "  </thead>\n",
       "  <tbody>\n",
       "    <tr>\n",
       "      <th>bedrooms</th>\n",
       "      <td>True</td>\n",
       "      <td>False</td>\n",
       "      <td>False</td>\n",
       "      <td>False</td>\n",
       "      <td>False</td>\n",
       "      <td>False</td>\n",
       "      <td>False</td>\n",
       "      <td>False</td>\n",
       "      <td>False</td>\n",
       "      <td>False</td>\n",
       "      <td>False</td>\n",
       "      <td>False</td>\n",
       "    </tr>\n",
       "    <tr>\n",
       "      <th>bathrooms</th>\n",
       "      <td>False</td>\n",
       "      <td>True</td>\n",
       "      <td>True</td>\n",
       "      <td>False</td>\n",
       "      <td>False</td>\n",
       "      <td>False</td>\n",
       "      <td>False</td>\n",
       "      <td>False</td>\n",
       "      <td>False</td>\n",
       "      <td>False</td>\n",
       "      <td>False</td>\n",
       "      <td>False</td>\n",
       "    </tr>\n",
       "    <tr>\n",
       "      <th>sqft_living</th>\n",
       "      <td>False</td>\n",
       "      <td>True</td>\n",
       "      <td>True</td>\n",
       "      <td>False</td>\n",
       "      <td>False</td>\n",
       "      <td>False</td>\n",
       "      <td>False</td>\n",
       "      <td>False</td>\n",
       "      <td>False</td>\n",
       "      <td>False</td>\n",
       "      <td>False</td>\n",
       "      <td>False</td>\n",
       "    </tr>\n",
       "    <tr>\n",
       "      <th>floors</th>\n",
       "      <td>False</td>\n",
       "      <td>False</td>\n",
       "      <td>False</td>\n",
       "      <td>True</td>\n",
       "      <td>False</td>\n",
       "      <td>False</td>\n",
       "      <td>False</td>\n",
       "      <td>False</td>\n",
       "      <td>False</td>\n",
       "      <td>False</td>\n",
       "      <td>False</td>\n",
       "      <td>False</td>\n",
       "    </tr>\n",
       "    <tr>\n",
       "      <th>grade</th>\n",
       "      <td>False</td>\n",
       "      <td>False</td>\n",
       "      <td>False</td>\n",
       "      <td>False</td>\n",
       "      <td>True</td>\n",
       "      <td>False</td>\n",
       "      <td>False</td>\n",
       "      <td>False</td>\n",
       "      <td>False</td>\n",
       "      <td>False</td>\n",
       "      <td>False</td>\n",
       "      <td>False</td>\n",
       "    </tr>\n",
       "    <tr>\n",
       "      <th>sqft_living15</th>\n",
       "      <td>False</td>\n",
       "      <td>False</td>\n",
       "      <td>False</td>\n",
       "      <td>False</td>\n",
       "      <td>False</td>\n",
       "      <td>True</td>\n",
       "      <td>False</td>\n",
       "      <td>False</td>\n",
       "      <td>False</td>\n",
       "      <td>False</td>\n",
       "      <td>False</td>\n",
       "      <td>False</td>\n",
       "    </tr>\n",
       "    <tr>\n",
       "      <th>view_0</th>\n",
       "      <td>False</td>\n",
       "      <td>False</td>\n",
       "      <td>False</td>\n",
       "      <td>False</td>\n",
       "      <td>False</td>\n",
       "      <td>False</td>\n",
       "      <td>True</td>\n",
       "      <td>False</td>\n",
       "      <td>False</td>\n",
       "      <td>False</td>\n",
       "      <td>False</td>\n",
       "      <td>False</td>\n",
       "    </tr>\n",
       "    <tr>\n",
       "      <th>view_2</th>\n",
       "      <td>False</td>\n",
       "      <td>False</td>\n",
       "      <td>False</td>\n",
       "      <td>False</td>\n",
       "      <td>False</td>\n",
       "      <td>False</td>\n",
       "      <td>False</td>\n",
       "      <td>True</td>\n",
       "      <td>False</td>\n",
       "      <td>False</td>\n",
       "      <td>False</td>\n",
       "      <td>False</td>\n",
       "    </tr>\n",
       "    <tr>\n",
       "      <th>view_3</th>\n",
       "      <td>False</td>\n",
       "      <td>False</td>\n",
       "      <td>False</td>\n",
       "      <td>False</td>\n",
       "      <td>False</td>\n",
       "      <td>False</td>\n",
       "      <td>False</td>\n",
       "      <td>False</td>\n",
       "      <td>True</td>\n",
       "      <td>False</td>\n",
       "      <td>False</td>\n",
       "      <td>False</td>\n",
       "    </tr>\n",
       "    <tr>\n",
       "      <th>view_4</th>\n",
       "      <td>False</td>\n",
       "      <td>False</td>\n",
       "      <td>False</td>\n",
       "      <td>False</td>\n",
       "      <td>False</td>\n",
       "      <td>False</td>\n",
       "      <td>False</td>\n",
       "      <td>False</td>\n",
       "      <td>False</td>\n",
       "      <td>True</td>\n",
       "      <td>False</td>\n",
       "      <td>False</td>\n",
       "    </tr>\n",
       "    <tr>\n",
       "      <th>zip_98065_98118</th>\n",
       "      <td>False</td>\n",
       "      <td>False</td>\n",
       "      <td>False</td>\n",
       "      <td>False</td>\n",
       "      <td>False</td>\n",
       "      <td>False</td>\n",
       "      <td>False</td>\n",
       "      <td>False</td>\n",
       "      <td>False</td>\n",
       "      <td>False</td>\n",
       "      <td>True</td>\n",
       "      <td>False</td>\n",
       "    </tr>\n",
       "    <tr>\n",
       "      <th>yr_built_1951_1975</th>\n",
       "      <td>False</td>\n",
       "      <td>False</td>\n",
       "      <td>False</td>\n",
       "      <td>False</td>\n",
       "      <td>False</td>\n",
       "      <td>False</td>\n",
       "      <td>False</td>\n",
       "      <td>False</td>\n",
       "      <td>False</td>\n",
       "      <td>False</td>\n",
       "      <td>False</td>\n",
       "      <td>True</td>\n",
       "    </tr>\n",
       "  </tbody>\n",
       "</table>\n",
       "</div>"
      ],
      "text/plain": [
       "                    bedrooms  bathrooms  sqft_living  floors  grade  \\\n",
       "bedrooms                True      False        False   False  False   \n",
       "bathrooms              False       True         True   False  False   \n",
       "sqft_living            False       True         True   False  False   \n",
       "floors                 False      False        False    True  False   \n",
       "grade                  False      False        False   False   True   \n",
       "sqft_living15          False      False        False   False  False   \n",
       "view_0                 False      False        False   False  False   \n",
       "view_2                 False      False        False   False  False   \n",
       "view_3                 False      False        False   False  False   \n",
       "view_4                 False      False        False   False  False   \n",
       "zip_98065_98118        False      False        False   False  False   \n",
       "yr_built_1951_1975     False      False        False   False  False   \n",
       "\n",
       "                    sqft_living15  view_0  view_2  view_3  view_4  \\\n",
       "bedrooms                    False   False   False   False   False   \n",
       "bathrooms                   False   False   False   False   False   \n",
       "sqft_living                 False   False   False   False   False   \n",
       "floors                      False   False   False   False   False   \n",
       "grade                       False   False   False   False   False   \n",
       "sqft_living15                True   False   False   False   False   \n",
       "view_0                      False    True   False   False   False   \n",
       "view_2                      False   False    True   False   False   \n",
       "view_3                      False   False   False    True   False   \n",
       "view_4                      False   False   False   False    True   \n",
       "zip_98065_98118             False   False   False   False   False   \n",
       "yr_built_1951_1975          False   False   False   False   False   \n",
       "\n",
       "                    zip_98065_98118  yr_built_1951_1975  \n",
       "bedrooms                      False               False  \n",
       "bathrooms                     False               False  \n",
       "sqft_living                   False               False  \n",
       "floors                        False               False  \n",
       "grade                         False               False  \n",
       "sqft_living15                 False               False  \n",
       "view_0                        False               False  \n",
       "view_2                        False               False  \n",
       "view_3                        False               False  \n",
       "view_4                        False               False  \n",
       "zip_98065_98118                True               False  \n",
       "yr_built_1951_1975            False                True  "
      ]
     },
     "execution_count": 82,
     "metadata": {},
     "output_type": "execute_result"
    }
   ],
   "source": [
    "abs(kc_pred.corr()) > .75"
   ]
  },
  {
   "cell_type": "code",
   "execution_count": 83,
   "metadata": {},
   "outputs": [],
   "source": [
    "#pairs of colinearity from plot:\n",
    "# bathrooms and sqft_living\n",
    "# grade and sqft_living \n",
    "#sqfit_living15 and sqft_living"
   ]
  },
  {
   "cell_type": "code",
   "execution_count": 84,
   "metadata": {},
   "outputs": [],
   "source": [
    "#drop sqft_living\n",
    "kc = kc.drop(['sqft_living'], axis = 1)"
   ]
  },
  {
   "cell_type": "code",
   "execution_count": 85,
   "metadata": {},
   "outputs": [
    {
     "data": {
      "image/png": "[encoded data removed]",
      "text/plain": [
       "<Figure size 432x288 with 2 Axes>"
      ]
     },
     "metadata": {},
     "output_type": "display_data"
    }
   ],
   "source": [
    "kc_pred= kc.iloc[:,1:]\n",
    "sns.heatmap(kc_pred.corr(), center=0);\n",
    "#less colinearity"
   ]
  },
  {
   "cell_type": "code",
   "execution_count": 86,
   "metadata": {},
   "outputs": [
    {
     "data": {
      "text/html": [
       "<div>\n",
       "<style scoped>\n",
       "    .dataframe tbody tr th:only-of-type {\n",
       "        vertical-align: middle;\n",
       "    }\n",
       "\n",
       "    .dataframe tbody tr th {\n",
       "        vertical-align: top;\n",
       "    }\n",
       "\n",
       "    .dataframe thead th {\n",
       "        text-align: right;\n",
       "    }\n",
       "</style>\n",
       "<table border=\"1\" class=\"dataframe\">\n",
       "  <thead>\n",
       "    <tr style=\"text-align: right;\">\n",
       "      <th></th>\n",
       "      <th>price</th>\n",
       "      <th>bedrooms</th>\n",
       "      <th>bathrooms</th>\n",
       "      <th>floors</th>\n",
       "      <th>grade</th>\n",
       "      <th>sqft_living15</th>\n",
       "      <th>view_0</th>\n",
       "      <th>view_2</th>\n",
       "      <th>view_3</th>\n",
       "      <th>view_4</th>\n",
       "      <th>zip_98065_98118</th>\n",
       "      <th>yr_built_1951_1975</th>\n",
       "    </tr>\n",
       "  </thead>\n",
       "  <tbody>\n",
       "    <tr>\n",
       "      <th>0</th>\n",
       "      <td>221900.0</td>\n",
       "      <td>-0.279725</td>\n",
       "      <td>-1.726549</td>\n",
       "      <td>-0.960874</td>\n",
       "      <td>-0.525943</td>\n",
       "      <td>-1.035453</td>\n",
       "      <td>1</td>\n",
       "      <td>0</td>\n",
       "      <td>0</td>\n",
       "      <td>0</td>\n",
       "      <td>0</td>\n",
       "      <td>1</td>\n",
       "    </tr>\n",
       "    <tr>\n",
       "      <th>1</th>\n",
       "      <td>538000.0</td>\n",
       "      <td>-0.279725</td>\n",
       "      <td>0.339661</td>\n",
       "      <td>1.006854</td>\n",
       "      <td>-0.525943</td>\n",
       "      <td>-0.326789</td>\n",
       "      <td>1</td>\n",
       "      <td>0</td>\n",
       "      <td>0</td>\n",
       "      <td>0</td>\n",
       "      <td>0</td>\n",
       "      <td>0</td>\n",
       "    </tr>\n",
       "    <tr>\n",
       "      <th>2</th>\n",
       "      <td>180000.0</td>\n",
       "      <td>-1.711651</td>\n",
       "      <td>-1.726549</td>\n",
       "      <td>-0.960874</td>\n",
       "      <td>-1.558145</td>\n",
       "      <td>1.126531</td>\n",
       "      <td>1</td>\n",
       "      <td>0</td>\n",
       "      <td>0</td>\n",
       "      <td>0</td>\n",
       "      <td>0</td>\n",
       "      <td>0</td>\n",
       "    </tr>\n",
       "    <tr>\n",
       "      <th>3</th>\n",
       "      <td>604000.0</td>\n",
       "      <td>0.736243</td>\n",
       "      <td>1.072660</td>\n",
       "      <td>-0.960874</td>\n",
       "      <td>-0.525943</td>\n",
       "      <td>-0.990210</td>\n",
       "      <td>1</td>\n",
       "      <td>0</td>\n",
       "      <td>0</td>\n",
       "      <td>0</td>\n",
       "      <td>0</td>\n",
       "      <td>1</td>\n",
       "    </tr>\n",
       "    <tr>\n",
       "      <th>4</th>\n",
       "      <td>510000.0</td>\n",
       "      <td>-0.279725</td>\n",
       "      <td>0.039555</td>\n",
       "      <td>-0.960874</td>\n",
       "      <td>0.368190</td>\n",
       "      <td>-0.134221</td>\n",
       "      <td>1</td>\n",
       "      <td>0</td>\n",
       "      <td>0</td>\n",
       "      <td>0</td>\n",
       "      <td>1</td>\n",
       "      <td>0</td>\n",
       "    </tr>\n",
       "  </tbody>\n",
       "</table>\n",
       "</div>"
      ],
      "text/plain": [
       "      price  bedrooms  bathrooms    floors     grade  sqft_living15  view_0  \\\n",
       "0  221900.0 -0.279725  -1.726549 -0.960874 -0.525943      -1.035453       1   \n",
       "1  538000.0 -0.279725   0.339661  1.006854 -0.525943      -0.326789       1   \n",
       "2  180000.0 -1.711651  -1.726549 -0.960874 -1.558145       1.126531       1   \n",
       "3  604000.0  0.736243   1.072660 -0.960874 -0.525943      -0.990210       1   \n",
       "4  510000.0 -0.279725   0.039555 -0.960874  0.368190      -0.134221       1   \n",
       "\n",
       "   view_2  view_3  view_4  zip_98065_98118  yr_built_1951_1975  \n",
       "0       0       0       0                0                   1  \n",
       "1       0       0       0                0                   0  \n",
       "2       0       0       0                0                   0  \n",
       "3       0       0       0                0                   1  \n",
       "4       0       0       0                1                   0  "
      ]
     },
     "execution_count": 86,
     "metadata": {},
     "output_type": "execute_result"
    }
   ],
   "source": [
    "kc.head()"
   ]
  },
  {
   "cell_type": "markdown",
   "metadata": {},
   "source": [
    "### Question: Is there too much/too little skewness or kurtosis?"
   ]
  },
  {
   "cell_type": "code",
   "execution_count": 87,
   "metadata": {},
   "outputs": [
    {
     "data": {
      "image/png": "[encoded data removed]",
      "text/plain": [
       "<Figure size 1440x1440 with 12 Axes>"
      ]
     },
     "metadata": {},
     "output_type": "display_data"
    }
   ],
   "source": [
    "#histograms\n",
    "kc.hist(figsize = [20,20])\n",
    "plt.show()"
   ]
  },
  {
   "cell_type": "code",
   "execution_count": 88,
   "metadata": {
    "scrolled": false
   },
   "outputs": [
    {
     "name": "stderr",
     "output_type": "stream",
     "text": [
      "/Users/dgoldstein24/anaconda3/lib/python3.6/site-packages/matplotlib/axes/_axes.py:6462: UserWarning: The 'normed' kwarg is deprecated, and has been replaced by the 'density' kwarg.\n",
      "  warnings.warn(\"The 'normed' kwarg is deprecated, and has been \"\n",
      "/Users/dgoldstein24/anaconda3/lib/python3.6/site-packages/matplotlib/axes/_axes.py:6462: UserWarning: The 'normed' kwarg is deprecated, and has been replaced by the 'density' kwarg.\n",
      "  warnings.warn(\"The 'normed' kwarg is deprecated, and has been \"\n"
     ]
    },
    {
     "data": {
      "image/png": "[encoded data removed]",
      "text/plain": [
       "<Figure size 432x432 with 3 Axes>"
      ]
     },
     "metadata": {},
     "output_type": "display_data"
    },
    {
     "name": "stdout",
     "output_type": "stream",
     "text": [
      "s: -0.68051645921866\n",
      "k: 2.0511000609073093\n"
     ]
    },
    {
     "name": "stderr",
     "output_type": "stream",
     "text": [
      "/Users/dgoldstein24/anaconda3/lib/python3.6/site-packages/matplotlib/axes/_axes.py:6462: UserWarning: The 'normed' kwarg is deprecated, and has been replaced by the 'density' kwarg.\n",
      "  warnings.warn(\"The 'normed' kwarg is deprecated, and has been \"\n",
      "/Users/dgoldstein24/anaconda3/lib/python3.6/site-packages/matplotlib/axes/_axes.py:6462: UserWarning: The 'normed' kwarg is deprecated, and has been replaced by the 'density' kwarg.\n",
      "  warnings.warn(\"The 'normed' kwarg is deprecated, and has been \"\n"
     ]
    },
    {
     "data": {
      "image/png": "[encoded data removed]",
      "text/plain": [
       "<Figure size 432x432 with 3 Axes>"
      ]
     },
     "metadata": {},
     "output_type": "display_data"
    },
    {
     "name": "stdout",
     "output_type": "stream",
     "text": [
      "s: -0.4932349556333312\n",
      "k: -0.46397806748693116\n"
     ]
    },
    {
     "name": "stderr",
     "output_type": "stream",
     "text": [
      "/Users/dgoldstein24/anaconda3/lib/python3.6/site-packages/matplotlib/axes/_axes.py:6462: UserWarning: The 'normed' kwarg is deprecated, and has been replaced by the 'density' kwarg.\n",
      "  warnings.warn(\"The 'normed' kwarg is deprecated, and has been \"\n",
      "/Users/dgoldstein24/anaconda3/lib/python3.6/site-packages/matplotlib/axes/_axes.py:6462: UserWarning: The 'normed' kwarg is deprecated, and has been replaced by the 'density' kwarg.\n",
      "  warnings.warn(\"The 'normed' kwarg is deprecated, and has been \"\n"
     ]
    },
    {
     "data": {
      "image/png": "[encoded data removed]",
      "text/plain": [
       "<Figure size 432x432 with 3 Axes>"
      ]
     },
     "metadata": {},
     "output_type": "display_data"
    },
    {
     "name": "stdout",
     "output_type": "stream",
     "text": [
      "s: 0.2742293830652486\n",
      "k: -1.5046299770035119\n"
     ]
    },
    {
     "name": "stderr",
     "output_type": "stream",
     "text": [
      "/Users/dgoldstein24/anaconda3/lib/python3.6/site-packages/matplotlib/axes/_axes.py:6462: UserWarning: The 'normed' kwarg is deprecated, and has been replaced by the 'density' kwarg.\n",
      "  warnings.warn(\"The 'normed' kwarg is deprecated, and has been \"\n",
      "/Users/dgoldstein24/anaconda3/lib/python3.6/site-packages/matplotlib/axes/_axes.py:6462: UserWarning: The 'normed' kwarg is deprecated, and has been replaced by the 'density' kwarg.\n",
      "  warnings.warn(\"The 'normed' kwarg is deprecated, and has been \"\n"
     ]
    },
    {
     "data": {
      "image/png": "[encoded data removed]",
      "text/plain": [
       "<Figure size 432x432 with 3 Axes>"
      ]
     },
     "metadata": {},
     "output_type": "display_data"
    },
    {
     "name": "stdout",
     "output_type": "stream",
     "text": [
      "s: 0.21235955805457055\n",
      "k: 0.7932383493911335\n"
     ]
    },
    {
     "name": "stderr",
     "output_type": "stream",
     "text": [
      "/Users/dgoldstein24/anaconda3/lib/python3.6/site-packages/matplotlib/axes/_axes.py:6462: UserWarning: The 'normed' kwarg is deprecated, and has been replaced by the 'density' kwarg.\n",
      "  warnings.warn(\"The 'normed' kwarg is deprecated, and has been \"\n",
      "/Users/dgoldstein24/anaconda3/lib/python3.6/site-packages/matplotlib/axes/_axes.py:6462: UserWarning: The 'normed' kwarg is deprecated, and has been replaced by the 'density' kwarg.\n",
      "  warnings.warn(\"The 'normed' kwarg is deprecated, and has been \"\n"
     ]
    },
    {
     "data": {
      "image/png": "[encoded data removed]",
      "text/plain": [
       "<Figure size 432x432 with 3 Axes>"
      ]
     },
     "metadata": {},
     "output_type": "display_data"
    },
    {
     "name": "stdout",
     "output_type": "stream",
     "text": [
      "s: 0.20596327075197596\n",
      "k: -0.20828561479785268\n"
     ]
    },
    {
     "name": "stderr",
     "output_type": "stream",
     "text": [
      "/Users/dgoldstein24/anaconda3/lib/python3.6/site-packages/matplotlib/axes/_axes.py:6462: UserWarning: The 'normed' kwarg is deprecated, and has been replaced by the 'density' kwarg.\n",
      "  warnings.warn(\"The 'normed' kwarg is deprecated, and has been \"\n",
      "/Users/dgoldstein24/anaconda3/lib/python3.6/site-packages/matplotlib/axes/_axes.py:6462: UserWarning: The 'normed' kwarg is deprecated, and has been replaced by the 'density' kwarg.\n",
      "  warnings.warn(\"The 'normed' kwarg is deprecated, and has been \"\n"
     ]
    },
    {
     "data": {
      "image/png": "[encoded data removed]",
      "text/plain": [
       "<Figure size 432x432 with 3 Axes>"
      ]
     },
     "metadata": {},
     "output_type": "display_data"
    },
    {
     "name": "stdout",
     "output_type": "stream",
     "text": [
      "s: -2.708180817962708\n",
      "k: 5.334243342781162\n"
     ]
    },
    {
     "name": "stderr",
     "output_type": "stream",
     "text": [
      "/Users/dgoldstein24/anaconda3/lib/python3.6/site-packages/matplotlib/axes/_axes.py:6462: UserWarning: The 'normed' kwarg is deprecated, and has been replaced by the 'density' kwarg.\n",
      "  warnings.warn(\"The 'normed' kwarg is deprecated, and has been \"\n",
      "/Users/dgoldstein24/anaconda3/lib/python3.6/site-packages/matplotlib/axes/_axes.py:6462: UserWarning: The 'normed' kwarg is deprecated, and has been replaced by the 'density' kwarg.\n",
      "  warnings.warn(\"The 'normed' kwarg is deprecated, and has been \"\n"
     ]
    },
    {
     "data": {
      "image/png": "[encoded data removed]",
      "text/plain": [
       "<Figure size 432x432 with 3 Axes>"
      ]
     },
     "metadata": {},
     "output_type": "display_data"
    },
    {
     "name": "stdout",
     "output_type": "stream",
     "text": [
      "s: 4.428742981726531\n",
      "k: 17.613764398192018\n"
     ]
    },
    {
     "name": "stderr",
     "output_type": "stream",
     "text": [
      "/Users/dgoldstein24/anaconda3/lib/python3.6/site-packages/matplotlib/axes/_axes.py:6462: UserWarning: The 'normed' kwarg is deprecated, and has been replaced by the 'density' kwarg.\n",
      "  warnings.warn(\"The 'normed' kwarg is deprecated, and has been \"\n",
      "/Users/dgoldstein24/anaconda3/lib/python3.6/site-packages/matplotlib/axes/_axes.py:6462: UserWarning: The 'normed' kwarg is deprecated, and has been replaced by the 'density' kwarg.\n",
      "  warnings.warn(\"The 'normed' kwarg is deprecated, and has been \"\n"
     ]
    },
    {
     "data": {
      "image/png": "[encoded data removed]",
      "text/plain": [
       "<Figure size 432x432 with 3 Axes>"
      ]
     },
     "metadata": {},
     "output_type": "display_data"
    },
    {
     "name": "stdout",
     "output_type": "stream",
     "text": [
      "s: 6.287914432852122\n",
      "k: 37.53786791487001\n"
     ]
    },
    {
     "name": "stderr",
     "output_type": "stream",
     "text": [
      "/Users/dgoldstein24/anaconda3/lib/python3.6/site-packages/matplotlib/axes/_axes.py:6462: UserWarning: The 'normed' kwarg is deprecated, and has been replaced by the 'density' kwarg.\n",
      "  warnings.warn(\"The 'normed' kwarg is deprecated, and has been \"\n",
      "/Users/dgoldstein24/anaconda3/lib/python3.6/site-packages/matplotlib/axes/_axes.py:6462: UserWarning: The 'normed' kwarg is deprecated, and has been replaced by the 'density' kwarg.\n",
      "  warnings.warn(\"The 'normed' kwarg is deprecated, and has been \"\n"
     ]
    },
    {
     "data": {
      "image/png": "[encoded data removed]",
      "text/plain": [
       "<Figure size 432x432 with 3 Axes>"
      ]
     },
     "metadata": {},
     "output_type": "display_data"
    },
    {
     "name": "stdout",
     "output_type": "stream",
     "text": [
      "s: 8.07119781420165\n",
      "k: 63.14423415597349\n"
     ]
    },
    {
     "name": "stderr",
     "output_type": "stream",
     "text": [
      "/Users/dgoldstein24/anaconda3/lib/python3.6/site-packages/matplotlib/axes/_axes.py:6462: UserWarning: The 'normed' kwarg is deprecated, and has been replaced by the 'density' kwarg.\n",
      "  warnings.warn(\"The 'normed' kwarg is deprecated, and has been \"\n",
      "/Users/dgoldstein24/anaconda3/lib/python3.6/site-packages/matplotlib/axes/_axes.py:6462: UserWarning: The 'normed' kwarg is deprecated, and has been replaced by the 'density' kwarg.\n",
      "  warnings.warn(\"The 'normed' kwarg is deprecated, and has been \"\n"
     ]
    },
    {
     "data": {
      "image/png": "[encoded data removed]",
      "text/plain": [
       "<Figure size 432x432 with 3 Axes>"
      ]
     },
     "metadata": {},
     "output_type": "display_data"
    },
    {
     "name": "stdout",
     "output_type": "stream",
     "text": [
      "s: 1.041215736214381\n",
      "k: -0.9158697906595443\n"
     ]
    },
    {
     "name": "stderr",
     "output_type": "stream",
     "text": [
      "/Users/dgoldstein24/anaconda3/lib/python3.6/site-packages/matplotlib/axes/_axes.py:6462: UserWarning: The 'normed' kwarg is deprecated, and has been replaced by the 'density' kwarg.\n",
      "  warnings.warn(\"The 'normed' kwarg is deprecated, and has been \"\n",
      "/Users/dgoldstein24/anaconda3/lib/python3.6/site-packages/matplotlib/axes/_axes.py:6462: UserWarning: The 'normed' kwarg is deprecated, and has been replaced by the 'density' kwarg.\n",
      "  warnings.warn(\"The 'normed' kwarg is deprecated, and has been \"\n"
     ]
    },
    {
     "data": {
      "image/png": "[encoded data removed]",
      "text/plain": [
       "<Figure size 432x432 with 3 Axes>"
      ]
     },
     "metadata": {},
     "output_type": "display_data"
    },
    {
     "name": "stdout",
     "output_type": "stream",
     "text": [
      "s: 1.1220415001171609\n",
      "k: -0.7410228720148306\n"
     ]
    }
   ],
   "source": [
    "#joint plots with skewness and kurtosis\n",
    "for column in list(kc.columns):\n",
    "    if column != 'price':\n",
    "        sns.jointplot(x = column, y = 'price', data = kc, kind = 'reg', label = column, joint_kws = {'line_kws':{'color':'green'}})\n",
    "        plt.legend()\n",
    "        plt.show()\n",
    "        print('s: ' + str(skew(kc[column])))\n",
    "        print('k: ' + str(kurtosis(kc[column]))\n",
    "             )"
   ]
  },
  {
   "cell_type": "code",
   "execution_count": 89,
   "metadata": {},
   "outputs": [],
   "source": [
    "#strong positive correlation:\n",
    "\n",
    "#bedrooms\n",
    "#grade\n",
    "#sqt_living15\n",
    "#view_4\n",
    "\n",
    "\n",
    "#weak positive correlation:\n",
    "\n",
    "#bathrooms\n",
    "#floors\n",
    "#view_2\n",
    "#view_3\n",
    "#zip_98065_98118\n",
    "\n",
    "\n",
    "#weak negative correlation:\n",
    "\n",
    "#view_0\n",
    "#yr_built_1951_1975\n",
    "\n",
    "\n",
    "#sqft_living is fairly normal\n"
   ]
  },
  {
   "cell_type": "code",
   "execution_count": 90,
   "metadata": {},
   "outputs": [],
   "source": [
    "#skew values for non-categorical columns\n",
    "\n",
    "#weak negative skew:\n",
    "#bedrooms\n",
    "\n",
    "\n",
    "\n",
    "#symmetrical:\n",
    "#bathrooms\n",
    "#floors\n",
    "#grade\n",
    "#sqt_living15"
   ]
  },
  {
   "cell_type": "code",
   "execution_count": 202,
   "metadata": {},
   "outputs": [],
   "source": [
    "#kurtosis for non-categorical columns\n",
    "\n",
    "\n",
    "#Platykurtic (K<3):\n",
    "#bathrooms: negative\n",
    "#grade\n",
    "#sqft_living15: negative\n",
    "\n",
    "\n",
    "#Mesokurtic (K=3):\n",
    "#bedrooms\n",
    "\n",
    "#Leptokurtic (K>3):"
   ]
  },
  {
   "cell_type": "code",
   "execution_count": 203,
   "metadata": {},
   "outputs": [],
   "source": [
    "#Keeping negative Platykurtic for now, might come back to remove them"
   ]
  },
  {
   "cell_type": "code",
   "execution_count": 204,
   "metadata": {},
   "outputs": [
    {
     "data": {
      "text/html": [
       "<div>\n",
       "<style scoped>\n",
       "    .dataframe tbody tr th:only-of-type {\n",
       "        vertical-align: middle;\n",
       "    }\n",
       "\n",
       "    .dataframe tbody tr th {\n",
       "        vertical-align: top;\n",
       "    }\n",
       "\n",
       "    .dataframe thead th {\n",
       "        text-align: right;\n",
       "    }\n",
       "</style>\n",
       "<table border=\"1\" class=\"dataframe\">\n",
       "  <thead>\n",
       "    <tr style=\"text-align: right;\">\n",
       "      <th></th>\n",
       "      <th>price</th>\n",
       "      <th>bedrooms</th>\n",
       "      <th>bathrooms</th>\n",
       "      <th>floors</th>\n",
       "      <th>grade</th>\n",
       "      <th>sqft_living15</th>\n",
       "      <th>view_0</th>\n",
       "      <th>view_2</th>\n",
       "      <th>view_3</th>\n",
       "      <th>view_4</th>\n",
       "      <th>zip_98065_98118</th>\n",
       "      <th>yr_built_1951_1975</th>\n",
       "    </tr>\n",
       "  </thead>\n",
       "  <tbody>\n",
       "    <tr>\n",
       "      <th>0</th>\n",
       "      <td>221900.0</td>\n",
       "      <td>-0.279725</td>\n",
       "      <td>-1.726549</td>\n",
       "      <td>-0.960874</td>\n",
       "      <td>-0.525943</td>\n",
       "      <td>-1.035453</td>\n",
       "      <td>1</td>\n",
       "      <td>0</td>\n",
       "      <td>0</td>\n",
       "      <td>0</td>\n",
       "      <td>0</td>\n",
       "      <td>1</td>\n",
       "    </tr>\n",
       "    <tr>\n",
       "      <th>1</th>\n",
       "      <td>538000.0</td>\n",
       "      <td>-0.279725</td>\n",
       "      <td>0.339661</td>\n",
       "      <td>1.006854</td>\n",
       "      <td>-0.525943</td>\n",
       "      <td>-0.326789</td>\n",
       "      <td>1</td>\n",
       "      <td>0</td>\n",
       "      <td>0</td>\n",
       "      <td>0</td>\n",
       "      <td>0</td>\n",
       "      <td>0</td>\n",
       "    </tr>\n",
       "    <tr>\n",
       "      <th>2</th>\n",
       "      <td>180000.0</td>\n",
       "      <td>-1.711651</td>\n",
       "      <td>-1.726549</td>\n",
       "      <td>-0.960874</td>\n",
       "      <td>-1.558145</td>\n",
       "      <td>1.126531</td>\n",
       "      <td>1</td>\n",
       "      <td>0</td>\n",
       "      <td>0</td>\n",
       "      <td>0</td>\n",
       "      <td>0</td>\n",
       "      <td>0</td>\n",
       "    </tr>\n",
       "    <tr>\n",
       "      <th>3</th>\n",
       "      <td>604000.0</td>\n",
       "      <td>0.736243</td>\n",
       "      <td>1.072660</td>\n",
       "      <td>-0.960874</td>\n",
       "      <td>-0.525943</td>\n",
       "      <td>-0.990210</td>\n",
       "      <td>1</td>\n",
       "      <td>0</td>\n",
       "      <td>0</td>\n",
       "      <td>0</td>\n",
       "      <td>0</td>\n",
       "      <td>1</td>\n",
       "    </tr>\n",
       "    <tr>\n",
       "      <th>4</th>\n",
       "      <td>510000.0</td>\n",
       "      <td>-0.279725</td>\n",
       "      <td>0.039555</td>\n",
       "      <td>-0.960874</td>\n",
       "      <td>0.368190</td>\n",
       "      <td>-0.134221</td>\n",
       "      <td>1</td>\n",
       "      <td>0</td>\n",
       "      <td>0</td>\n",
       "      <td>0</td>\n",
       "      <td>1</td>\n",
       "      <td>0</td>\n",
       "    </tr>\n",
       "  </tbody>\n",
       "</table>\n",
       "</div>"
      ],
      "text/plain": [
       "      price  bedrooms  bathrooms    floors     grade  sqft_living15  view_0  \\\n",
       "0  221900.0 -0.279725  -1.726549 -0.960874 -0.525943      -1.035453       1   \n",
       "1  538000.0 -0.279725   0.339661  1.006854 -0.525943      -0.326789       1   \n",
       "2  180000.0 -1.711651  -1.726549 -0.960874 -1.558145       1.126531       1   \n",
       "3  604000.0  0.736243   1.072660 -0.960874 -0.525943      -0.990210       1   \n",
       "4  510000.0 -0.279725   0.039555 -0.960874  0.368190      -0.134221       1   \n",
       "\n",
       "   view_2  view_3  view_4  zip_98065_98118  yr_built_1951_1975  \n",
       "0       0       0       0                0                   1  \n",
       "1       0       0       0                0                   0  \n",
       "2       0       0       0                0                   0  \n",
       "3       0       0       0                0                   1  \n",
       "4       0       0       0                1                   0  "
      ]
     },
     "execution_count": 204,
     "metadata": {},
     "output_type": "execute_result"
    }
   ],
   "source": [
    "kc.head()"
   ]
  },
  {
   "cell_type": "markdown",
   "metadata": {},
   "source": [
    "### Model Data"
   ]
  },
  {
   "cell_type": "code",
   "execution_count": 205,
   "metadata": {},
   "outputs": [],
   "source": [
    "#model data with all features"
   ]
  },
  {
   "cell_type": "code",
   "execution_count": 206,
   "metadata": {},
   "outputs": [],
   "source": [
    "y = kc['price']\n",
    "X = kc.drop(['price'], axis = 1)\n",
    "linreg = LinearRegression()"
   ]
  },
  {
   "cell_type": "code",
   "execution_count": 207,
   "metadata": {},
   "outputs": [
    {
     "data": {
      "text/plain": [
       "['bedrooms',\n",
       " 'bathrooms',\n",
       " 'floors',\n",
       " 'grade',\n",
       " 'sqft_living15',\n",
       " 'view_0',\n",
       " 'view_2',\n",
       " 'view_3',\n",
       " 'view_4',\n",
       " 'zip_98065_98118',\n",
       " 'yr_built_1951_1975']"
      ]
     },
     "execution_count": 207,
     "metadata": {},
     "output_type": "execute_result"
    }
   ],
   "source": [
    "list(X.columns)"
   ]
  },
  {
   "cell_type": "code",
   "execution_count": 227,
   "metadata": {},
   "outputs": [
    {
     "data": {
      "text/html": [
       "<table class=\"simpletable\">\n",
       "<caption>OLS Regression Results</caption>\n",
       "<tr>\n",
       "  <th>Dep. Variable:</th>          <td>price</td>      <th>  R-squared:         </th>  <td>   0.505</td>  \n",
       "</tr>\n",
       "<tr>\n",
       "  <th>Model:</th>                   <td>OLS</td>       <th>  Adj. R-squared:    </th>  <td>   0.505</td>  \n",
       "</tr>\n",
       "<tr>\n",
       "  <th>Method:</th>             <td>Least Squares</td>  <th>  F-statistic:       </th>  <td>   2000.</td>  \n",
       "</tr>\n",
       "<tr>\n",
       "  <th>Date:</th>             <td>Fri, 30 Nov 2018</td> <th>  Prob (F-statistic):</th>   <td>  0.00</td>   \n",
       "</tr>\n",
       "<tr>\n",
       "  <th>Time:</th>                 <td>13:18:39</td>     <th>  Log-Likelihood:    </th> <td>-2.9980e+05</td>\n",
       "</tr>\n",
       "<tr>\n",
       "  <th>No. Observations:</th>      <td> 21597</td>      <th>  AIC:               </th>  <td>5.996e+05</td> \n",
       "</tr>\n",
       "<tr>\n",
       "  <th>Df Residuals:</th>          <td> 21585</td>      <th>  BIC:               </th>  <td>5.997e+05</td> \n",
       "</tr>\n",
       "<tr>\n",
       "  <th>Df Model:</th>              <td>    11</td>      <th>                     </th>      <td> </td>     \n",
       "</tr>\n",
       "<tr>\n",
       "  <th>Covariance Type:</th>      <td>nonrobust</td>    <th>                     </th>      <td> </td>     \n",
       "</tr>\n",
       "</table>\n",
       "<table class=\"simpletable\">\n",
       "<tr>\n",
       "           <td></td>             <th>coef</th>     <th>std err</th>      <th>t</th>      <th>P>|t|</th>  <th>[0.025</th>    <th>0.975]</th>  \n",
       "</tr>\n",
       "<tr>\n",
       "  <th>Intercept</th>          <td> 6.894e+05</td> <td> 1.44e+04</td> <td>   47.754</td> <td> 0.000</td> <td> 6.61e+05</td> <td> 7.18e+05</td>\n",
       "</tr>\n",
       "<tr>\n",
       "  <th>bedrooms</th>           <td> 1.578e+04</td> <td> 2181.328</td> <td>    7.236</td> <td> 0.000</td> <td> 1.15e+04</td> <td> 2.01e+04</td>\n",
       "</tr>\n",
       "<tr>\n",
       "  <th>bathrooms</th>          <td>  1.32e+04</td> <td> 2736.267</td> <td>    4.825</td> <td> 0.000</td> <td> 7840.300</td> <td> 1.86e+04</td>\n",
       "</tr>\n",
       "<tr>\n",
       "  <th>floors</th>             <td>-1.809e+04</td> <td> 2308.257</td> <td>   -7.838</td> <td> 0.000</td> <td>-2.26e+04</td> <td>-1.36e+04</td>\n",
       "</tr>\n",
       "<tr>\n",
       "  <th>grade</th>              <td> 1.638e+05</td> <td> 2795.035</td> <td>   58.606</td> <td> 0.000</td> <td> 1.58e+05</td> <td> 1.69e+05</td>\n",
       "</tr>\n",
       "<tr>\n",
       "  <th>sqft_living15</th>      <td> 5.816e+04</td> <td> 2556.253</td> <td>   22.751</td> <td> 0.000</td> <td> 5.31e+04</td> <td> 6.32e+04</td>\n",
       "</tr>\n",
       "<tr>\n",
       "  <th>view_0</th>             <td>-1.926e+05</td> <td> 1.44e+04</td> <td>  -13.335</td> <td> 0.000</td> <td>-2.21e+05</td> <td>-1.64e+05</td>\n",
       "</tr>\n",
       "<tr>\n",
       "  <th>view_2</th>             <td>-4.601e+04</td> <td> 1.65e+04</td> <td>   -2.786</td> <td> 0.005</td> <td>-7.84e+04</td> <td>-1.36e+04</td>\n",
       "</tr>\n",
       "<tr>\n",
       "  <th>view_3</th>             <td> 5.688e+04</td> <td> 1.83e+04</td> <td>    3.107</td> <td> 0.002</td> <td>  2.1e+04</td> <td> 9.28e+04</td>\n",
       "</tr>\n",
       "<tr>\n",
       "  <th>view_4</th>             <td> 4.907e+05</td> <td> 2.04e+04</td> <td>   24.069</td> <td> 0.000</td> <td> 4.51e+05</td> <td> 5.31e+05</td>\n",
       "</tr>\n",
       "<tr>\n",
       "  <th>zip_98065_98118</th>    <td> 9.042e+04</td> <td> 4090.991</td> <td>   22.102</td> <td> 0.000</td> <td> 8.24e+04</td> <td> 9.84e+04</td>\n",
       "</tr>\n",
       "<tr>\n",
       "  <th>yr_built_1951_1975</th> <td>-2.422e+04</td> <td> 4686.309</td> <td>   -5.168</td> <td> 0.000</td> <td>-3.34e+04</td> <td> -1.5e+04</td>\n",
       "</tr>\n",
       "</table>\n",
       "<table class=\"simpletable\">\n",
       "<tr>\n",
       "  <th>Omnibus:</th>       <td>20553.173</td> <th>  Durbin-Watson:     </th>  <td>   1.969</td>  \n",
       "</tr>\n",
       "<tr>\n",
       "  <th>Prob(Omnibus):</th>  <td> 0.000</td>   <th>  Jarque-Bera (JB):  </th> <td>2769323.277</td>\n",
       "</tr>\n",
       "<tr>\n",
       "  <th>Skew:</th>           <td> 4.221</td>   <th>  Prob(JB):          </th>  <td>    0.00</td>  \n",
       "</tr>\n",
       "<tr>\n",
       "  <th>Kurtosis:</th>       <td>57.829</td>   <th>  Cond. No.          </th>  <td>    32.5</td>  \n",
       "</tr>\n",
       "</table><br/><br/>Warnings:<br/>[1] Standard Errors assume that the covariance matrix of the errors is correctly specified."
      ],
      "text/plain": [
       "<class 'statsmodels.iolib.summary.Summary'>\n",
       "\"\"\"\n",
       "                            OLS Regression Results                            \n",
       "==============================================================================\n",
       "Dep. Variable:                  price   R-squared:                       0.505\n",
       "Model:                            OLS   Adj. R-squared:                  0.505\n",
       "Method:                 Least Squares   F-statistic:                     2000.\n",
       "Date:                Fri, 30 Nov 2018   Prob (F-statistic):               0.00\n",
       "Time:                        13:18:39   Log-Likelihood:            -2.9980e+05\n",
       "No. Observations:               21597   AIC:                         5.996e+05\n",
       "Df Residuals:                   21585   BIC:                         5.997e+05\n",
       "Df Model:                          11                                         \n",
       "Covariance Type:            nonrobust                                         \n",
       "======================================================================================\n",
       "                         coef    std err          t      P>|t|      [0.025      0.975]\n",
       "--------------------------------------------------------------------------------------\n",
       "Intercept           6.894e+05   1.44e+04     47.754      0.000    6.61e+05    7.18e+05\n",
       "bedrooms            1.578e+04   2181.328      7.236      0.000    1.15e+04    2.01e+04\n",
       "bathrooms            1.32e+04   2736.267      4.825      0.000    7840.300    1.86e+04\n",
       "floors             -1.809e+04   2308.257     -7.838      0.000   -2.26e+04   -1.36e+04\n",
       "grade               1.638e+05   2795.035     58.606      0.000    1.58e+05    1.69e+05\n",
       "sqft_living15       5.816e+04   2556.253     22.751      0.000    5.31e+04    6.32e+04\n",
       "view_0             -1.926e+05   1.44e+04    -13.335      0.000   -2.21e+05   -1.64e+05\n",
       "view_2             -4.601e+04   1.65e+04     -2.786      0.005   -7.84e+04   -1.36e+04\n",
       "view_3              5.688e+04   1.83e+04      3.107      0.002     2.1e+04    9.28e+04\n",
       "view_4              4.907e+05   2.04e+04     24.069      0.000    4.51e+05    5.31e+05\n",
       "zip_98065_98118     9.042e+04   4090.991     22.102      0.000    8.24e+04    9.84e+04\n",
       "yr_built_1951_1975 -2.422e+04   4686.309     -5.168      0.000   -3.34e+04    -1.5e+04\n",
       "==============================================================================\n",
       "Omnibus:                    20553.173   Durbin-Watson:                   1.969\n",
       "Prob(Omnibus):                  0.000   Jarque-Bera (JB):          2769323.277\n",
       "Skew:                           4.221   Prob(JB):                         0.00\n",
       "Kurtosis:                      57.829   Cond. No.                         32.5\n",
       "==============================================================================\n",
       "\n",
       "Warnings:\n",
       "[1] Standard Errors assume that the covariance matrix of the errors is correctly specified.\n",
       "\"\"\""
      ]
     },
     "execution_count": 227,
     "metadata": {},
     "output_type": "execute_result"
    }
   ],
   "source": [
    "features_string = ''\n",
    "for i in list(range(0,len(X.columns))):\n",
    "    if i == 0:\n",
    "        features_string = features_string + str(list(X.columns)[i])\n",
    "    else:\n",
    "        features_string = features_string + ' + ' + str(list(X.columns)[i])\n",
    "f = 'price ~ ' + features_string\n",
    "model = sm.ols(formula = f, data = kc).fit()\n",
    "model.summary()"
   ]
  },
  {
   "cell_type": "code",
   "execution_count": 210,
   "metadata": {},
   "outputs": [],
   "source": [
    "#view_2 and view_3 have higher p-values, and all of the view columns have crazy high standard errors\n",
    "#will check this in model validation"
   ]
  },
  {
   "cell_type": "markdown",
   "metadata": {},
   "source": [
    "### Validating the Model"
   ]
  },
  {
   "cell_type": "code",
   "execution_count": 211,
   "metadata": {},
   "outputs": [],
   "source": [
    "#validating model using all remaining features"
   ]
  },
  {
   "cell_type": "code",
   "execution_count": 212,
   "metadata": {},
   "outputs": [],
   "source": [
    "X_train, X_test, y_train, y_test = train_test_split(X, y, test_size = 0.2, random_state=3)"
   ]
  },
  {
   "cell_type": "code",
   "execution_count": 213,
   "metadata": {},
   "outputs": [
    {
     "name": "stdout",
     "output_type": "stream",
     "text": [
      "65490039389.53065\n",
      "72239265333.16696\n",
      "\n"
     ]
    }
   ],
   "source": [
    "linreg.fit(X_train,y_train)\n",
    "yhat_train = linreg.predict(X_train)\n",
    "yhat_test = linreg.predict(X_test)\n",
    "mse_train = mean_squared_error(y_train, yhat_train)\n",
    "print(mse_train)\n",
    "mse_test = mean_squared_error(y_test, yhat_test)\n",
    "print(mse_test)\n",
    "print(\"\")"
   ]
  },
  {
   "cell_type": "code",
   "execution_count": 214,
   "metadata": {},
   "outputs": [],
   "source": [
    "#check to see if eliminating view columns helps mean squared error - it reduced standard error"
   ]
  },
  {
   "cell_type": "code",
   "execution_count": 231,
   "metadata": {},
   "outputs": [
    {
     "data": {
      "text/html": [
       "<table class=\"simpletable\">\n",
       "<caption>OLS Regression Results</caption>\n",
       "<tr>\n",
       "  <th>Dep. Variable:</th>          <td>price</td>      <th>  R-squared:         </th>  <td>   0.442</td>  \n",
       "</tr>\n",
       "<tr>\n",
       "  <th>Model:</th>                   <td>OLS</td>       <th>  Adj. R-squared:    </th>  <td>   0.442</td>  \n",
       "</tr>\n",
       "<tr>\n",
       "  <th>Method:</th>             <td>Least Squares</td>  <th>  F-statistic:       </th>  <td>   2441.</td>  \n",
       "</tr>\n",
       "<tr>\n",
       "  <th>Date:</th>             <td>Fri, 30 Nov 2018</td> <th>  Prob (F-statistic):</th>   <td>  0.00</td>   \n",
       "</tr>\n",
       "<tr>\n",
       "  <th>Time:</th>                 <td>13:21:20</td>     <th>  Log-Likelihood:    </th> <td>-3.0110e+05</td>\n",
       "</tr>\n",
       "<tr>\n",
       "  <th>No. Observations:</th>      <td> 21597</td>      <th>  AIC:               </th>  <td>6.022e+05</td> \n",
       "</tr>\n",
       "<tr>\n",
       "  <th>Df Residuals:</th>          <td> 21589</td>      <th>  BIC:               </th>  <td>6.023e+05</td> \n",
       "</tr>\n",
       "<tr>\n",
       "  <th>Df Model:</th>              <td>     7</td>      <th>                     </th>      <td> </td>     \n",
       "</tr>\n",
       "<tr>\n",
       "  <th>Covariance Type:</th>      <td>nonrobust</td>    <th>                     </th>      <td> </td>     \n",
       "</tr>\n",
       "</table>\n",
       "<table class=\"simpletable\">\n",
       "<tr>\n",
       "           <td></td>             <th>coef</th>     <th>std err</th>      <th>t</th>      <th>P>|t|</th>  <th>[0.025</th>    <th>0.975]</th>  \n",
       "</tr>\n",
       "<tr>\n",
       "  <th>Intercept</th>          <td>  5.19e+05</td> <td> 2634.915</td> <td>  196.965</td> <td> 0.000</td> <td> 5.14e+05</td> <td> 5.24e+05</td>\n",
       "</tr>\n",
       "<tr>\n",
       "  <th>bedrooms</th>           <td> 7947.5376</td> <td> 2310.196</td> <td>    3.440</td> <td> 0.001</td> <td> 3419.384</td> <td> 1.25e+04</td>\n",
       "</tr>\n",
       "<tr>\n",
       "  <th>bathrooms</th>          <td>   1.7e+04</td> <td> 2903.617</td> <td>    5.854</td> <td> 0.000</td> <td> 1.13e+04</td> <td> 2.27e+04</td>\n",
       "</tr>\n",
       "<tr>\n",
       "  <th>floors</th>             <td>-2.618e+04</td> <td> 2441.558</td> <td>  -10.723</td> <td> 0.000</td> <td> -3.1e+04</td> <td>-2.14e+04</td>\n",
       "</tr>\n",
       "<tr>\n",
       "  <th>grade</th>              <td> 1.772e+05</td> <td> 2952.786</td> <td>   60.008</td> <td> 0.000</td> <td> 1.71e+05</td> <td> 1.83e+05</td>\n",
       "</tr>\n",
       "<tr>\n",
       "  <th>sqft_living15</th>      <td> 7.619e+04</td> <td> 2681.240</td> <td>   28.415</td> <td> 0.000</td> <td> 7.09e+04</td> <td> 8.14e+04</td>\n",
       "</tr>\n",
       "<tr>\n",
       "  <th>zip_98065_98118</th>    <td> 9.412e+04</td> <td> 4342.398</td> <td>   21.675</td> <td> 0.000</td> <td> 8.56e+04</td> <td> 1.03e+05</td>\n",
       "</tr>\n",
       "<tr>\n",
       "  <th>yr_built_1951_1975</th> <td>-1.573e+04</td> <td> 4971.831</td> <td>   -3.164</td> <td> 0.002</td> <td>-2.55e+04</td> <td>-5987.982</td>\n",
       "</tr>\n",
       "</table>\n",
       "<table class=\"simpletable\">\n",
       "<tr>\n",
       "  <th>Omnibus:</th>       <td>21197.995</td> <th>  Durbin-Watson:     </th>  <td>   1.975</td>  \n",
       "</tr>\n",
       "<tr>\n",
       "  <th>Prob(Omnibus):</th>  <td> 0.000</td>   <th>  Jarque-Bera (JB):  </th> <td>2658091.241</td>\n",
       "</tr>\n",
       "<tr>\n",
       "  <th>Skew:</th>           <td> 4.488</td>   <th>  Prob(JB):          </th>  <td>    0.00</td>  \n",
       "</tr>\n",
       "<tr>\n",
       "  <th>Kurtosis:</th>       <td>56.603</td>   <th>  Cond. No.          </th>  <td>    5.14</td>  \n",
       "</tr>\n",
       "</table><br/><br/>Warnings:<br/>[1] Standard Errors assume that the covariance matrix of the errors is correctly specified."
      ],
      "text/plain": [
       "<class 'statsmodels.iolib.summary.Summary'>\n",
       "\"\"\"\n",
       "                            OLS Regression Results                            \n",
       "==============================================================================\n",
       "Dep. Variable:                  price   R-squared:                       0.442\n",
       "Model:                            OLS   Adj. R-squared:                  0.442\n",
       "Method:                 Least Squares   F-statistic:                     2441.\n",
       "Date:                Fri, 30 Nov 2018   Prob (F-statistic):               0.00\n",
       "Time:                        13:21:20   Log-Likelihood:            -3.0110e+05\n",
       "No. Observations:               21597   AIC:                         6.022e+05\n",
       "Df Residuals:                   21589   BIC:                         6.023e+05\n",
       "Df Model:                           7                                         \n",
       "Covariance Type:            nonrobust                                         \n",
       "======================================================================================\n",
       "                         coef    std err          t      P>|t|      [0.025      0.975]\n",
       "--------------------------------------------------------------------------------------\n",
       "Intercept            5.19e+05   2634.915    196.965      0.000    5.14e+05    5.24e+05\n",
       "bedrooms            7947.5376   2310.196      3.440      0.001    3419.384    1.25e+04\n",
       "bathrooms             1.7e+04   2903.617      5.854      0.000    1.13e+04    2.27e+04\n",
       "floors             -2.618e+04   2441.558    -10.723      0.000    -3.1e+04   -2.14e+04\n",
       "grade               1.772e+05   2952.786     60.008      0.000    1.71e+05    1.83e+05\n",
       "sqft_living15       7.619e+04   2681.240     28.415      0.000    7.09e+04    8.14e+04\n",
       "zip_98065_98118     9.412e+04   4342.398     21.675      0.000    8.56e+04    1.03e+05\n",
       "yr_built_1951_1975 -1.573e+04   4971.831     -3.164      0.002   -2.55e+04   -5987.982\n",
       "==============================================================================\n",
       "Omnibus:                    21197.995   Durbin-Watson:                   1.975\n",
       "Prob(Omnibus):                  0.000   Jarque-Bera (JB):          2658091.241\n",
       "Skew:                           4.488   Prob(JB):                         0.00\n",
       "Kurtosis:                      56.603   Cond. No.                         5.14\n",
       "==============================================================================\n",
       "\n",
       "Warnings:\n",
       "[1] Standard Errors assume that the covariance matrix of the errors is correctly specified.\n",
       "\"\"\""
      ]
     },
     "execution_count": 231,
     "metadata": {},
     "output_type": "execute_result"
    }
   ],
   "source": [
    "f = 'price ~ bedrooms + bathrooms + floors + grade + sqft_living15 + zip_98065_98118 + yr_built_1951_1975'\n",
    "model = sm.ols(formula = f, data = kc).fit()\n",
    "model.summary()"
   ]
  },
  {
   "cell_type": "code",
   "execution_count": null,
   "metadata": {},
   "outputs": [],
   "source": [
    "#lower standard errors but also lower r-squared\n",
    "#might have a dilemna if MSE is lower wihtout view columns - let's check"
   ]
  },
  {
   "cell_type": "code",
   "execution_count": 215,
   "metadata": {},
   "outputs": [
    {
     "name": "stdout",
     "output_type": "stream",
     "text": [
      "73957100981.92123\n",
      "80861481202.15625\n",
      "\n"
     ]
    }
   ],
   "source": [
    "kc_a = kc.drop(['view_0', 'view_2', 'view_3', 'view_4'],axis = 1)\n",
    "\n",
    "y_a = kc_a['price']\n",
    "X_a = kc_a.drop(['price'], axis = 1)\n",
    "linreg = LinearRegression()\n",
    "\n",
    "X_train, X_test, y_train, y_test = train_test_split(X_a, y_a, test_size = 0.2, random_state=3)\n",
    "\n",
    "linreg.fit(X_train,y_train)\n",
    "yhat_train = linreg.predict(X_train)\n",
    "yhat_test = linreg.predict(X_test)\n",
    "mse_train = mean_squared_error(y_train, yhat_train)\n",
    "print(mse_train)\n",
    "mse_test = mean_squared_error(y_test, yhat_test)\n",
    "print(mse_test)\n",
    "print(\"\")"
   ]
  },
  {
   "cell_type": "code",
   "execution_count": 216,
   "metadata": {},
   "outputs": [],
   "source": [
    "#Leaving out the view columns increases MSE -> leave them in\n"
   ]
  },
  {
   "cell_type": "markdown",
   "metadata": {},
   "source": [
    "### Question: Does the model work better without the variables with negative kurtosis?"
   ]
  },
  {
   "cell_type": "code",
   "execution_count": 235,
   "metadata": {},
   "outputs": [
    {
     "data": {
      "text/html": [
       "<table class=\"simpletable\">\n",
       "<caption>OLS Regression Results</caption>\n",
       "<tr>\n",
       "  <th>Dep. Variable:</th>          <td>price</td>      <th>  R-squared:         </th>  <td>   0.491</td>  \n",
       "</tr>\n",
       "<tr>\n",
       "  <th>Model:</th>                   <td>OLS</td>       <th>  Adj. R-squared:    </th>  <td>   0.491</td>  \n",
       "</tr>\n",
       "<tr>\n",
       "  <th>Method:</th>             <td>Least Squares</td>  <th>  F-statistic:       </th>  <td>   2317.</td>  \n",
       "</tr>\n",
       "<tr>\n",
       "  <th>Date:</th>             <td>Fri, 30 Nov 2018</td> <th>  Prob (F-statistic):</th>   <td>  0.00</td>   \n",
       "</tr>\n",
       "<tr>\n",
       "  <th>Time:</th>                 <td>14:09:59</td>     <th>  Log-Likelihood:    </th> <td>-3.0009e+05</td>\n",
       "</tr>\n",
       "<tr>\n",
       "  <th>No. Observations:</th>      <td> 21597</td>      <th>  AIC:               </th>  <td>6.002e+05</td> \n",
       "</tr>\n",
       "<tr>\n",
       "  <th>Df Residuals:</th>          <td> 21587</td>      <th>  BIC:               </th>  <td>6.003e+05</td> \n",
       "</tr>\n",
       "<tr>\n",
       "  <th>Df Model:</th>              <td>     9</td>      <th>                     </th>      <td> </td>     \n",
       "</tr>\n",
       "<tr>\n",
       "  <th>Covariance Type:</th>      <td>nonrobust</td>    <th>                     </th>      <td> </td>     \n",
       "</tr>\n",
       "</table>\n",
       "<table class=\"simpletable\">\n",
       "<tr>\n",
       "           <td></td>             <th>coef</th>     <th>std err</th>      <th>t</th>      <th>P>|t|</th>  <th>[0.025</th>    <th>0.975]</th>  \n",
       "</tr>\n",
       "<tr>\n",
       "  <th>Intercept</th>          <td> 7.193e+05</td> <td> 1.46e+04</td> <td>   49.348</td> <td> 0.000</td> <td> 6.91e+05</td> <td> 7.48e+05</td>\n",
       "</tr>\n",
       "<tr>\n",
       "  <th>bedrooms</th>           <td> 3.121e+04</td> <td> 1986.370</td> <td>   15.712</td> <td> 0.000</td> <td> 2.73e+04</td> <td> 3.51e+04</td>\n",
       "</tr>\n",
       "<tr>\n",
       "  <th>floors</th>             <td>-1.746e+04</td> <td> 2255.326</td> <td>   -7.742</td> <td> 0.000</td> <td>-2.19e+04</td> <td> -1.3e+04</td>\n",
       "</tr>\n",
       "<tr>\n",
       "  <th>grade</th>              <td> 2.035e+05</td> <td> 2220.826</td> <td>   91.648</td> <td> 0.000</td> <td> 1.99e+05</td> <td> 2.08e+05</td>\n",
       "</tr>\n",
       "<tr>\n",
       "  <th>view_0</th>             <td>-2.189e+05</td> <td> 1.46e+04</td> <td>  -15.000</td> <td> 0.000</td> <td>-2.48e+05</td> <td> -1.9e+05</td>\n",
       "</tr>\n",
       "<tr>\n",
       "  <th>view_2</th>             <td>-5.312e+04</td> <td> 1.67e+04</td> <td>   -3.174</td> <td> 0.002</td> <td>-8.59e+04</td> <td>-2.03e+04</td>\n",
       "</tr>\n",
       "<tr>\n",
       "  <th>view_3</th>             <td> 5.748e+04</td> <td> 1.86e+04</td> <td>    3.098</td> <td> 0.002</td> <td> 2.11e+04</td> <td> 9.38e+04</td>\n",
       "</tr>\n",
       "<tr>\n",
       "  <th>view_4</th>             <td> 4.959e+05</td> <td> 2.07e+04</td> <td>   24.002</td> <td> 0.000</td> <td> 4.55e+05</td> <td> 5.36e+05</td>\n",
       "</tr>\n",
       "<tr>\n",
       "  <th>zip_98065_98118</th>    <td> 7.796e+04</td> <td> 4108.409</td> <td>   18.976</td> <td> 0.000</td> <td> 6.99e+04</td> <td>  8.6e+04</td>\n",
       "</tr>\n",
       "<tr>\n",
       "  <th>yr_built_1951_1975</th> <td>-3.427e+04</td> <td> 4710.721</td> <td>   -7.276</td> <td> 0.000</td> <td>-4.35e+04</td> <td> -2.5e+04</td>\n",
       "</tr>\n",
       "</table>\n",
       "<table class=\"simpletable\">\n",
       "<tr>\n",
       "  <th>Omnibus:</th>       <td>20187.031</td> <th>  Durbin-Watson:     </th>  <td>   1.967</td>  \n",
       "</tr>\n",
       "<tr>\n",
       "  <th>Prob(Omnibus):</th>  <td> 0.000</td>   <th>  Jarque-Bera (JB):  </th> <td>2494701.244</td>\n",
       "</tr>\n",
       "<tr>\n",
       "  <th>Skew:</th>           <td> 4.121</td>   <th>  Prob(JB):          </th>  <td>    0.00</td>  \n",
       "</tr>\n",
       "<tr>\n",
       "  <th>Kurtosis:</th>       <td>55.003</td>   <th>  Cond. No.          </th>  <td>    26.8</td>  \n",
       "</tr>\n",
       "</table><br/><br/>Warnings:<br/>[1] Standard Errors assume that the covariance matrix of the errors is correctly specified."
      ],
      "text/plain": [
       "<class 'statsmodels.iolib.summary.Summary'>\n",
       "\"\"\"\n",
       "                            OLS Regression Results                            \n",
       "==============================================================================\n",
       "Dep. Variable:                  price   R-squared:                       0.491\n",
       "Model:                            OLS   Adj. R-squared:                  0.491\n",
       "Method:                 Least Squares   F-statistic:                     2317.\n",
       "Date:                Fri, 30 Nov 2018   Prob (F-statistic):               0.00\n",
       "Time:                        14:09:59   Log-Likelihood:            -3.0009e+05\n",
       "No. Observations:               21597   AIC:                         6.002e+05\n",
       "Df Residuals:                   21587   BIC:                         6.003e+05\n",
       "Df Model:                           9                                         \n",
       "Covariance Type:            nonrobust                                         \n",
       "======================================================================================\n",
       "                         coef    std err          t      P>|t|      [0.025      0.975]\n",
       "--------------------------------------------------------------------------------------\n",
       "Intercept           7.193e+05   1.46e+04     49.348      0.000    6.91e+05    7.48e+05\n",
       "bedrooms            3.121e+04   1986.370     15.712      0.000    2.73e+04    3.51e+04\n",
       "floors             -1.746e+04   2255.326     -7.742      0.000   -2.19e+04    -1.3e+04\n",
       "grade               2.035e+05   2220.826     91.648      0.000    1.99e+05    2.08e+05\n",
       "view_0             -2.189e+05   1.46e+04    -15.000      0.000   -2.48e+05    -1.9e+05\n",
       "view_2             -5.312e+04   1.67e+04     -3.174      0.002   -8.59e+04   -2.03e+04\n",
       "view_3              5.748e+04   1.86e+04      3.098      0.002    2.11e+04    9.38e+04\n",
       "view_4              4.959e+05   2.07e+04     24.002      0.000    4.55e+05    5.36e+05\n",
       "zip_98065_98118     7.796e+04   4108.409     18.976      0.000    6.99e+04     8.6e+04\n",
       "yr_built_1951_1975 -3.427e+04   4710.721     -7.276      0.000   -4.35e+04    -2.5e+04\n",
       "==============================================================================\n",
       "Omnibus:                    20187.031   Durbin-Watson:                   1.967\n",
       "Prob(Omnibus):                  0.000   Jarque-Bera (JB):          2494701.244\n",
       "Skew:                           4.121   Prob(JB):                         0.00\n",
       "Kurtosis:                      55.003   Cond. No.                         26.8\n",
       "==============================================================================\n",
       "\n",
       "Warnings:\n",
       "[1] Standard Errors assume that the covariance matrix of the errors is correctly specified.\n",
       "\"\"\""
      ]
     },
     "execution_count": 235,
     "metadata": {},
     "output_type": "execute_result"
    }
   ],
   "source": [
    "# Try model with variables without negative kurtosis - bathrooms and sqft_living15\n",
    "f = 'price ~ bedrooms + floors + grade  + view_0 + view_2 + view_3 + view_4 + zip_98065_98118 + yr_built_1951_1975'\n",
    "model = sm.ols(formula = f, data = kc).fit()\n",
    "model.summary()"
   ]
  },
  {
   "cell_type": "code",
   "execution_count": 236,
   "metadata": {},
   "outputs": [],
   "source": [
    "#Lower r-squared with all of the features -> go back to the original model"
   ]
  },
  {
   "cell_type": "markdown",
   "metadata": {},
   "source": [
    "# FINAL MODEL"
   ]
  },
  {
   "cell_type": "code",
   "execution_count": 238,
   "metadata": {},
   "outputs": [
    {
     "data": {
      "text/html": [
       "<table class=\"simpletable\">\n",
       "<caption>OLS Regression Results</caption>\n",
       "<tr>\n",
       "  <th>Dep. Variable:</th>          <td>price</td>      <th>  R-squared:         </th>  <td>   0.505</td>  \n",
       "</tr>\n",
       "<tr>\n",
       "  <th>Model:</th>                   <td>OLS</td>       <th>  Adj. R-squared:    </th>  <td>   0.505</td>  \n",
       "</tr>\n",
       "<tr>\n",
       "  <th>Method:</th>             <td>Least Squares</td>  <th>  F-statistic:       </th>  <td>   2000.</td>  \n",
       "</tr>\n",
       "<tr>\n",
       "  <th>Date:</th>             <td>Fri, 30 Nov 2018</td> <th>  Prob (F-statistic):</th>   <td>  0.00</td>   \n",
       "</tr>\n",
       "<tr>\n",
       "  <th>Time:</th>                 <td>14:12:28</td>     <th>  Log-Likelihood:    </th> <td>-2.9980e+05</td>\n",
       "</tr>\n",
       "<tr>\n",
       "  <th>No. Observations:</th>      <td> 21597</td>      <th>  AIC:               </th>  <td>5.996e+05</td> \n",
       "</tr>\n",
       "<tr>\n",
       "  <th>Df Residuals:</th>          <td> 21585</td>      <th>  BIC:               </th>  <td>5.997e+05</td> \n",
       "</tr>\n",
       "<tr>\n",
       "  <th>Df Model:</th>              <td>    11</td>      <th>                     </th>      <td> </td>     \n",
       "</tr>\n",
       "<tr>\n",
       "  <th>Covariance Type:</th>      <td>nonrobust</td>    <th>                     </th>      <td> </td>     \n",
       "</tr>\n",
       "</table>\n",
       "<table class=\"simpletable\">\n",
       "<tr>\n",
       "           <td></td>             <th>coef</th>     <th>std err</th>      <th>t</th>      <th>P>|t|</th>  <th>[0.025</th>    <th>0.975]</th>  \n",
       "</tr>\n",
       "<tr>\n",
       "  <th>Intercept</th>          <td> 6.894e+05</td> <td> 1.44e+04</td> <td>   47.754</td> <td> 0.000</td> <td> 6.61e+05</td> <td> 7.18e+05</td>\n",
       "</tr>\n",
       "<tr>\n",
       "  <th>bedrooms</th>           <td> 1.578e+04</td> <td> 2181.328</td> <td>    7.236</td> <td> 0.000</td> <td> 1.15e+04</td> <td> 2.01e+04</td>\n",
       "</tr>\n",
       "<tr>\n",
       "  <th>bathrooms</th>          <td>  1.32e+04</td> <td> 2736.267</td> <td>    4.825</td> <td> 0.000</td> <td> 7840.300</td> <td> 1.86e+04</td>\n",
       "</tr>\n",
       "<tr>\n",
       "  <th>floors</th>             <td>-1.809e+04</td> <td> 2308.257</td> <td>   -7.838</td> <td> 0.000</td> <td>-2.26e+04</td> <td>-1.36e+04</td>\n",
       "</tr>\n",
       "<tr>\n",
       "  <th>grade</th>              <td> 1.638e+05</td> <td> 2795.035</td> <td>   58.606</td> <td> 0.000</td> <td> 1.58e+05</td> <td> 1.69e+05</td>\n",
       "</tr>\n",
       "<tr>\n",
       "  <th>sqft_living15</th>      <td> 5.816e+04</td> <td> 2556.253</td> <td>   22.751</td> <td> 0.000</td> <td> 5.31e+04</td> <td> 6.32e+04</td>\n",
       "</tr>\n",
       "<tr>\n",
       "  <th>view_0</th>             <td>-1.926e+05</td> <td> 1.44e+04</td> <td>  -13.335</td> <td> 0.000</td> <td>-2.21e+05</td> <td>-1.64e+05</td>\n",
       "</tr>\n",
       "<tr>\n",
       "  <th>view_2</th>             <td>-4.601e+04</td> <td> 1.65e+04</td> <td>   -2.786</td> <td> 0.005</td> <td>-7.84e+04</td> <td>-1.36e+04</td>\n",
       "</tr>\n",
       "<tr>\n",
       "  <th>view_3</th>             <td> 5.688e+04</td> <td> 1.83e+04</td> <td>    3.107</td> <td> 0.002</td> <td>  2.1e+04</td> <td> 9.28e+04</td>\n",
       "</tr>\n",
       "<tr>\n",
       "  <th>view_4</th>             <td> 4.907e+05</td> <td> 2.04e+04</td> <td>   24.069</td> <td> 0.000</td> <td> 4.51e+05</td> <td> 5.31e+05</td>\n",
       "</tr>\n",
       "<tr>\n",
       "  <th>zip_98065_98118</th>    <td> 9.042e+04</td> <td> 4090.991</td> <td>   22.102</td> <td> 0.000</td> <td> 8.24e+04</td> <td> 9.84e+04</td>\n",
       "</tr>\n",
       "<tr>\n",
       "  <th>yr_built_1951_1975</th> <td>-2.422e+04</td> <td> 4686.309</td> <td>   -5.168</td> <td> 0.000</td> <td>-3.34e+04</td> <td> -1.5e+04</td>\n",
       "</tr>\n",
       "</table>\n",
       "<table class=\"simpletable\">\n",
       "<tr>\n",
       "  <th>Omnibus:</th>       <td>20553.173</td> <th>  Durbin-Watson:     </th>  <td>   1.969</td>  \n",
       "</tr>\n",
       "<tr>\n",
       "  <th>Prob(Omnibus):</th>  <td> 0.000</td>   <th>  Jarque-Bera (JB):  </th> <td>2769323.277</td>\n",
       "</tr>\n",
       "<tr>\n",
       "  <th>Skew:</th>           <td> 4.221</td>   <th>  Prob(JB):          </th>  <td>    0.00</td>  \n",
       "</tr>\n",
       "<tr>\n",
       "  <th>Kurtosis:</th>       <td>57.829</td>   <th>  Cond. No.          </th>  <td>    32.5</td>  \n",
       "</tr>\n",
       "</table><br/><br/>Warnings:<br/>[1] Standard Errors assume that the covariance matrix of the errors is correctly specified."
      ],
      "text/plain": [
       "<class 'statsmodels.iolib.summary.Summary'>\n",
       "\"\"\"\n",
       "                            OLS Regression Results                            \n",
       "==============================================================================\n",
       "Dep. Variable:                  price   R-squared:                       0.505\n",
       "Model:                            OLS   Adj. R-squared:                  0.505\n",
       "Method:                 Least Squares   F-statistic:                     2000.\n",
       "Date:                Fri, 30 Nov 2018   Prob (F-statistic):               0.00\n",
       "Time:                        14:12:28   Log-Likelihood:            -2.9980e+05\n",
       "No. Observations:               21597   AIC:                         5.996e+05\n",
       "Df Residuals:                   21585   BIC:                         5.997e+05\n",
       "Df Model:                          11                                         \n",
       "Covariance Type:            nonrobust                                         \n",
       "======================================================================================\n",
       "                         coef    std err          t      P>|t|      [0.025      0.975]\n",
       "--------------------------------------------------------------------------------------\n",
       "Intercept           6.894e+05   1.44e+04     47.754      0.000    6.61e+05    7.18e+05\n",
       "bedrooms            1.578e+04   2181.328      7.236      0.000    1.15e+04    2.01e+04\n",
       "bathrooms            1.32e+04   2736.267      4.825      0.000    7840.300    1.86e+04\n",
       "floors             -1.809e+04   2308.257     -7.838      0.000   -2.26e+04   -1.36e+04\n",
       "grade               1.638e+05   2795.035     58.606      0.000    1.58e+05    1.69e+05\n",
       "sqft_living15       5.816e+04   2556.253     22.751      0.000    5.31e+04    6.32e+04\n",
       "view_0             -1.926e+05   1.44e+04    -13.335      0.000   -2.21e+05   -1.64e+05\n",
       "view_2             -4.601e+04   1.65e+04     -2.786      0.005   -7.84e+04   -1.36e+04\n",
       "view_3              5.688e+04   1.83e+04      3.107      0.002     2.1e+04    9.28e+04\n",
       "view_4              4.907e+05   2.04e+04     24.069      0.000    4.51e+05    5.31e+05\n",
       "zip_98065_98118     9.042e+04   4090.991     22.102      0.000    8.24e+04    9.84e+04\n",
       "yr_built_1951_1975 -2.422e+04   4686.309     -5.168      0.000   -3.34e+04    -1.5e+04\n",
       "==============================================================================\n",
       "Omnibus:                    20553.173   Durbin-Watson:                   1.969\n",
       "Prob(Omnibus):                  0.000   Jarque-Bera (JB):          2769323.277\n",
       "Skew:                           4.221   Prob(JB):                         0.00\n",
       "Kurtosis:                      57.829   Cond. No.                         32.5\n",
       "==============================================================================\n",
       "\n",
       "Warnings:\n",
       "[1] Standard Errors assume that the covariance matrix of the errors is correctly specified.\n",
       "\"\"\""
      ]
     },
     "execution_count": 238,
     "metadata": {},
     "output_type": "execute_result"
    }
   ],
   "source": [
    "features_string = ''\n",
    "for i in list(range(0,len(X.columns))):\n",
    "    if i == 0:\n",
    "        features_string = features_string + str(list(X.columns)[i])\n",
    "    else:\n",
    "        features_string = features_string + ' + ' + str(list(X.columns)[i])\n",
    "f = 'price ~ ' + features_string\n",
    "model = sm.ols(formula = f, data = kc).fit()\n",
    "model.summary()"
   ]
  },
  {
   "cell_type": "markdown",
   "metadata": {},
   "source": [
    "### Validation"
   ]
  },
  {
   "cell_type": "code",
   "execution_count": 222,
   "metadata": {},
   "outputs": [],
   "source": [
    "#Cross Validation"
   ]
  },
  {
   "cell_type": "code",
   "execution_count": 223,
   "metadata": {},
   "outputs": [],
   "source": [
    "#k = 10"
   ]
  },
  {
   "cell_type": "code",
   "execution_count": 224,
   "metadata": {},
   "outputs": [
    {
     "data": {
      "text/plain": [
       "array([-7.10334709e+10, -8.29784604e+10, -6.02402388e+10, -8.85371838e+10,\n",
       "       -5.80075024e+10, -5.86980507e+10, -5.88761195e+10, -5.76302620e+10,\n",
       "       -6.55597240e+10, -7.06822127e+10])"
      ]
     },
     "execution_count": 224,
     "metadata": {},
     "output_type": "execute_result"
    }
   ],
   "source": [
    "cv_results = cv_method(linreg, X, y , cv = 10, scoring = 'neg_mean_squared_error')\n",
    "cv_results"
   ]
  },
  {
   "cell_type": "code",
   "execution_count": 225,
   "metadata": {},
   "outputs": [],
   "source": [
    "# k = number of features (11)"
   ]
  },
  {
   "cell_type": "code",
   "execution_count": 226,
   "metadata": {},
   "outputs": [
    {
     "data": {
      "text/plain": [
       "array([-7.07212398e+10, -8.31774758e+10, -6.63123611e+10, -7.84383081e+10,\n",
       "       -7.34795825e+10, -5.25774006e+10, -5.96255237e+10, -6.21224171e+10,\n",
       "       -5.29169496e+10, -6.75386336e+10, -7.22167082e+10])"
      ]
     },
     "execution_count": 226,
     "metadata": {},
     "output_type": "execute_result"
    }
   ],
   "source": [
    "cv_results = cv_method(linreg, X, y , cv = len(X.columns), scoring = 'neg_mean_squared_error')\n",
    "cv_results"
   ]
  },
  {
   "cell_type": "markdown",
   "metadata": {},
   "source": [
    "### Interpret Model"
   ]
  },
  {
   "cell_type": "markdown",
   "metadata": {},
   "source": [
    "Coefficient 1 - grade: for every increase of 1 unit of grade, the price can be expected to go up $163,800"
   ]
  },
  {
   "cell_type": "markdown",
   "metadata": {},
   "source": [
    "Coefficient 2 - bedrooms: for every increase of 1 unit of bedrooms, the price can be expected to go up $15,780"
   ]
  },
  {
   "cell_type": "markdown",
   "metadata": {},
   "source": [
    "Coefficient 3 - bathrooms: for every increase of 1 unit of bathrooms, the price can be expected to go up $13,200"
   ]
  },
  {
   "cell_type": "markdown",
   "metadata": {},
   "source": [
    "Final Model Explanation: \n",
    "\n",
    "The model explains about 50% of the variance in data. This percentage is not ideal but shows some level of reliability. Views and overall house grade seem to be the most obvious predictors of price. Other factors that would make sense for housing price indicators also have a demonstrable impact such as bedrooms, bathrooms, and square footage. This model was developed primarily by eliminating predictor columns with overly large p-values, too small r-squared values, and colinearity. Models with different combinations of predictor variables were tested but failed to exceed the r-squared values of the final model."
   ]
  },
  {
   "cell_type": "markdown",
   "metadata": {},
   "source": [
    "Approach to project (OSEMiN):\n",
    "\n",
    "The project started out with obtaining data from the Kansas City Housing Data file using Pandas. The bulk of the project consisted of scrubbing, namely binning categorical variables, normalizing numeric variables, and getting rid of null values. The project then moved on to exploring the data, which helped in the process of understandings which categories would be most relevant to the model primarily based on p-value, r-squared value, and multicolinearity. The model itself consisted of a multiple regression; alternatives were tried to see if the r-squared value could be increased. Lastly, the model was intepreted as having the three most obvious precictors of price be different types of views and the overall house grade. Overall, this method was a logical and useful way to break down the data and turn it into a validated model."
   ]
  },
  {
   "cell_type": "markdown",
   "metadata": {},
   "source": []
  }
 ],
 "metadata": {
  "kernelspec": {
   "display_name": "Python 3",
   "language": "python",
   "name": "python3"
  },
  "language_info": {
   "codemirror_mode": {
    "name": "ipython",
    "version": 3
   },
   "file_extension": ".py",
   "mimetype": "text/x-python",
   "name": "python",
   "nbconvert_exporter": "python",
   "pygments_lexer": "ipython3",
   "version": "3.6.5"
  }
 },
 "nbformat": 4,
 "nbformat_minor": 2
}
